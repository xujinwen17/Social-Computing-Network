{
 "cells": [
  {
   "cell_type": "code",
   "execution_count": 1,
   "id": "e565cf95",
   "metadata": {},
   "outputs": [
    {
     "ename": "NameError",
     "evalue": "name 'DataFrame' is not defined",
     "output_type": "error",
     "traceback": [
      "\u001b[0;31m---------------------------------------------------------------------------\u001b[0m",
      "\u001b[0;31mNameError\u001b[0m                                 Traceback (most recent call last)",
      "Cell \u001b[0;32mIn[1], line 3\u001b[0m\n\u001b[1;32m      1\u001b[0m \u001b[38;5;28;01mfrom\u001b[39;00m \u001b[38;5;21;01mpandas\u001b[39;00m \u001b[38;5;28;01mimport\u001b[39;00m read_csv, merge\n\u001b[0;32m----> 3\u001b[0m artist: \u001b[43mDataFrame\u001b[49m \u001b[38;5;241m=\u001b[39m read_csv(\u001b[38;5;124m'\u001b[39m\u001b[38;5;124m../Data/data_by_artist.csv\u001b[39m\u001b[38;5;124m'\u001b[39m)\n\u001b[1;32m      4\u001b[0m influence: DataFrame \u001b[38;5;241m=\u001b[39m read_csv(\u001b[38;5;124m'\u001b[39m\u001b[38;5;124m../Data/influence_data.csv\u001b[39m\u001b[38;5;124m'\u001b[39m)\n",
      "\u001b[0;31mNameError\u001b[0m: name 'DataFrame' is not defined"
     ]
    }
   ],
   "source": [
    "from pandas import read_csv, DataFrame, merge\n",
    "\n",
    "artist: DataFrame = read_csv('../Data/data_by_artist.csv')\n",
    "influence: DataFrame = read_csv('../Data/influence_data.csv')"
   ]
  },
  {
   "cell_type": "code",
   "execution_count": null,
   "id": "51fd10be",
   "metadata": {},
   "outputs": [],
   "source": [
    "influence['influencer_main_genre'].unique()"
   ]
  },
  {
   "cell_type": "code",
   "execution_count": null,
   "id": "9c8048f2",
   "metadata": {},
   "outputs": [],
   "source": [
    "len(influence[(influence['influencer_main_genre'] == 'Unknown') | (influence['follower_main_genre'] == 'Unknown')])"
   ]
  },
  {
   "cell_type": "code",
   "execution_count": null,
   "id": "bfb02285",
   "metadata": {},
   "outputs": [],
   "source": [
    "len(influence)"
   ]
  },
  {
   "cell_type": "code",
   "execution_count": null,
   "id": "80e8871a",
   "metadata": {},
   "outputs": [],
   "source": [
    "influence = influence[(influence['influencer_main_genre'] != 'Unknown') & (influence['follower_main_genre'] != 'Unknown')]"
   ]
  },
  {
   "cell_type": "code",
   "execution_count": null,
   "id": "946aa99d",
   "metadata": {},
   "outputs": [],
   "source": [
    "len(influence)"
   ]
  },
  {
   "cell_type": "code",
   "execution_count": null,
   "id": "d9310e79",
   "metadata": {},
   "outputs": [],
   "source": [
    "artist_id_name = artist.loc[:, ['artist_id', 'artist_name']]\n",
    "influence = merge(influence, artist_id_name, left_on=['influencer_id', 'influencer_name'], right_on=['artist_id', 'artist_name'], how='inner')\n",
    "len(influence)"
   ]
  },
  {
   "cell_type": "code",
   "execution_count": null,
   "id": "2f05ee41",
   "metadata": {},
   "outputs": [],
   "source": [
    "influence = merge(influence, artist_id_name, left_on=['follower_id', 'follower_name'], right_on=['artist_id', 'artist_name'], how='inner')\n",
    "len(influence)"
   ]
  },
  {
   "cell_type": "code",
   "execution_count": null,
   "id": "40770702",
   "metadata": {},
   "outputs": [],
   "source": [
    "influence = influence.iloc[:, :-4]\n",
    "influence.to_csv('filtered-influence.csv', index=False)"
   ]
  }
 ],
 "metadata": {
  "kernelspec": {
   "display_name": "Python 3 (ipykernel)",
   "language": "python",
   "name": "python3"
  },
  "language_info": {
   "codemirror_mode": {
    "name": "ipython",
    "version": 3
   },
   "file_extension": ".py",
   "mimetype": "text/x-python",
   "name": "python",
   "nbconvert_exporter": "python",
   "pygments_lexer": "ipython3",
   "version": "3.9.6"
  }
 },
 "nbformat": 4,
 "nbformat_minor": 5
}
