{
 "cells": [
  {
   "cell_type": "code",
   "execution_count": 1,
   "id": "e565cf95",
   "metadata": {},
   "outputs": [],
   "source": [
    "from pandas import read_csv, DataFrame, merge\n",
    "\n",
    "artist: DataFrame = read_csv('data_by_artist.csv')\n",
    "influence: DataFrame = read_csv('influence_data.csv')"
   ]
  },
  {
   "cell_type": "code",
   "execution_count": 2,
   "id": "51fd10be",
   "metadata": {},
   "outputs": [
    {
     "data": {
      "text/plain": [
       "array(['Pop/Rock', 'Electronic', 'Reggae', 'Jazz', 'Country',\n",
       "       'Comedy/Spoken', 'R&B;', 'Classical', 'Latin', 'Vocal', 'Folk',\n",
       "       'Easy Listening', 'International', 'Avant-Garde', 'Blues',\n",
       "       'Stage & Screen', 'New Age', 'Religious', \"Children's\", 'Unknown'],\n",
       "      dtype=object)"
      ]
     },
     "execution_count": 2,
     "metadata": {},
     "output_type": "execute_result"
    }
   ],
   "source": [
    "influence['influencer_main_genre'].unique()"
   ]
  },
  {
   "cell_type": "code",
   "execution_count": 3,
   "id": "9c8048f2",
   "metadata": {},
   "outputs": [
    {
     "data": {
      "text/plain": [
       "11"
      ]
     },
     "execution_count": 3,
     "metadata": {},
     "output_type": "execute_result"
    }
   ],
   "source": [
    "len(influence[(influence['influencer_main_genre'] == 'Unknown') | (influence['follower_main_genre'] == 'Unknown')])"
   ]
  },
  {
   "cell_type": "code",
   "execution_count": 4,
   "id": "6ed2a92f",
   "metadata": {},
   "outputs": [],
   "source": [
    "drop1 = influence[(influence['influencer_main_genre'] == 'Unknown') | (influence['follower_main_genre'] == 'Unknown')]"
   ]
  },
  {
   "cell_type": "code",
   "execution_count": 5,
   "id": "a059308d",
   "metadata": {},
   "outputs": [],
   "source": [
    "drop1 = influence[influence['influencer_main_genre'] == 'Unknown']\n",
    "drop2 = influence[influence['follower_main_genre'] == 'Unknown']"
   ]
  },
  {
   "cell_type": "code",
   "execution_count": 6,
   "id": "228bdbe6",
   "metadata": {},
   "outputs": [],
   "source": [
    "drop1 = drop1['influencer_id']\n",
    "drop2 = drop2['follower_id']"
   ]
  },
  {
   "cell_type": "code",
   "execution_count": 7,
   "id": "bea0051c",
   "metadata": {},
   "outputs": [],
   "source": [
    "drop = set(list(drop1)+list(drop2)+[893383,303506,957340])"
   ]
  },
  {
   "cell_type": "code",
   "execution_count": 8,
   "id": "1f953b49",
   "metadata": {},
   "outputs": [],
   "source": [
    "drop_list = list(drop)"
   ]
  },
  {
   "cell_type": "code",
   "execution_count": 9,
   "id": "d7b59a8d",
   "metadata": {},
   "outputs": [
    {
     "data": {
      "text/plain": [
       "[893383, 119058, 487219, 303506, 957340, 620126]"
      ]
     },
     "execution_count": 9,
     "metadata": {},
     "output_type": "execute_result"
    }
   ],
   "source": [
    "drop_list"
   ]
  },
  {
   "cell_type": "code",
   "execution_count": 266,
   "id": "82e517ad",
   "metadata": {
    "scrolled": true
   },
   "outputs": [
    {
     "data": {
      "text/plain": [
       "42770"
      ]
     },
     "execution_count": 266,
     "metadata": {},
     "output_type": "execute_result"
    }
   ],
   "source": [
    "len(influence)"
   ]
  },
  {
   "cell_type": "code",
   "execution_count": 267,
   "id": "80e8871a",
   "metadata": {},
   "outputs": [],
   "source": [
    "influence = influence[~(influence['influencer_id'].isin(drop_list))]\n",
    "influence = influence[~(influence['follower_id'].isin(drop_list))]"
   ]
  },
  {
   "cell_type": "code",
   "execution_count": 268,
   "id": "3967568f",
   "metadata": {},
   "outputs": [
    {
     "data": {
      "text/plain": [
       "42678"
      ]
     },
     "execution_count": 268,
     "metadata": {},
     "output_type": "execute_result"
    }
   ],
   "source": [
    "len(influence)"
   ]
  },
  {
   "cell_type": "code",
   "execution_count": 269,
   "id": "d9310e79",
   "metadata": {},
   "outputs": [
    {
     "data": {
      "text/plain": [
       "42033"
      ]
     },
     "execution_count": 269,
     "metadata": {},
     "output_type": "execute_result"
    }
   ],
   "source": [
    "artist_id_name = artist.loc[:, ['artist_id', 'artist_name']]\n",
    "influence = merge(influence, artist_id_name, left_on=['influencer_id', 'influencer_name'], right_on=['artist_id', 'artist_name'], how='inner')\n",
    "len(influence)"
   ]
  },
  {
   "cell_type": "code",
   "execution_count": 270,
   "id": "2f05ee41",
   "metadata": {},
   "outputs": [
    {
     "data": {
      "text/plain": [
       "41417"
      ]
     },
     "execution_count": 270,
     "metadata": {},
     "output_type": "execute_result"
    }
   ],
   "source": [
    "influence = merge(influence, artist_id_name, left_on=['follower_id', 'follower_name'], right_on=['artist_id', 'artist_name'], how='inner')\n",
    "len(influence)"
   ]
  },
  {
   "cell_type": "code",
   "execution_count": 271,
   "id": "40770702",
   "metadata": {},
   "outputs": [],
   "source": [
    "influence = influence.iloc[:, :-4]\n",
    "influence.to_csv('filtered-influence.csv', index=False)"
   ]
  },
  {
   "cell_type": "code",
   "execution_count": 10,
   "id": "67518036",
   "metadata": {
    "scrolled": true
   },
   "outputs": [
    {
     "data": {
      "text/plain": [
       "6"
      ]
     },
     "execution_count": 10,
     "metadata": {},
     "output_type": "execute_result"
    }
   ],
   "source": [
    "len(artist[(artist['artist_id'].isin(drop_list))])"
   ]
  },
  {
   "cell_type": "code",
   "execution_count": 11,
   "id": "9bda2bc0",
   "metadata": {},
   "outputs": [
    {
     "data": {
      "text/plain": [
       "5848"
      ]
     },
     "execution_count": 11,
     "metadata": {},
     "output_type": "execute_result"
    }
   ],
   "source": [
    "artist = artist[~(artist['artist_id'].isin(drop_list))]\n",
    "len(artist['artist_id'].unique())"
   ]
  },
  {
   "cell_type": "code",
   "execution_count": 274,
   "id": "9a639e05",
   "metadata": {},
   "outputs": [],
   "source": [
    "artist.to_csv('filtered-artist.csv', index=False)"
   ]
  },
  {
   "cell_type": "code",
   "execution_count": null,
   "id": "6a4493ff",
   "metadata": {},
   "outputs": [],
   "source": []
  }
 ],
 "metadata": {
  "kernelspec": {
   "display_name": "Python 3 (ipykernel)",
   "language": "python",
   "name": "python3"
  },
  "language_info": {
   "codemirror_mode": {
    "name": "ipython",
    "version": 3
   },
   "file_extension": ".py",
   "mimetype": "text/x-python",
   "name": "python",
   "nbconvert_exporter": "python",
   "pygments_lexer": "ipython3",
   "version": "3.9.16"
  }
 },
 "nbformat": 4,
 "nbformat_minor": 5
}
