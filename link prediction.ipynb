{
 "cells": [
  {
   "cell_type": "code",
   "execution_count": 1,
   "id": "e0863170",
   "metadata": {
    "colab": {
     "base_uri": "https://localhost:8080/"
    },
    "executionInfo": {
     "elapsed": 17079,
     "status": "ok",
     "timestamp": 1682308141626,
     "user": {
      "displayName": "徐锦雯",
      "userId": "07523249921587303598"
     },
     "user_tz": -480
    },
    "id": "e0863170",
    "outputId": "12e6fe64-9861-4447-eb9e-c22110dea848"
   },
   "outputs": [
    {
     "name": "stdout",
     "output_type": "stream",
     "text": [
      "Requirement already satisfied: torch_geometric in /Users/xujinwen/Conda/lib/python3.9/site-packages (2.3.0)\n",
      "Requirement already satisfied: jinja2 in /Users/xujinwen/Conda/lib/python3.9/site-packages (from torch_geometric) (2.11.3)\n",
      "Requirement already satisfied: scipy in /Users/xujinwen/Conda/lib/python3.9/site-packages (from torch_geometric) (1.9.1)\n",
      "Requirement already satisfied: tqdm in /Users/xujinwen/Conda/lib/python3.9/site-packages (from torch_geometric) (4.64.1)\n",
      "Requirement already satisfied: psutil>=5.8.0 in /Users/xujinwen/Conda/lib/python3.9/site-packages (from torch_geometric) (5.9.0)\n",
      "Requirement already satisfied: numpy in /Users/xujinwen/Conda/lib/python3.9/site-packages (from torch_geometric) (1.21.5)\n",
      "Requirement already satisfied: pyparsing in /Users/xujinwen/Conda/lib/python3.9/site-packages (from torch_geometric) (3.0.9)\n",
      "Requirement already satisfied: scikit-learn in /Users/xujinwen/Conda/lib/python3.9/site-packages (from torch_geometric) (1.1.1)\n",
      "Requirement already satisfied: requests in /Users/xujinwen/Conda/lib/python3.9/site-packages (from torch_geometric) (2.28.1)\n",
      "Requirement already satisfied: MarkupSafe>=0.23 in /Users/xujinwen/Conda/lib/python3.9/site-packages (from jinja2->torch_geometric) (2.0.1)\n",
      "Requirement already satisfied: certifi>=2017.4.17 in /Users/xujinwen/Conda/lib/python3.9/site-packages (from requests->torch_geometric) (2022.9.24)\n",
      "Requirement already satisfied: urllib3<1.27,>=1.21.1 in /Users/xujinwen/Conda/lib/python3.9/site-packages (from requests->torch_geometric) (1.26.11)\n",
      "Requirement already satisfied: charset-normalizer<3,>=2 in /Users/xujinwen/Conda/lib/python3.9/site-packages (from requests->torch_geometric) (2.0.4)\n",
      "Requirement already satisfied: idna<4,>=2.5 in /Users/xujinwen/Conda/lib/python3.9/site-packages (from requests->torch_geometric) (3.3)\n",
      "Requirement already satisfied: joblib>=1.0.0 in /Users/xujinwen/Conda/lib/python3.9/site-packages (from scikit-learn->torch_geometric) (1.1.0)\n",
      "Requirement already satisfied: threadpoolctl>=2.0.0 in /Users/xujinwen/Conda/lib/python3.9/site-packages (from scikit-learn->torch_geometric) (2.2.0)\n",
      "Note: you may need to restart the kernel to use updated packages.\n"
     ]
    }
   ],
   "source": [
    "pip install torch_geometric"
   ]
  },
  {
   "cell_type": "code",
   "execution_count": 4,
   "id": "568effd3",
   "metadata": {
    "id": "568effd3"
   },
   "outputs": [],
   "source": [
    "import pandas as pd\n",
    "import numpy as np \n",
    "import networkx as nx\n",
    "import matplotlib.pyplot as plt\n",
    "import tqdm\n",
    "import seaborn as sns\n",
    "\n",
    "from sklearn.preprocessing import StandardScaler, MinMaxScaler\n",
    "from sklearn.model_selection import train_test_split, cross_val_score\n",
    "from sklearn.metrics import roc_curve, roc_auc_score, accuracy_score, confusion_matrix, f1_score, precision_score, recall_score\n",
    "from sklearn.metrics import classification_report\n",
    "from sklearn.linear_model import LogisticRegression\n",
    "from sklearn.ensemble import RandomForestClassifier\n",
    "from sklearn.svm import SVC\n",
    "from sklearn.tree import DecisionTreeClassifier\n",
    "from sklearn.ensemble import GradientBoostingClassifier\n",
    "from sklearn.neighbors import KNeighborsClassifier\n",
    "from sklearn.ensemble import AdaBoostClassifier\n",
    "\n",
    "import torch\n",
    "from torch import Tensor\n",
    "import torch.nn as nn\n",
    "from torch.nn import Linear\n",
    "import torch.nn.functional as F\n",
    "\n",
    "import torch_geometric\n",
    "from torch_geometric.data import Data\n",
    "from torch_geometric.loader import DataLoader, LinkNeighborLoader\n",
    "import torch_geometric.transforms as T\n",
    "from torch_geometric.nn import SAGEConv, GCNConv, Node2Vec\n",
    "from torch_geometric.utils import to_networkx, negative_sampling, train_test_split_edges"
   ]
  },
  {
   "cell_type": "code",
   "execution_count": 5,
   "id": "bc748e09",
   "metadata": {
    "id": "bc748e09"
   },
   "outputs": [],
   "source": [
    "node_df = pd.read_csv('filtered-artist.csv')\n",
    "edges_df = pd.read_csv('filtered-influence.csv')"
   ]
  },
  {
   "cell_type": "code",
   "execution_count": 6,
   "id": "ac7acf46",
   "metadata": {
    "colab": {
     "base_uri": "https://localhost:8080/",
     "height": 288
    },
    "executionInfo": {
     "elapsed": 17,
     "status": "ok",
     "timestamp": 1682308153892,
     "user": {
      "displayName": "徐锦雯",
      "userId": "07523249921587303598"
     },
     "user_tz": -480
    },
    "id": "ac7acf46",
    "outputId": "175922a1-8b6f-4bb4-d00c-35641497ca08"
   },
   "outputs": [
    {
     "data": {
      "text/html": [
       "<div>\n",
       "<style scoped>\n",
       "    .dataframe tbody tr th:only-of-type {\n",
       "        vertical-align: middle;\n",
       "    }\n",
       "\n",
       "    .dataframe tbody tr th {\n",
       "        vertical-align: top;\n",
       "    }\n",
       "\n",
       "    .dataframe thead th {\n",
       "        text-align: right;\n",
       "    }\n",
       "</style>\n",
       "<table border=\"1\" class=\"dataframe\">\n",
       "  <thead>\n",
       "    <tr style=\"text-align: right;\">\n",
       "      <th></th>\n",
       "      <th>artist_name</th>\n",
       "      <th>artist_id</th>\n",
       "      <th>danceability</th>\n",
       "      <th>energy</th>\n",
       "      <th>valence</th>\n",
       "      <th>tempo</th>\n",
       "      <th>loudness</th>\n",
       "      <th>mode</th>\n",
       "      <th>key</th>\n",
       "      <th>acousticness</th>\n",
       "      <th>instrumentalness</th>\n",
       "      <th>liveness</th>\n",
       "      <th>speechiness</th>\n",
       "      <th>duration_ms</th>\n",
       "      <th>popularity</th>\n",
       "      <th>count</th>\n",
       "    </tr>\n",
       "  </thead>\n",
       "  <tbody>\n",
       "    <tr>\n",
       "      <th>0</th>\n",
       "      <td>Frank Sinatra</td>\n",
       "      <td>792507</td>\n",
       "      <td>0.384478</td>\n",
       "      <td>0.238017</td>\n",
       "      <td>0.364288</td>\n",
       "      <td>110.181698</td>\n",
       "      <td>-14.271141</td>\n",
       "      <td>1</td>\n",
       "      <td>5</td>\n",
       "      <td>0.735648</td>\n",
       "      <td>0.020855</td>\n",
       "      <td>0.232106</td>\n",
       "      <td>0.049614</td>\n",
       "      <td>189179.9255</td>\n",
       "      <td>26.004383</td>\n",
       "      <td>1369</td>\n",
       "    </tr>\n",
       "    <tr>\n",
       "      <th>1</th>\n",
       "      <td>Vladimir Horowitz</td>\n",
       "      <td>119107</td>\n",
       "      <td>0.343210</td>\n",
       "      <td>0.118844</td>\n",
       "      <td>0.225951</td>\n",
       "      <td>94.900679</td>\n",
       "      <td>-23.193418</td>\n",
       "      <td>1</td>\n",
       "      <td>1</td>\n",
       "      <td>0.990070</td>\n",
       "      <td>0.879508</td>\n",
       "      <td>0.183812</td>\n",
       "      <td>0.043360</td>\n",
       "      <td>266541.1251</td>\n",
       "      <td>3.592378</td>\n",
       "      <td>1207</td>\n",
       "    </tr>\n",
       "    <tr>\n",
       "      <th>2</th>\n",
       "      <td>Johnny Cash</td>\n",
       "      <td>816890</td>\n",
       "      <td>0.619803</td>\n",
       "      <td>0.449381</td>\n",
       "      <td>0.680662</td>\n",
       "      <td>115.037747</td>\n",
       "      <td>-11.593104</td>\n",
       "      <td>1</td>\n",
       "      <td>10</td>\n",
       "      <td>0.685637</td>\n",
       "      <td>0.022647</td>\n",
       "      <td>0.242243</td>\n",
       "      <td>0.098216</td>\n",
       "      <td>162279.2672</td>\n",
       "      <td>26.614130</td>\n",
       "      <td>1104</td>\n",
       "    </tr>\n",
       "    <tr>\n",
       "      <th>3</th>\n",
       "      <td>Billie Holiday</td>\n",
       "      <td>79016</td>\n",
       "      <td>0.572637</td>\n",
       "      <td>0.201368</td>\n",
       "      <td>0.498934</td>\n",
       "      <td>109.912172</td>\n",
       "      <td>-13.225966</td>\n",
       "      <td>1</td>\n",
       "      <td>5</td>\n",
       "      <td>0.908499</td>\n",
       "      <td>0.013064</td>\n",
       "      <td>0.217727</td>\n",
       "      <td>0.062432</td>\n",
       "      <td>185131.4530</td>\n",
       "      <td>15.621005</td>\n",
       "      <td>1095</td>\n",
       "    </tr>\n",
       "    <tr>\n",
       "      <th>4</th>\n",
       "      <td>Bob Dylan</td>\n",
       "      <td>66915</td>\n",
       "      <td>0.512598</td>\n",
       "      <td>0.477932</td>\n",
       "      <td>0.551934</td>\n",
       "      <td>126.160149</td>\n",
       "      <td>-11.184330</td>\n",
       "      <td>1</td>\n",
       "      <td>7</td>\n",
       "      <td>0.562567</td>\n",
       "      <td>0.034211</td>\n",
       "      <td>0.308978</td>\n",
       "      <td>0.064535</td>\n",
       "      <td>256713.4203</td>\n",
       "      <td>30.860806</td>\n",
       "      <td>1092</td>\n",
       "    </tr>\n",
       "  </tbody>\n",
       "</table>\n",
       "</div>"
      ],
      "text/plain": [
       "         artist_name  artist_id  danceability    energy   valence       tempo  \\\n",
       "0      Frank Sinatra     792507      0.384478  0.238017  0.364288  110.181698   \n",
       "1  Vladimir Horowitz     119107      0.343210  0.118844  0.225951   94.900679   \n",
       "2        Johnny Cash     816890      0.619803  0.449381  0.680662  115.037747   \n",
       "3     Billie Holiday      79016      0.572637  0.201368  0.498934  109.912172   \n",
       "4          Bob Dylan      66915      0.512598  0.477932  0.551934  126.160149   \n",
       "\n",
       "    loudness  mode  key  acousticness  instrumentalness  liveness  \\\n",
       "0 -14.271141     1    5      0.735648          0.020855  0.232106   \n",
       "1 -23.193418     1    1      0.990070          0.879508  0.183812   \n",
       "2 -11.593104     1   10      0.685637          0.022647  0.242243   \n",
       "3 -13.225966     1    5      0.908499          0.013064  0.217727   \n",
       "4 -11.184330     1    7      0.562567          0.034211  0.308978   \n",
       "\n",
       "   speechiness  duration_ms  popularity  count  \n",
       "0     0.049614  189179.9255   26.004383   1369  \n",
       "1     0.043360  266541.1251    3.592378   1207  \n",
       "2     0.098216  162279.2672   26.614130   1104  \n",
       "3     0.062432  185131.4530   15.621005   1095  \n",
       "4     0.064535  256713.4203   30.860806   1092  "
      ]
     },
     "execution_count": 6,
     "metadata": {},
     "output_type": "execute_result"
    }
   ],
   "source": [
    "node_df.head()"
   ]
  },
  {
   "cell_type": "code",
   "execution_count": 7,
   "id": "a9ed4c47",
   "metadata": {
    "id": "a9ed4c47"
   },
   "outputs": [],
   "source": [
    "df1 = edges_df[['influencer_id', 'influencer_name', 'influencer_main_genre', 'influencer_active_start']]\n",
    "df2 = edges_df[['follower_id','follower_name', 'follower_main_genre', 'follower_active_start']]\n",
    "col_names = ['artist_id', 'artist_name', 'genre', 'active_start_year']\n",
    "df1.columns = col_names\n",
    "df2.columns = col_names\n",
    "df3 = pd.concat([df1, df2], ignore_index=True)"
   ]
  },
  {
   "cell_type": "code",
   "execution_count": 8,
   "id": "dc39a716",
   "metadata": {
    "colab": {
     "base_uri": "https://localhost:8080/"
    },
    "executionInfo": {
     "elapsed": 735,
     "status": "ok",
     "timestamp": 1682308154623,
     "user": {
      "displayName": "徐锦雯",
      "userId": "07523249921587303598"
     },
     "user_tz": -480
    },
    "id": "dc39a716",
    "outputId": "101e6322-1ece-407b-8c38-34f7926c2119"
   },
   "outputs": [
    {
     "name": "stdout",
     "output_type": "stream",
     "text": [
      "<class 'pandas.core.frame.DataFrame'>\n",
      "RangeIndex: 5440 entries, 0 to 5439\n",
      "Data columns (total 4 columns):\n",
      " #   Column             Non-Null Count  Dtype \n",
      "---  ------             --------------  ----- \n",
      " 0   artist_id          5440 non-null   int64 \n",
      " 1   artist_name        5440 non-null   object\n",
      " 2   genre              5440 non-null   object\n",
      " 3   active_start_year  5440 non-null   int64 \n",
      "dtypes: int64(2), object(2)\n",
      "memory usage: 170.1+ KB\n"
     ]
    }
   ],
   "source": [
    "df3 = df3.drop_duplicates().reset_index().drop(columns = ['index'])\n",
    "df3.info()"
   ]
  },
  {
   "cell_type": "code",
   "execution_count": 9,
   "id": "8f94f298",
   "metadata": {
    "id": "8f94f298"
   },
   "outputs": [],
   "source": [
    "node_df = pd.merge(node_df, df3, on = ['artist_id', 'artist_name'],how='left')"
   ]
  },
  {
   "cell_type": "code",
   "execution_count": 10,
   "id": "cf86e24e",
   "metadata": {
    "id": "cf86e24e"
   },
   "outputs": [],
   "source": [
    "node_df['genre'] = node_df['genre'].fillna('unknown')\n",
    "#node_df['active_start_year'].fillna()"
   ]
  },
  {
   "cell_type": "markdown",
   "id": "9bdc318e",
   "metadata": {
    "id": "9bdc318e"
   },
   "source": [
    "## Process Node Attributes"
   ]
  },
  {
   "cell_type": "code",
   "execution_count": 11,
   "id": "e2dc7900",
   "metadata": {
    "id": "e2dc7900"
   },
   "outputs": [],
   "source": [
    "node_df[\"artist_id\"] = node_df[\"artist_id\"].astype(str)\n",
    "#node_df.reset_index(inplace=True)"
   ]
  },
  {
   "cell_type": "code",
   "execution_count": 12,
   "id": "863ae22c",
   "metadata": {
    "id": "863ae22c"
   },
   "outputs": [],
   "source": [
    "# Normalize popularity and follower features\n",
    "node_df[\"popularity_norm\"] = MinMaxScaler().fit_transform(node_df[[\"popularity\"]])\n",
    "node_df[\"log_duration_ms\"] = np.log(node_df[\"duration_ms\"])"
   ]
  },
  {
   "cell_type": "code",
   "execution_count": 13,
   "id": "83f3ba51",
   "metadata": {
    "id": "83f3ba51",
    "scrolled": true
   },
   "outputs": [],
   "source": [
    "node_df[\"year\"] = 2023 - node_df[\"active_start_year\"]"
   ]
  },
  {
   "cell_type": "code",
   "execution_count": 14,
   "id": "d6e3b5dd",
   "metadata": {
    "colab": {
     "base_uri": "https://localhost:8080/",
     "height": 540
    },
    "executionInfo": {
     "elapsed": 9,
     "status": "ok",
     "timestamp": 1682308154625,
     "user": {
      "displayName": "徐锦雯",
      "userId": "07523249921587303598"
     },
     "user_tz": -480
    },
    "id": "d6e3b5dd",
    "outputId": "ec4abc28-9d9e-4ebf-f769-ff8a39fd3774"
   },
   "outputs": [
    {
     "data": {
      "text/html": [
       "<div>\n",
       "<style scoped>\n",
       "    .dataframe tbody tr th:only-of-type {\n",
       "        vertical-align: middle;\n",
       "    }\n",
       "\n",
       "    .dataframe tbody tr th {\n",
       "        vertical-align: top;\n",
       "    }\n",
       "\n",
       "    .dataframe thead th {\n",
       "        text-align: right;\n",
       "    }\n",
       "</style>\n",
       "<table border=\"1\" class=\"dataframe\">\n",
       "  <thead>\n",
       "    <tr style=\"text-align: right;\">\n",
       "      <th></th>\n",
       "      <th>artist_name</th>\n",
       "      <th>artist_id</th>\n",
       "      <th>danceability</th>\n",
       "      <th>energy</th>\n",
       "      <th>valence</th>\n",
       "      <th>tempo</th>\n",
       "      <th>loudness</th>\n",
       "      <th>mode</th>\n",
       "      <th>key</th>\n",
       "      <th>acousticness</th>\n",
       "      <th>...</th>\n",
       "      <th>liveness</th>\n",
       "      <th>speechiness</th>\n",
       "      <th>duration_ms</th>\n",
       "      <th>popularity</th>\n",
       "      <th>count</th>\n",
       "      <th>genre</th>\n",
       "      <th>active_start_year</th>\n",
       "      <th>popularity_norm</th>\n",
       "      <th>log_duration_ms</th>\n",
       "      <th>year</th>\n",
       "    </tr>\n",
       "  </thead>\n",
       "  <tbody>\n",
       "    <tr>\n",
       "      <th>0</th>\n",
       "      <td>Frank Sinatra</td>\n",
       "      <td>792507</td>\n",
       "      <td>0.384478</td>\n",
       "      <td>0.238017</td>\n",
       "      <td>0.364288</td>\n",
       "      <td>110.181698</td>\n",
       "      <td>-14.271141</td>\n",
       "      <td>1</td>\n",
       "      <td>5</td>\n",
       "      <td>0.735648</td>\n",
       "      <td>...</td>\n",
       "      <td>0.232106</td>\n",
       "      <td>0.049614</td>\n",
       "      <td>189179.9255</td>\n",
       "      <td>26.004383</td>\n",
       "      <td>1369</td>\n",
       "      <td>Vocal</td>\n",
       "      <td>1930.0</td>\n",
       "      <td>0.321042</td>\n",
       "      <td>12.150454</td>\n",
       "      <td>93.0</td>\n",
       "    </tr>\n",
       "    <tr>\n",
       "      <th>1</th>\n",
       "      <td>Vladimir Horowitz</td>\n",
       "      <td>119107</td>\n",
       "      <td>0.343210</td>\n",
       "      <td>0.118844</td>\n",
       "      <td>0.225951</td>\n",
       "      <td>94.900679</td>\n",
       "      <td>-23.193418</td>\n",
       "      <td>1</td>\n",
       "      <td>1</td>\n",
       "      <td>0.990070</td>\n",
       "      <td>...</td>\n",
       "      <td>0.183812</td>\n",
       "      <td>0.043360</td>\n",
       "      <td>266541.1251</td>\n",
       "      <td>3.592378</td>\n",
       "      <td>1207</td>\n",
       "      <td>unknown</td>\n",
       "      <td>NaN</td>\n",
       "      <td>0.044350</td>\n",
       "      <td>12.493284</td>\n",
       "      <td>NaN</td>\n",
       "    </tr>\n",
       "    <tr>\n",
       "      <th>2</th>\n",
       "      <td>Johnny Cash</td>\n",
       "      <td>816890</td>\n",
       "      <td>0.619803</td>\n",
       "      <td>0.449381</td>\n",
       "      <td>0.680662</td>\n",
       "      <td>115.037747</td>\n",
       "      <td>-11.593104</td>\n",
       "      <td>1</td>\n",
       "      <td>10</td>\n",
       "      <td>0.685637</td>\n",
       "      <td>...</td>\n",
       "      <td>0.242243</td>\n",
       "      <td>0.098216</td>\n",
       "      <td>162279.2672</td>\n",
       "      <td>26.614130</td>\n",
       "      <td>1104</td>\n",
       "      <td>Country</td>\n",
       "      <td>1950.0</td>\n",
       "      <td>0.328570</td>\n",
       "      <td>11.997074</td>\n",
       "      <td>73.0</td>\n",
       "    </tr>\n",
       "    <tr>\n",
       "      <th>3</th>\n",
       "      <td>Billie Holiday</td>\n",
       "      <td>79016</td>\n",
       "      <td>0.572637</td>\n",
       "      <td>0.201368</td>\n",
       "      <td>0.498934</td>\n",
       "      <td>109.912172</td>\n",
       "      <td>-13.225966</td>\n",
       "      <td>1</td>\n",
       "      <td>5</td>\n",
       "      <td>0.908499</td>\n",
       "      <td>...</td>\n",
       "      <td>0.217727</td>\n",
       "      <td>0.062432</td>\n",
       "      <td>185131.4530</td>\n",
       "      <td>15.621005</td>\n",
       "      <td>1095</td>\n",
       "      <td>Vocal</td>\n",
       "      <td>1930.0</td>\n",
       "      <td>0.192852</td>\n",
       "      <td>12.128821</td>\n",
       "      <td>93.0</td>\n",
       "    </tr>\n",
       "    <tr>\n",
       "      <th>4</th>\n",
       "      <td>Bob Dylan</td>\n",
       "      <td>66915</td>\n",
       "      <td>0.512598</td>\n",
       "      <td>0.477932</td>\n",
       "      <td>0.551934</td>\n",
       "      <td>126.160149</td>\n",
       "      <td>-11.184330</td>\n",
       "      <td>1</td>\n",
       "      <td>7</td>\n",
       "      <td>0.562567</td>\n",
       "      <td>...</td>\n",
       "      <td>0.308978</td>\n",
       "      <td>0.064535</td>\n",
       "      <td>256713.4203</td>\n",
       "      <td>30.860806</td>\n",
       "      <td>1092</td>\n",
       "      <td>Pop/Rock</td>\n",
       "      <td>1960.0</td>\n",
       "      <td>0.380998</td>\n",
       "      <td>12.455716</td>\n",
       "      <td>63.0</td>\n",
       "    </tr>\n",
       "    <tr>\n",
       "      <th>...</th>\n",
       "      <td>...</td>\n",
       "      <td>...</td>\n",
       "      <td>...</td>\n",
       "      <td>...</td>\n",
       "      <td>...</td>\n",
       "      <td>...</td>\n",
       "      <td>...</td>\n",
       "      <td>...</td>\n",
       "      <td>...</td>\n",
       "      <td>...</td>\n",
       "      <td>...</td>\n",
       "      <td>...</td>\n",
       "      <td>...</td>\n",
       "      <td>...</td>\n",
       "      <td>...</td>\n",
       "      <td>...</td>\n",
       "      <td>...</td>\n",
       "      <td>...</td>\n",
       "      <td>...</td>\n",
       "      <td>...</td>\n",
       "      <td>...</td>\n",
       "    </tr>\n",
       "    <tr>\n",
       "      <th>5843</th>\n",
       "      <td>Natalie La Rose</td>\n",
       "      <td>3359519</td>\n",
       "      <td>0.830000</td>\n",
       "      <td>0.520000</td>\n",
       "      <td>0.735000</td>\n",
       "      <td>104.990000</td>\n",
       "      <td>-8.714000</td>\n",
       "      <td>1</td>\n",
       "      <td>0</td>\n",
       "      <td>0.000792</td>\n",
       "      <td>...</td>\n",
       "      <td>0.065600</td>\n",
       "      <td>0.037600</td>\n",
       "      <td>189907.0000</td>\n",
       "      <td>64.000000</td>\n",
       "      <td>1</td>\n",
       "      <td>R&amp;B;</td>\n",
       "      <td>2010.0</td>\n",
       "      <td>0.790123</td>\n",
       "      <td>12.154290</td>\n",
       "      <td>13.0</td>\n",
       "    </tr>\n",
       "    <tr>\n",
       "      <th>5844</th>\n",
       "      <td>Sarah Ross</td>\n",
       "      <td>3381566</td>\n",
       "      <td>0.721000</td>\n",
       "      <td>0.944000</td>\n",
       "      <td>0.626000</td>\n",
       "      <td>85.002000</td>\n",
       "      <td>-5.982000</td>\n",
       "      <td>1</td>\n",
       "      <td>8</td>\n",
       "      <td>0.013000</td>\n",
       "      <td>...</td>\n",
       "      <td>0.320000</td>\n",
       "      <td>0.159000</td>\n",
       "      <td>262760.0000</td>\n",
       "      <td>52.000000</td>\n",
       "      <td>1</td>\n",
       "      <td>Country</td>\n",
       "      <td>2010.0</td>\n",
       "      <td>0.641975</td>\n",
       "      <td>12.478996</td>\n",
       "      <td>13.0</td>\n",
       "    </tr>\n",
       "    <tr>\n",
       "      <th>5845</th>\n",
       "      <td>Rotimi</td>\n",
       "      <td>3410250</td>\n",
       "      <td>0.637000</td>\n",
       "      <td>0.501000</td>\n",
       "      <td>0.431000</td>\n",
       "      <td>103.993000</td>\n",
       "      <td>-6.148000</td>\n",
       "      <td>0</td>\n",
       "      <td>0</td>\n",
       "      <td>0.229000</td>\n",
       "      <td>...</td>\n",
       "      <td>0.099000</td>\n",
       "      <td>0.187000</td>\n",
       "      <td>185461.0000</td>\n",
       "      <td>71.000000</td>\n",
       "      <td>1</td>\n",
       "      <td>R&amp;B;</td>\n",
       "      <td>2010.0</td>\n",
       "      <td>0.876543</td>\n",
       "      <td>12.130600</td>\n",
       "      <td>13.0</td>\n",
       "    </tr>\n",
       "    <tr>\n",
       "      <th>5846</th>\n",
       "      <td>Jillian Jacqueline</td>\n",
       "      <td>3455945</td>\n",
       "      <td>0.547000</td>\n",
       "      <td>0.672000</td>\n",
       "      <td>0.283000</td>\n",
       "      <td>155.791000</td>\n",
       "      <td>-5.023000</td>\n",
       "      <td>1</td>\n",
       "      <td>11</td>\n",
       "      <td>0.304000</td>\n",
       "      <td>...</td>\n",
       "      <td>0.099600</td>\n",
       "      <td>0.049600</td>\n",
       "      <td>213133.0000</td>\n",
       "      <td>58.000000</td>\n",
       "      <td>1</td>\n",
       "      <td>Country</td>\n",
       "      <td>2000.0</td>\n",
       "      <td>0.716049</td>\n",
       "      <td>12.269672</td>\n",
       "      <td>23.0</td>\n",
       "    </tr>\n",
       "    <tr>\n",
       "      <th>5847</th>\n",
       "      <td>Jaira Burns</td>\n",
       "      <td>3639618</td>\n",
       "      <td>0.566000</td>\n",
       "      <td>0.769000</td>\n",
       "      <td>0.385000</td>\n",
       "      <td>170.036000</td>\n",
       "      <td>-4.342000</td>\n",
       "      <td>1</td>\n",
       "      <td>7</td>\n",
       "      <td>0.018300</td>\n",
       "      <td>...</td>\n",
       "      <td>0.108000</td>\n",
       "      <td>0.087200</td>\n",
       "      <td>191100.0000</td>\n",
       "      <td>74.000000</td>\n",
       "      <td>1</td>\n",
       "      <td>Pop/Rock</td>\n",
       "      <td>2010.0</td>\n",
       "      <td>0.913580</td>\n",
       "      <td>12.160552</td>\n",
       "      <td>13.0</td>\n",
       "    </tr>\n",
       "  </tbody>\n",
       "</table>\n",
       "<p>5848 rows × 21 columns</p>\n",
       "</div>"
      ],
      "text/plain": [
       "             artist_name artist_id  danceability    energy   valence  \\\n",
       "0          Frank Sinatra    792507      0.384478  0.238017  0.364288   \n",
       "1      Vladimir Horowitz    119107      0.343210  0.118844  0.225951   \n",
       "2            Johnny Cash    816890      0.619803  0.449381  0.680662   \n",
       "3         Billie Holiday     79016      0.572637  0.201368  0.498934   \n",
       "4              Bob Dylan     66915      0.512598  0.477932  0.551934   \n",
       "...                  ...       ...           ...       ...       ...   \n",
       "5843     Natalie La Rose   3359519      0.830000  0.520000  0.735000   \n",
       "5844          Sarah Ross   3381566      0.721000  0.944000  0.626000   \n",
       "5845              Rotimi   3410250      0.637000  0.501000  0.431000   \n",
       "5846  Jillian Jacqueline   3455945      0.547000  0.672000  0.283000   \n",
       "5847         Jaira Burns   3639618      0.566000  0.769000  0.385000   \n",
       "\n",
       "           tempo   loudness  mode  key  acousticness  ...  liveness  \\\n",
       "0     110.181698 -14.271141     1    5      0.735648  ...  0.232106   \n",
       "1      94.900679 -23.193418     1    1      0.990070  ...  0.183812   \n",
       "2     115.037747 -11.593104     1   10      0.685637  ...  0.242243   \n",
       "3     109.912172 -13.225966     1    5      0.908499  ...  0.217727   \n",
       "4     126.160149 -11.184330     1    7      0.562567  ...  0.308978   \n",
       "...          ...        ...   ...  ...           ...  ...       ...   \n",
       "5843  104.990000  -8.714000     1    0      0.000792  ...  0.065600   \n",
       "5844   85.002000  -5.982000     1    8      0.013000  ...  0.320000   \n",
       "5845  103.993000  -6.148000     0    0      0.229000  ...  0.099000   \n",
       "5846  155.791000  -5.023000     1   11      0.304000  ...  0.099600   \n",
       "5847  170.036000  -4.342000     1    7      0.018300  ...  0.108000   \n",
       "\n",
       "      speechiness  duration_ms  popularity  count     genre active_start_year  \\\n",
       "0        0.049614  189179.9255   26.004383   1369     Vocal            1930.0   \n",
       "1        0.043360  266541.1251    3.592378   1207   unknown               NaN   \n",
       "2        0.098216  162279.2672   26.614130   1104   Country            1950.0   \n",
       "3        0.062432  185131.4530   15.621005   1095     Vocal            1930.0   \n",
       "4        0.064535  256713.4203   30.860806   1092  Pop/Rock            1960.0   \n",
       "...           ...          ...         ...    ...       ...               ...   \n",
       "5843     0.037600  189907.0000   64.000000      1      R&B;            2010.0   \n",
       "5844     0.159000  262760.0000   52.000000      1   Country            2010.0   \n",
       "5845     0.187000  185461.0000   71.000000      1      R&B;            2010.0   \n",
       "5846     0.049600  213133.0000   58.000000      1   Country            2000.0   \n",
       "5847     0.087200  191100.0000   74.000000      1  Pop/Rock            2010.0   \n",
       "\n",
       "      popularity_norm  log_duration_ms  year  \n",
       "0            0.321042        12.150454  93.0  \n",
       "1            0.044350        12.493284   NaN  \n",
       "2            0.328570        11.997074  73.0  \n",
       "3            0.192852        12.128821  93.0  \n",
       "4            0.380998        12.455716  63.0  \n",
       "...               ...              ...   ...  \n",
       "5843         0.790123        12.154290  13.0  \n",
       "5844         0.641975        12.478996  13.0  \n",
       "5845         0.876543        12.130600  13.0  \n",
       "5846         0.716049        12.269672  23.0  \n",
       "5847         0.913580        12.160552  13.0  \n",
       "\n",
       "[5848 rows x 21 columns]"
      ]
     },
     "execution_count": 14,
     "metadata": {},
     "output_type": "execute_result"
    }
   ],
   "source": [
    "# Data on each artist \n",
    "node_df"
   ]
  },
  {
   "cell_type": "code",
   "execution_count": 15,
   "id": "498f4bf7",
   "metadata": {
    "colab": {
     "base_uri": "https://localhost:8080/"
    },
    "executionInfo": {
     "elapsed": 9,
     "status": "ok",
     "timestamp": 1682308154625,
     "user": {
      "displayName": "徐锦雯",
      "userId": "07523249921587303598"
     },
     "user_tz": -480
    },
    "id": "498f4bf7",
    "outputId": "76c2e038-f752-4e4d-d851-703f221ea49e"
   },
   "outputs": [
    {
     "data": {
      "text/plain": [
       "(5848, 21)"
      ]
     },
     "execution_count": 15,
     "metadata": {},
     "output_type": "execute_result"
    }
   ],
   "source": [
    "node_df.shape"
   ]
  },
  {
   "cell_type": "code",
   "execution_count": 16,
   "id": "a9120a23",
   "metadata": {
    "colab": {
     "base_uri": "https://localhost:8080/",
     "height": 364
    },
    "executionInfo": {
     "elapsed": 6,
     "status": "ok",
     "timestamp": 1682308154625,
     "user": {
      "displayName": "徐锦雯",
      "userId": "07523249921587303598"
     },
     "user_tz": -480
    },
    "id": "a9120a23",
    "outputId": "286eaa8c-d3c0-47f3-c8e6-b84d3cbdbcbe"
   },
   "outputs": [
    {
     "data": {
      "text/html": [
       "<div>\n",
       "<style scoped>\n",
       "    .dataframe tbody tr th:only-of-type {\n",
       "        vertical-align: middle;\n",
       "    }\n",
       "\n",
       "    .dataframe tbody tr th {\n",
       "        vertical-align: top;\n",
       "    }\n",
       "\n",
       "    .dataframe thead th {\n",
       "        text-align: right;\n",
       "    }\n",
       "</style>\n",
       "<table border=\"1\" class=\"dataframe\">\n",
       "  <thead>\n",
       "    <tr style=\"text-align: right;\">\n",
       "      <th></th>\n",
       "      <th>danceability</th>\n",
       "      <th>energy</th>\n",
       "      <th>valence</th>\n",
       "      <th>tempo</th>\n",
       "      <th>loudness</th>\n",
       "      <th>mode</th>\n",
       "      <th>key</th>\n",
       "      <th>acousticness</th>\n",
       "      <th>instrumentalness</th>\n",
       "      <th>liveness</th>\n",
       "      <th>speechiness</th>\n",
       "      <th>duration_ms</th>\n",
       "      <th>popularity</th>\n",
       "      <th>count</th>\n",
       "      <th>active_start_year</th>\n",
       "      <th>popularity_norm</th>\n",
       "      <th>log_duration_ms</th>\n",
       "      <th>year</th>\n",
       "    </tr>\n",
       "  </thead>\n",
       "  <tbody>\n",
       "    <tr>\n",
       "      <th>count</th>\n",
       "      <td>5848.000000</td>\n",
       "      <td>5848.000000</td>\n",
       "      <td>5848.000000</td>\n",
       "      <td>5848.000000</td>\n",
       "      <td>5848.000000</td>\n",
       "      <td>5848.000000</td>\n",
       "      <td>5848.000000</td>\n",
       "      <td>5848.000000</td>\n",
       "      <td>5848.000000</td>\n",
       "      <td>5848.000000</td>\n",
       "      <td>5848.000000</td>\n",
       "      <td>5.848000e+03</td>\n",
       "      <td>5848.000000</td>\n",
       "      <td>5848.00000</td>\n",
       "      <td>5440.000000</td>\n",
       "      <td>5848.000000</td>\n",
       "      <td>5848.000000</td>\n",
       "      <td>5440.000000</td>\n",
       "    </tr>\n",
       "    <tr>\n",
       "      <th>mean</th>\n",
       "      <td>0.545409</td>\n",
       "      <td>0.585322</td>\n",
       "      <td>0.545063</td>\n",
       "      <td>120.342607</td>\n",
       "      <td>-9.958473</td>\n",
       "      <td>0.821306</td>\n",
       "      <td>5.514022</td>\n",
       "      <td>0.343748</td>\n",
       "      <td>0.132456</td>\n",
       "      <td>0.195793</td>\n",
       "      <td>0.069708</td>\n",
       "      <td>2.463314e+05</td>\n",
       "      <td>39.589885</td>\n",
       "      <td>33.95212</td>\n",
       "      <td>1975.312500</td>\n",
       "      <td>0.488764</td>\n",
       "      <td>12.369914</td>\n",
       "      <td>47.687500</td>\n",
       "    </tr>\n",
       "    <tr>\n",
       "      <th>std</th>\n",
       "      <td>0.135132</td>\n",
       "      <td>0.216065</td>\n",
       "      <td>0.200264</td>\n",
       "      <td>19.166747</td>\n",
       "      <td>4.180762</td>\n",
       "      <td>0.383128</td>\n",
       "      <td>3.518060</td>\n",
       "      <td>0.294873</td>\n",
       "      <td>0.233617</td>\n",
       "      <td>0.116188</td>\n",
       "      <td>0.075387</td>\n",
       "      <td>8.368608e+04</td>\n",
       "      <td>13.233096</td>\n",
       "      <td>77.85483</td>\n",
       "      <td>19.503248</td>\n",
       "      <td>0.163372</td>\n",
       "      <td>0.289845</td>\n",
       "      <td>19.503248</td>\n",
       "    </tr>\n",
       "    <tr>\n",
       "      <th>min</th>\n",
       "      <td>0.080400</td>\n",
       "      <td>0.001980</td>\n",
       "      <td>0.027850</td>\n",
       "      <td>30.946000</td>\n",
       "      <td>-40.147000</td>\n",
       "      <td>0.000000</td>\n",
       "      <td>0.000000</td>\n",
       "      <td>0.000001</td>\n",
       "      <td>0.000000</td>\n",
       "      <td>0.011600</td>\n",
       "      <td>0.023200</td>\n",
       "      <td>4.570700e+04</td>\n",
       "      <td>0.000000</td>\n",
       "      <td>1.00000</td>\n",
       "      <td>1930.000000</td>\n",
       "      <td>0.000000</td>\n",
       "      <td>10.730007</td>\n",
       "      <td>13.000000</td>\n",
       "    </tr>\n",
       "    <tr>\n",
       "      <th>25%</th>\n",
       "      <td>0.460333</td>\n",
       "      <td>0.430000</td>\n",
       "      <td>0.409617</td>\n",
       "      <td>109.447125</td>\n",
       "      <td>-12.240537</td>\n",
       "      <td>1.000000</td>\n",
       "      <td>2.000000</td>\n",
       "      <td>0.081520</td>\n",
       "      <td>0.000097</td>\n",
       "      <td>0.124989</td>\n",
       "      <td>0.038143</td>\n",
       "      <td>1.972259e+05</td>\n",
       "      <td>32.333333</td>\n",
       "      <td>4.00000</td>\n",
       "      <td>1960.000000</td>\n",
       "      <td>0.399177</td>\n",
       "      <td>12.192105</td>\n",
       "      <td>33.000000</td>\n",
       "    </tr>\n",
       "    <tr>\n",
       "      <th>50%</th>\n",
       "      <td>0.550201</td>\n",
       "      <td>0.597915</td>\n",
       "      <td>0.554000</td>\n",
       "      <td>119.299058</td>\n",
       "      <td>-9.529583</td>\n",
       "      <td>1.000000</td>\n",
       "      <td>6.000000</td>\n",
       "      <td>0.268166</td>\n",
       "      <td>0.008815</td>\n",
       "      <td>0.170000</td>\n",
       "      <td>0.048662</td>\n",
       "      <td>2.349928e+05</td>\n",
       "      <td>40.257835</td>\n",
       "      <td>10.00000</td>\n",
       "      <td>1980.000000</td>\n",
       "      <td>0.497010</td>\n",
       "      <td>12.367310</td>\n",
       "      <td>43.000000</td>\n",
       "    </tr>\n",
       "    <tr>\n",
       "      <th>75%</th>\n",
       "      <td>0.636850</td>\n",
       "      <td>0.750860</td>\n",
       "      <td>0.689000</td>\n",
       "      <td>129.838143</td>\n",
       "      <td>-6.866336</td>\n",
       "      <td>1.000000</td>\n",
       "      <td>9.000000</td>\n",
       "      <td>0.577308</td>\n",
       "      <td>0.143051</td>\n",
       "      <td>0.229383</td>\n",
       "      <td>0.072870</td>\n",
       "      <td>2.762292e+05</td>\n",
       "      <td>48.500000</td>\n",
       "      <td>31.00000</td>\n",
       "      <td>1990.000000</td>\n",
       "      <td>0.598765</td>\n",
       "      <td>12.528986</td>\n",
       "      <td>63.000000</td>\n",
       "    </tr>\n",
       "    <tr>\n",
       "      <th>max</th>\n",
       "      <td>0.962000</td>\n",
       "      <td>0.999500</td>\n",
       "      <td>0.980000</td>\n",
       "      <td>206.680000</td>\n",
       "      <td>1.342000</td>\n",
       "      <td>1.000000</td>\n",
       "      <td>11.000000</td>\n",
       "      <td>0.996000</td>\n",
       "      <td>0.973000</td>\n",
       "      <td>0.973000</td>\n",
       "      <td>0.958000</td>\n",
       "      <td>1.640000e+06</td>\n",
       "      <td>81.000000</td>\n",
       "      <td>1369.00000</td>\n",
       "      <td>2010.000000</td>\n",
       "      <td>1.000000</td>\n",
       "      <td>14.310207</td>\n",
       "      <td>93.000000</td>\n",
       "    </tr>\n",
       "  </tbody>\n",
       "</table>\n",
       "</div>"
      ],
      "text/plain": [
       "       danceability       energy      valence        tempo     loudness  \\\n",
       "count   5848.000000  5848.000000  5848.000000  5848.000000  5848.000000   \n",
       "mean       0.545409     0.585322     0.545063   120.342607    -9.958473   \n",
       "std        0.135132     0.216065     0.200264    19.166747     4.180762   \n",
       "min        0.080400     0.001980     0.027850    30.946000   -40.147000   \n",
       "25%        0.460333     0.430000     0.409617   109.447125   -12.240537   \n",
       "50%        0.550201     0.597915     0.554000   119.299058    -9.529583   \n",
       "75%        0.636850     0.750860     0.689000   129.838143    -6.866336   \n",
       "max        0.962000     0.999500     0.980000   206.680000     1.342000   \n",
       "\n",
       "              mode          key  acousticness  instrumentalness     liveness  \\\n",
       "count  5848.000000  5848.000000   5848.000000       5848.000000  5848.000000   \n",
       "mean      0.821306     5.514022      0.343748          0.132456     0.195793   \n",
       "std       0.383128     3.518060      0.294873          0.233617     0.116188   \n",
       "min       0.000000     0.000000      0.000001          0.000000     0.011600   \n",
       "25%       1.000000     2.000000      0.081520          0.000097     0.124989   \n",
       "50%       1.000000     6.000000      0.268166          0.008815     0.170000   \n",
       "75%       1.000000     9.000000      0.577308          0.143051     0.229383   \n",
       "max       1.000000    11.000000      0.996000          0.973000     0.973000   \n",
       "\n",
       "       speechiness   duration_ms   popularity       count  active_start_year  \\\n",
       "count  5848.000000  5.848000e+03  5848.000000  5848.00000        5440.000000   \n",
       "mean      0.069708  2.463314e+05    39.589885    33.95212        1975.312500   \n",
       "std       0.075387  8.368608e+04    13.233096    77.85483          19.503248   \n",
       "min       0.023200  4.570700e+04     0.000000     1.00000        1930.000000   \n",
       "25%       0.038143  1.972259e+05    32.333333     4.00000        1960.000000   \n",
       "50%       0.048662  2.349928e+05    40.257835    10.00000        1980.000000   \n",
       "75%       0.072870  2.762292e+05    48.500000    31.00000        1990.000000   \n",
       "max       0.958000  1.640000e+06    81.000000  1369.00000        2010.000000   \n",
       "\n",
       "       popularity_norm  log_duration_ms         year  \n",
       "count      5848.000000      5848.000000  5440.000000  \n",
       "mean          0.488764        12.369914    47.687500  \n",
       "std           0.163372         0.289845    19.503248  \n",
       "min           0.000000        10.730007    13.000000  \n",
       "25%           0.399177        12.192105    33.000000  \n",
       "50%           0.497010        12.367310    43.000000  \n",
       "75%           0.598765        12.528986    63.000000  \n",
       "max           1.000000        14.310207    93.000000  "
      ]
     },
     "execution_count": 16,
     "metadata": {},
     "output_type": "execute_result"
    }
   ],
   "source": [
    "node_df.describe()"
   ]
  },
  {
   "cell_type": "code",
   "execution_count": 17,
   "id": "d76882e5",
   "metadata": {
    "colab": {
     "base_uri": "https://localhost:8080/",
     "height": 472
    },
    "executionInfo": {
     "elapsed": 1230,
     "status": "ok",
     "timestamp": 1682308155849,
     "user": {
      "displayName": "徐锦雯",
      "userId": "07523249921587303598"
     },
     "user_tz": -480
    },
    "id": "d76882e5",
    "outputId": "9fd70174-6e7a-404f-a9c5-fac6a40b4310",
    "scrolled": true
   },
   "outputs": [
    {
     "data": {
      "image/png": "[encoded data removed]",
      "text/plain": [
       "<Figure size 640x480 with 1 Axes>"
      ]
     },
     "metadata": {},
     "output_type": "display_data"
    }
   ],
   "source": [
    "# Distribution of artist popularity\n",
    "#node_df[\"popularity\"].hist()\n",
    "from matplotlib.ticker import PercentFormatter\n",
    "\n",
    "plt.hist(node_df[\"popularity\"], weights=np.ones(len(node_df)) / len(node_df), edgecolor='black')\n",
    "plt.gca().yaxis.set_major_formatter(PercentFormatter(1))\n",
    "plt.xlabel(\"Aritist Popularity Score\")\n",
    "plt.title(\"Distribution of Artist Popularity\")\n",
    "plt.show()"
   ]
  },
  {
   "cell_type": "code",
   "execution_count": 18,
   "id": "97546a30",
   "metadata": {
    "colab": {
     "base_uri": "https://localhost:8080/",
     "height": 448
    },
    "executionInfo": {
     "elapsed": 742,
     "status": "ok",
     "timestamp": 1682308156587,
     "user": {
      "displayName": "徐锦雯",
      "userId": "07523249921587303598"
     },
     "user_tz": -480
    },
    "id": "97546a30",
    "outputId": "26b3da81-dc02-49a0-a33a-d9da1139b7c2"
   },
   "outputs": [
    {
     "data": {
      "text/plain": [
       "<AxesSubplot:>"
      ]
     },
     "execution_count": 18,
     "metadata": {},
     "output_type": "execute_result"
    },
    {
     "data": {
      "image/png": "[encoded data removed]",
      "text/plain": [
       "<Figure size 640x480 with 1 Axes>"
      ]
     },
     "metadata": {},
     "output_type": "display_data"
    }
   ],
   "source": [
    "node_df[\"count\"].hist()"
   ]
  },
  {
   "cell_type": "code",
   "execution_count": 19,
   "id": "c4842eb6",
   "metadata": {
    "id": "c4842eb6"
   },
   "outputs": [],
   "source": [
    "node_df['log_count'] = np.log(node_df['count'])"
   ]
  },
  {
   "cell_type": "code",
   "execution_count": 20,
   "id": "283e85be",
   "metadata": {
    "colab": {
     "base_uri": "https://localhost:8080/",
     "height": 448
    },
    "executionInfo": {
     "elapsed": 18,
     "status": "ok",
     "timestamp": 1682308156588,
     "user": {
      "displayName": "徐锦雯",
      "userId": "07523249921587303598"
     },
     "user_tz": -480
    },
    "id": "283e85be",
    "outputId": "a2383dbf-b462-4205-9a27-bfab1c953c8e"
   },
   "outputs": [
    {
     "data": {
      "text/plain": [
       "<AxesSubplot:>"
      ]
     },
     "execution_count": 20,
     "metadata": {},
     "output_type": "execute_result"
    },
    {
     "data": {
      "image/png": "[encoded data removed]",
      "text/plain": [
       "<Figure size 640x480 with 1 Axes>"
      ]
     },
     "metadata": {},
     "output_type": "display_data"
    }
   ],
   "source": [
    "node_df[\"log_count\"].hist()"
   ]
  },
  {
   "cell_type": "code",
   "execution_count": 21,
   "id": "ccdd1ab0",
   "metadata": {
    "id": "ccdd1ab0"
   },
   "outputs": [],
   "source": [
    "follower_num = pd.DataFrame(edges_df.groupby('influencer_id')['influencer_id'].count())\n",
    "follower_num['artist_id'] = follower_num.index.astype(str)\n",
    "follower_num.columns = ['follower_num','artist_id']"
   ]
  },
  {
   "cell_type": "code",
   "execution_count": 22,
   "id": "1878513f",
   "metadata": {
    "id": "1878513f"
   },
   "outputs": [],
   "source": [
    "influencer_num = pd.DataFrame(edges_df.groupby('follower_id')['follower_id'].count())\n",
    "influencer_num['artist_id'] = influencer_num.index.astype(str)\n",
    "influencer_num.columns = ['influencer_num','artist_id']"
   ]
  },
  {
   "cell_type": "code",
   "execution_count": 23,
   "id": "4bd59aed",
   "metadata": {
    "id": "4bd59aed"
   },
   "outputs": [],
   "source": [
    "node_df = pd.merge(node_df,follower_num , on = ['artist_id'],how='left')\n",
    "node_df = pd.merge(node_df,influencer_num , on = ['artist_id'],how='left')"
   ]
  },
  {
   "cell_type": "code",
   "execution_count": 24,
   "id": "622cbecb",
   "metadata": {
    "colab": {
     "base_uri": "https://localhost:8080/",
     "height": 540
    },
    "executionInfo": {
     "elapsed": 11,
     "status": "ok",
     "timestamp": 1682308156588,
     "user": {
      "displayName": "徐锦雯",
      "userId": "07523249921587303598"
     },
     "user_tz": -480
    },
    "id": "622cbecb",
    "outputId": "ec7514c4-a228-4e0a-afe3-e1d285329bae",
    "scrolled": true
   },
   "outputs": [
    {
     "data": {
      "text/html": [
       "<div>\n",
       "<style scoped>\n",
       "    .dataframe tbody tr th:only-of-type {\n",
       "        vertical-align: middle;\n",
       "    }\n",
       "\n",
       "    .dataframe tbody tr th {\n",
       "        vertical-align: top;\n",
       "    }\n",
       "\n",
       "    .dataframe thead th {\n",
       "        text-align: right;\n",
       "    }\n",
       "</style>\n",
       "<table border=\"1\" class=\"dataframe\">\n",
       "  <thead>\n",
       "    <tr style=\"text-align: right;\">\n",
       "      <th></th>\n",
       "      <th>artist_name</th>\n",
       "      <th>artist_id</th>\n",
       "      <th>danceability</th>\n",
       "      <th>energy</th>\n",
       "      <th>valence</th>\n",
       "      <th>tempo</th>\n",
       "      <th>loudness</th>\n",
       "      <th>mode</th>\n",
       "      <th>key</th>\n",
       "      <th>acousticness</th>\n",
       "      <th>...</th>\n",
       "      <th>popularity</th>\n",
       "      <th>count</th>\n",
       "      <th>genre</th>\n",
       "      <th>active_start_year</th>\n",
       "      <th>popularity_norm</th>\n",
       "      <th>log_duration_ms</th>\n",
       "      <th>year</th>\n",
       "      <th>log_count</th>\n",
       "      <th>follower_num</th>\n",
       "      <th>influencer_num</th>\n",
       "    </tr>\n",
       "  </thead>\n",
       "  <tbody>\n",
       "    <tr>\n",
       "      <th>0</th>\n",
       "      <td>Frank Sinatra</td>\n",
       "      <td>792507</td>\n",
       "      <td>0.384478</td>\n",
       "      <td>0.238017</td>\n",
       "      <td>0.364288</td>\n",
       "      <td>110.181698</td>\n",
       "      <td>-14.271141</td>\n",
       "      <td>1</td>\n",
       "      <td>5</td>\n",
       "      <td>0.735648</td>\n",
       "      <td>...</td>\n",
       "      <td>26.004383</td>\n",
       "      <td>1369</td>\n",
       "      <td>Vocal</td>\n",
       "      <td>1930.0</td>\n",
       "      <td>0.321042</td>\n",
       "      <td>12.150454</td>\n",
       "      <td>93.0</td>\n",
       "      <td>7.221836</td>\n",
       "      <td>70.0</td>\n",
       "      <td>9.0</td>\n",
       "    </tr>\n",
       "    <tr>\n",
       "      <th>1</th>\n",
       "      <td>Vladimir Horowitz</td>\n",
       "      <td>119107</td>\n",
       "      <td>0.343210</td>\n",
       "      <td>0.118844</td>\n",
       "      <td>0.225951</td>\n",
       "      <td>94.900679</td>\n",
       "      <td>-23.193418</td>\n",
       "      <td>1</td>\n",
       "      <td>1</td>\n",
       "      <td>0.990070</td>\n",
       "      <td>...</td>\n",
       "      <td>3.592378</td>\n",
       "      <td>1207</td>\n",
       "      <td>unknown</td>\n",
       "      <td>0.0</td>\n",
       "      <td>0.044350</td>\n",
       "      <td>12.493284</td>\n",
       "      <td>0.0</td>\n",
       "      <td>7.095893</td>\n",
       "      <td>0.0</td>\n",
       "      <td>0.0</td>\n",
       "    </tr>\n",
       "    <tr>\n",
       "      <th>2</th>\n",
       "      <td>Johnny Cash</td>\n",
       "      <td>816890</td>\n",
       "      <td>0.619803</td>\n",
       "      <td>0.449381</td>\n",
       "      <td>0.680662</td>\n",
       "      <td>115.037747</td>\n",
       "      <td>-11.593104</td>\n",
       "      <td>1</td>\n",
       "      <td>10</td>\n",
       "      <td>0.685637</td>\n",
       "      <td>...</td>\n",
       "      <td>26.614130</td>\n",
       "      <td>1104</td>\n",
       "      <td>Country</td>\n",
       "      <td>1950.0</td>\n",
       "      <td>0.328570</td>\n",
       "      <td>11.997074</td>\n",
       "      <td>73.0</td>\n",
       "      <td>7.006695</td>\n",
       "      <td>112.0</td>\n",
       "      <td>11.0</td>\n",
       "    </tr>\n",
       "    <tr>\n",
       "      <th>3</th>\n",
       "      <td>Billie Holiday</td>\n",
       "      <td>79016</td>\n",
       "      <td>0.572637</td>\n",
       "      <td>0.201368</td>\n",
       "      <td>0.498934</td>\n",
       "      <td>109.912172</td>\n",
       "      <td>-13.225966</td>\n",
       "      <td>1</td>\n",
       "      <td>5</td>\n",
       "      <td>0.908499</td>\n",
       "      <td>...</td>\n",
       "      <td>15.621005</td>\n",
       "      <td>1095</td>\n",
       "      <td>Vocal</td>\n",
       "      <td>1930.0</td>\n",
       "      <td>0.192852</td>\n",
       "      <td>12.128821</td>\n",
       "      <td>93.0</td>\n",
       "      <td>6.998510</td>\n",
       "      <td>101.0</td>\n",
       "      <td>2.0</td>\n",
       "    </tr>\n",
       "    <tr>\n",
       "      <th>4</th>\n",
       "      <td>Bob Dylan</td>\n",
       "      <td>66915</td>\n",
       "      <td>0.512598</td>\n",
       "      <td>0.477932</td>\n",
       "      <td>0.551934</td>\n",
       "      <td>126.160149</td>\n",
       "      <td>-11.184330</td>\n",
       "      <td>1</td>\n",
       "      <td>7</td>\n",
       "      <td>0.562567</td>\n",
       "      <td>...</td>\n",
       "      <td>30.860806</td>\n",
       "      <td>1092</td>\n",
       "      <td>Pop/Rock</td>\n",
       "      <td>1960.0</td>\n",
       "      <td>0.380998</td>\n",
       "      <td>12.455716</td>\n",
       "      <td>63.0</td>\n",
       "      <td>6.995766</td>\n",
       "      <td>386.0</td>\n",
       "      <td>29.0</td>\n",
       "    </tr>\n",
       "    <tr>\n",
       "      <th>...</th>\n",
       "      <td>...</td>\n",
       "      <td>...</td>\n",
       "      <td>...</td>\n",
       "      <td>...</td>\n",
       "      <td>...</td>\n",
       "      <td>...</td>\n",
       "      <td>...</td>\n",
       "      <td>...</td>\n",
       "      <td>...</td>\n",
       "      <td>...</td>\n",
       "      <td>...</td>\n",
       "      <td>...</td>\n",
       "      <td>...</td>\n",
       "      <td>...</td>\n",
       "      <td>...</td>\n",
       "      <td>...</td>\n",
       "      <td>...</td>\n",
       "      <td>...</td>\n",
       "      <td>...</td>\n",
       "      <td>...</td>\n",
       "      <td>...</td>\n",
       "    </tr>\n",
       "    <tr>\n",
       "      <th>5843</th>\n",
       "      <td>Natalie La Rose</td>\n",
       "      <td>3359519</td>\n",
       "      <td>0.830000</td>\n",
       "      <td>0.520000</td>\n",
       "      <td>0.735000</td>\n",
       "      <td>104.990000</td>\n",
       "      <td>-8.714000</td>\n",
       "      <td>1</td>\n",
       "      <td>0</td>\n",
       "      <td>0.000792</td>\n",
       "      <td>...</td>\n",
       "      <td>64.000000</td>\n",
       "      <td>1</td>\n",
       "      <td>R&amp;B;</td>\n",
       "      <td>2010.0</td>\n",
       "      <td>0.790123</td>\n",
       "      <td>12.154290</td>\n",
       "      <td>13.0</td>\n",
       "      <td>0.000000</td>\n",
       "      <td>0.0</td>\n",
       "      <td>5.0</td>\n",
       "    </tr>\n",
       "    <tr>\n",
       "      <th>5844</th>\n",
       "      <td>Sarah Ross</td>\n",
       "      <td>3381566</td>\n",
       "      <td>0.721000</td>\n",
       "      <td>0.944000</td>\n",
       "      <td>0.626000</td>\n",
       "      <td>85.002000</td>\n",
       "      <td>-5.982000</td>\n",
       "      <td>1</td>\n",
       "      <td>8</td>\n",
       "      <td>0.013000</td>\n",
       "      <td>...</td>\n",
       "      <td>52.000000</td>\n",
       "      <td>1</td>\n",
       "      <td>Country</td>\n",
       "      <td>2010.0</td>\n",
       "      <td>0.641975</td>\n",
       "      <td>12.478996</td>\n",
       "      <td>13.0</td>\n",
       "      <td>0.000000</td>\n",
       "      <td>0.0</td>\n",
       "      <td>5.0</td>\n",
       "    </tr>\n",
       "    <tr>\n",
       "      <th>5845</th>\n",
       "      <td>Rotimi</td>\n",
       "      <td>3410250</td>\n",
       "      <td>0.637000</td>\n",
       "      <td>0.501000</td>\n",
       "      <td>0.431000</td>\n",
       "      <td>103.993000</td>\n",
       "      <td>-6.148000</td>\n",
       "      <td>0</td>\n",
       "      <td>0</td>\n",
       "      <td>0.229000</td>\n",
       "      <td>...</td>\n",
       "      <td>71.000000</td>\n",
       "      <td>1</td>\n",
       "      <td>R&amp;B;</td>\n",
       "      <td>2010.0</td>\n",
       "      <td>0.876543</td>\n",
       "      <td>12.130600</td>\n",
       "      <td>13.0</td>\n",
       "      <td>0.000000</td>\n",
       "      <td>0.0</td>\n",
       "      <td>1.0</td>\n",
       "    </tr>\n",
       "    <tr>\n",
       "      <th>5846</th>\n",
       "      <td>Jillian Jacqueline</td>\n",
       "      <td>3455945</td>\n",
       "      <td>0.547000</td>\n",
       "      <td>0.672000</td>\n",
       "      <td>0.283000</td>\n",
       "      <td>155.791000</td>\n",
       "      <td>-5.023000</td>\n",
       "      <td>1</td>\n",
       "      <td>11</td>\n",
       "      <td>0.304000</td>\n",
       "      <td>...</td>\n",
       "      <td>58.000000</td>\n",
       "      <td>1</td>\n",
       "      <td>Country</td>\n",
       "      <td>2000.0</td>\n",
       "      <td>0.716049</td>\n",
       "      <td>12.269672</td>\n",
       "      <td>23.0</td>\n",
       "      <td>0.000000</td>\n",
       "      <td>0.0</td>\n",
       "      <td>6.0</td>\n",
       "    </tr>\n",
       "    <tr>\n",
       "      <th>5847</th>\n",
       "      <td>Jaira Burns</td>\n",
       "      <td>3639618</td>\n",
       "      <td>0.566000</td>\n",
       "      <td>0.769000</td>\n",
       "      <td>0.385000</td>\n",
       "      <td>170.036000</td>\n",
       "      <td>-4.342000</td>\n",
       "      <td>1</td>\n",
       "      <td>7</td>\n",
       "      <td>0.018300</td>\n",
       "      <td>...</td>\n",
       "      <td>74.000000</td>\n",
       "      <td>1</td>\n",
       "      <td>Pop/Rock</td>\n",
       "      <td>2010.0</td>\n",
       "      <td>0.913580</td>\n",
       "      <td>12.160552</td>\n",
       "      <td>13.0</td>\n",
       "      <td>0.000000</td>\n",
       "      <td>0.0</td>\n",
       "      <td>2.0</td>\n",
       "    </tr>\n",
       "  </tbody>\n",
       "</table>\n",
       "<p>5848 rows × 24 columns</p>\n",
       "</div>"
      ],
      "text/plain": [
       "             artist_name artist_id  danceability    energy   valence  \\\n",
       "0          Frank Sinatra    792507      0.384478  0.238017  0.364288   \n",
       "1      Vladimir Horowitz    119107      0.343210  0.118844  0.225951   \n",
       "2            Johnny Cash    816890      0.619803  0.449381  0.680662   \n",
       "3         Billie Holiday     79016      0.572637  0.201368  0.498934   \n",
       "4              Bob Dylan     66915      0.512598  0.477932  0.551934   \n",
       "...                  ...       ...           ...       ...       ...   \n",
       "5843     Natalie La Rose   3359519      0.830000  0.520000  0.735000   \n",
       "5844          Sarah Ross   3381566      0.721000  0.944000  0.626000   \n",
       "5845              Rotimi   3410250      0.637000  0.501000  0.431000   \n",
       "5846  Jillian Jacqueline   3455945      0.547000  0.672000  0.283000   \n",
       "5847         Jaira Burns   3639618      0.566000  0.769000  0.385000   \n",
       "\n",
       "           tempo   loudness  mode  key  acousticness  ...  popularity  count  \\\n",
       "0     110.181698 -14.271141     1    5      0.735648  ...   26.004383   1369   \n",
       "1      94.900679 -23.193418     1    1      0.990070  ...    3.592378   1207   \n",
       "2     115.037747 -11.593104     1   10      0.685637  ...   26.614130   1104   \n",
       "3     109.912172 -13.225966     1    5      0.908499  ...   15.621005   1095   \n",
       "4     126.160149 -11.184330     1    7      0.562567  ...   30.860806   1092   \n",
       "...          ...        ...   ...  ...           ...  ...         ...    ...   \n",
       "5843  104.990000  -8.714000     1    0      0.000792  ...   64.000000      1   \n",
       "5844   85.002000  -5.982000     1    8      0.013000  ...   52.000000      1   \n",
       "5845  103.993000  -6.148000     0    0      0.229000  ...   71.000000      1   \n",
       "5846  155.791000  -5.023000     1   11      0.304000  ...   58.000000      1   \n",
       "5847  170.036000  -4.342000     1    7      0.018300  ...   74.000000      1   \n",
       "\n",
       "         genre  active_start_year  popularity_norm  log_duration_ms  year  \\\n",
       "0        Vocal             1930.0         0.321042        12.150454  93.0   \n",
       "1      unknown                0.0         0.044350        12.493284   0.0   \n",
       "2      Country             1950.0         0.328570        11.997074  73.0   \n",
       "3        Vocal             1930.0         0.192852        12.128821  93.0   \n",
       "4     Pop/Rock             1960.0         0.380998        12.455716  63.0   \n",
       "...        ...                ...              ...              ...   ...   \n",
       "5843      R&B;             2010.0         0.790123        12.154290  13.0   \n",
       "5844   Country             2010.0         0.641975        12.478996  13.0   \n",
       "5845      R&B;             2010.0         0.876543        12.130600  13.0   \n",
       "5846   Country             2000.0         0.716049        12.269672  23.0   \n",
       "5847  Pop/Rock             2010.0         0.913580        12.160552  13.0   \n",
       "\n",
       "      log_count  follower_num  influencer_num  \n",
       "0      7.221836          70.0             9.0  \n",
       "1      7.095893           0.0             0.0  \n",
       "2      7.006695         112.0            11.0  \n",
       "3      6.998510         101.0             2.0  \n",
       "4      6.995766         386.0            29.0  \n",
       "...         ...           ...             ...  \n",
       "5843   0.000000           0.0             5.0  \n",
       "5844   0.000000           0.0             5.0  \n",
       "5845   0.000000           0.0             1.0  \n",
       "5846   0.000000           0.0             6.0  \n",
       "5847   0.000000           0.0             2.0  \n",
       "\n",
       "[5848 rows x 24 columns]"
      ]
     },
     "execution_count": 24,
     "metadata": {},
     "output_type": "execute_result"
    }
   ],
   "source": [
    "node_df = node_df.fillna(0)\n",
    "node_df"
   ]
  },
  {
   "cell_type": "code",
   "execution_count": 25,
   "id": "67ecfa2c",
   "metadata": {
    "colab": {
     "base_uri": "https://localhost:8080/",
     "height": 430
    },
    "executionInfo": {
     "elapsed": 10,
     "status": "ok",
     "timestamp": 1682308156588,
     "user": {
      "displayName": "徐锦雯",
      "userId": "07523249921587303598"
     },
     "user_tz": -480
    },
    "id": "67ecfa2c",
    "outputId": "4fbb2562-5aba-43ae-9d3e-b377d40491f5"
   },
   "outputs": [
    {
     "data": {
      "image/png": "[encoded data removed]",
      "text/plain": [
       "<Figure size 640x480 with 1 Axes>"
      ]
     },
     "metadata": {},
     "output_type": "display_data"
    }
   ],
   "source": [
    "#node_df[\"log_followers\"] = np.log(node_df[\"follower_num\"])\n",
    "# Correlation between followers and popularity\n",
    "node_df[\"follower_num\"].corr(node_df[\"popularity\"])\n",
    "plt.scatter(node_df[\"follower_num\"], node_df[\"popularity\"])\n",
    "plt.show()"
   ]
  },
  {
   "cell_type": "markdown",
   "id": "e0086f31",
   "metadata": {
    "id": "e0086f31"
   },
   "source": [
    "Logarithmic relationship between followers and popularity"
   ]
  },
  {
   "cell_type": "code",
   "execution_count": 26,
   "id": "7e317e5b",
   "metadata": {
    "colab": {
     "base_uri": "https://localhost:8080/",
     "height": 430
    },
    "executionInfo": {
     "elapsed": 1443,
     "status": "ok",
     "timestamp": 1682308158021,
     "user": {
      "displayName": "徐锦雯",
      "userId": "07523249921587303598"
     },
     "user_tz": -480
    },
    "id": "7e317e5b",
    "outputId": "617cb1bc-4a1a-4f68-c7b0-f9593e331c5a"
   },
   "outputs": [
    {
     "data": {
      "image/png": "[encoded data removed]",
      "text/plain": [
       "<Figure size 640x480 with 1 Axes>"
      ]
     },
     "metadata": {},
     "output_type": "display_data"
    }
   ],
   "source": [
    "nonzero_nodes = node_df.loc[node_df[\"follower_num\"]>0]\n",
    "plt.scatter(np.log(nonzero_nodes[\"follower_num\"]), nonzero_nodes[\"popularity\"])\n",
    "plt.show()"
   ]
  },
  {
   "cell_type": "code",
   "execution_count": 27,
   "id": "11788697",
   "metadata": {
    "colab": {
     "base_uri": "https://localhost:8080/"
    },
    "executionInfo": {
     "elapsed": 34,
     "status": "ok",
     "timestamp": 1682308158021,
     "user": {
      "displayName": "徐锦雯",
      "userId": "07523249921587303598"
     },
     "user_tz": -480
    },
    "id": "11788697",
    "outputId": "dc11f323-1718-465b-e0bc-2b267d1a524d"
   },
   "outputs": [
    {
     "name": "stderr",
     "output_type": "stream",
     "text": [
      "/Users/xujinwen/Conda/lib/python3.9/site-packages/pandas/core/arraylike.py:397: RuntimeWarning: divide by zero encountered in log\n",
      "  result = getattr(ufunc, method)(*inputs, **kwargs)\n",
      "/var/folders/rs/_y7gb8yj2k7_qnpt5zsnl19c0000gn/T/ipykernel_21669/2542799124.py:3: SettingWithCopyWarning: \n",
      "A value is trying to be set on a copy of a slice from a DataFrame\n",
      "\n",
      "See the caveats in the documentation: https://pandas.pydata.org/pandas-docs/stable/user_guide/indexing.html#returning-a-view-versus-a-copy\n",
      "  node_df['log_followers'][np.isinf(node_df['log_followers'])] = np.nan\n",
      "/Users/xujinwen/Conda/lib/python3.9/site-packages/pandas/core/arraylike.py:397: RuntimeWarning: divide by zero encountered in log\n",
      "  result = getattr(ufunc, method)(*inputs, **kwargs)\n",
      "/var/folders/rs/_y7gb8yj2k7_qnpt5zsnl19c0000gn/T/ipykernel_21669/2542799124.py:6: SettingWithCopyWarning: \n",
      "A value is trying to be set on a copy of a slice from a DataFrame\n",
      "\n",
      "See the caveats in the documentation: https://pandas.pydata.org/pandas-docs/stable/user_guide/indexing.html#returning-a-view-versus-a-copy\n",
      "  node_df['log_influencers'][np.isinf(node_df['log_influencers'])] = np.nan\n"
     ]
    }
   ],
   "source": [
    "node_df['log_followers'] = np.log(node_df['follower_num'])\n",
    "node_df = node_df.copy()\n",
    "node_df['log_followers'][np.isinf(node_df['log_followers'])] = np.nan\n",
    "node_df['log_influencers'] = np.log(node_df['influencer_num'])\n",
    "node_df = node_df.copy()\n",
    "node_df['log_influencers'][np.isinf(node_df['log_influencers'])] = np.nan"
   ]
  },
  {
   "cell_type": "code",
   "execution_count": 28,
   "id": "ca36e1d5",
   "metadata": {
    "colab": {
     "base_uri": "https://localhost:8080/"
    },
    "executionInfo": {
     "elapsed": 27,
     "status": "ok",
     "timestamp": 1682308158022,
     "user": {
      "displayName": "徐锦雯",
      "userId": "07523249921587303598"
     },
     "user_tz": -480
    },
    "id": "ca36e1d5",
    "outputId": "61b06f50-8cec-4797-f6cb-80b0b69737c5"
   },
   "outputs": [
    {
     "data": {
      "text/plain": [
       "-0.13151172829171237"
      ]
     },
     "execution_count": 28,
     "metadata": {},
     "output_type": "execute_result"
    }
   ],
   "source": [
    "node_df[\"popularity\"].corr(node_df[\"log_followers\"])"
   ]
  },
  {
   "cell_type": "code",
   "execution_count": 29,
   "id": "6cb7ee03",
   "metadata": {
    "colab": {
     "base_uri": "https://localhost:8080/"
    },
    "executionInfo": {
     "elapsed": 25,
     "status": "ok",
     "timestamp": 1682308158022,
     "user": {
      "displayName": "徐锦雯",
      "userId": "07523249921587303598"
     },
     "user_tz": -480
    },
    "id": "6cb7ee03",
    "outputId": "2a655187-3249-49f4-b0ee-6e91c6568f3c"
   },
   "outputs": [
    {
     "data": {
      "text/plain": [
       "0.09863439410186545"
      ]
     },
     "execution_count": 29,
     "metadata": {},
     "output_type": "execute_result"
    }
   ],
   "source": [
    "node_df[\"popularity\"].corr(node_df[\"log_influencers\"])"
   ]
  },
  {
   "cell_type": "code",
   "execution_count": 30,
   "id": "e1365f51",
   "metadata": {
    "id": "e1365f51"
   },
   "outputs": [],
   "source": [
    "# Generate dummy variables for each music genre \n",
    "genres = node_df['genre'].str.get_dummies(', ')\n",
    "node_df = pd.concat([node_df, genres], axis = 1)"
   ]
  },
  {
   "cell_type": "code",
   "execution_count": 31,
   "id": "390872e5",
   "metadata": {
    "id": "390872e5"
   },
   "outputs": [],
   "source": [
    "node_df.reset_index(inplace=True)\n",
    "node_df.reset_index(inplace=True)"
   ]
  },
  {
   "cell_type": "code",
   "execution_count": 32,
   "id": "a602c162",
   "metadata": {
    "colab": {
     "base_uri": "https://localhost:8080/"
    },
    "executionInfo": {
     "elapsed": 23,
     "status": "ok",
     "timestamp": 1682308158022,
     "user": {
      "displayName": "徐锦雯",
      "userId": "07523249921587303598"
     },
     "user_tz": -480
    },
    "id": "a602c162",
    "outputId": "1ab880e0-fd9c-489f-9049-ebd93b3e9496"
   },
   "outputs": [
    {
     "data": {
      "text/plain": [
       "Index(['level_0', 'index', 'artist_name', 'artist_id', 'danceability',\n",
       "       'energy', 'valence', 'tempo', 'loudness', 'mode', 'key', 'acousticness',\n",
       "       'instrumentalness', 'liveness', 'speechiness', 'duration_ms',\n",
       "       'popularity', 'count', 'genre', 'active_start_year', 'popularity_norm',\n",
       "       'log_duration_ms', 'year', 'log_count', 'follower_num',\n",
       "       'influencer_num', 'log_followers', 'log_influencers', 'Avant-Garde',\n",
       "       'Blues', 'Children's', 'Classical', 'Comedy/Spoken', 'Country',\n",
       "       'Easy Listening', 'Electronic', 'Folk', 'International', 'Jazz',\n",
       "       'Latin', 'New Age', 'Pop/Rock', 'R&B;', 'Reggae', 'Religious',\n",
       "       'Stage & Screen', 'Vocal', 'unknown'],\n",
       "      dtype='object')"
      ]
     },
     "execution_count": 32,
     "metadata": {},
     "output_type": "execute_result"
    }
   ],
   "source": [
    "node_df.columns"
   ]
  },
  {
   "cell_type": "code",
   "execution_count": 33,
   "id": "becb2f9e",
   "metadata": {
    "id": "becb2f9e"
   },
   "outputs": [],
   "source": [
    "features = ['danceability', 'energy', 'valence', 'tempo', 'loudness', 'mode', 'key',\n",
    "       'acousticness', 'instrumentalness', 'liveness', 'speechiness', 'popularity_norm',\n",
    "       'log_duration_ms', 'log_count','log_followers', 'log_influencers', 'Avant-Garde',\n",
    "       'Blues', 'Children\\'s', 'Classical', 'Comedy/Spoken', 'Country','Easy Listening', 'Electronic', 'Folk', 'International', 'Jazz',\n",
    "       'Latin', 'New Age', 'Pop/Rock', 'R&B;', 'Reggae', 'Religious',\n",
    "       'Stage & Screen', 'Vocal','unknown']"
   ]
  },
  {
   "cell_type": "code",
   "execution_count": 34,
   "id": "7d2d7637",
   "metadata": {
    "id": "7d2d7637"
   },
   "outputs": [],
   "source": [
    "features_1 = ['danceability', 'energy', 'valence', 'tempo', 'loudness', 'mode', 'key',\n",
    "       'acousticness', 'instrumentalness', 'liveness', 'speechiness', 'popularity_norm',\n",
    "       'log_duration_ms', 'log_count','Avant-Garde',\n",
    "       'Blues', 'Children\\'s', 'Classical', 'Comedy/Spoken', 'Country','Easy Listening', 'Electronic', 'Folk', 'International', 'Jazz',\n",
    "       'Latin', 'New Age', 'Pop/Rock', 'R&B;', 'Reggae', 'Religious',\n",
    "       'Stage & Screen', 'Vocal','unknown']"
   ]
  },
  {
   "cell_type": "code",
   "execution_count": 35,
   "id": "f0d11248",
   "metadata": {
    "id": "f0d11248"
   },
   "outputs": [],
   "source": [
    "#node_ids = node_df[\"spotify_id\"]\n",
    "node_attrs = torch.tensor(node_df[features].values, dtype=torch.float)"
   ]
  },
  {
   "cell_type": "code",
   "execution_count": 36,
   "id": "79bd1af5",
   "metadata": {
    "colab": {
     "base_uri": "https://localhost:8080/"
    },
    "executionInfo": {
     "elapsed": 22,
     "status": "ok",
     "timestamp": 1682308158023,
     "user": {
      "displayName": "徐锦雯",
      "userId": "07523249921587303598"
     },
     "user_tz": -480
    },
    "id": "79bd1af5",
    "outputId": "273f371f-d2fc-48a9-a3e4-550a42aa8204"
   },
   "outputs": [
    {
     "data": {
      "text/plain": [
       "5848"
      ]
     },
     "execution_count": 36,
     "metadata": {},
     "output_type": "execute_result"
    }
   ],
   "source": [
    "# FUll dataset: 156222\n",
    "len(node_attrs)"
   ]
  },
  {
   "cell_type": "code",
   "execution_count": 37,
   "id": "81c79935",
   "metadata": {
    "colab": {
     "base_uri": "https://localhost:8080/"
    },
    "executionInfo": {
     "elapsed": 19,
     "status": "ok",
     "timestamp": 1682308158023,
     "user": {
      "displayName": "徐锦雯",
      "userId": "07523249921587303598"
     },
     "user_tz": -480
    },
    "id": "81c79935",
    "outputId": "d309e071-4761-45f5-8a47-7b375cbb3f28"
   },
   "outputs": [
    {
     "data": {
      "text/plain": [
       "torch.Size([5848, 36])"
      ]
     },
     "execution_count": 37,
     "metadata": {},
     "output_type": "execute_result"
    }
   ],
   "source": [
    "node_attrs.shape"
   ]
  },
  {
   "cell_type": "markdown",
   "id": "db203e49",
   "metadata": {
    "id": "db203e49"
   },
   "source": [
    "## Process Edges"
   ]
  },
  {
   "cell_type": "code",
   "execution_count": 38,
   "id": "2140f103",
   "metadata": {
    "colab": {
     "base_uri": "https://localhost:8080/",
     "height": 488
    },
    "executionInfo": {
     "elapsed": 18,
     "status": "ok",
     "timestamp": 1682308158023,
     "user": {
      "displayName": "徐锦雯",
      "userId": "07523249921587303598"
     },
     "user_tz": -480
    },
    "id": "2140f103",
    "outputId": "892f0a55-0cbd-489a-8a54-0c2b0ac5cd2d"
   },
   "outputs": [
    {
     "data": {
      "text/html": [
       "<div>\n",
       "<style scoped>\n",
       "    .dataframe tbody tr th:only-of-type {\n",
       "        vertical-align: middle;\n",
       "    }\n",
       "\n",
       "    .dataframe tbody tr th {\n",
       "        vertical-align: top;\n",
       "    }\n",
       "\n",
       "    .dataframe thead th {\n",
       "        text-align: right;\n",
       "    }\n",
       "</style>\n",
       "<table border=\"1\" class=\"dataframe\">\n",
       "  <thead>\n",
       "    <tr style=\"text-align: right;\">\n",
       "      <th></th>\n",
       "      <th>influencer_id</th>\n",
       "      <th>influencer_name</th>\n",
       "      <th>influencer_main_genre</th>\n",
       "      <th>influencer_active_start</th>\n",
       "      <th>follower_id</th>\n",
       "      <th>follower_name</th>\n",
       "      <th>follower_main_genre</th>\n",
       "      <th>follower_active_start</th>\n",
       "    </tr>\n",
       "  </thead>\n",
       "  <tbody>\n",
       "    <tr>\n",
       "      <th>0</th>\n",
       "      <td>759491</td>\n",
       "      <td>The Exploited</td>\n",
       "      <td>Pop/Rock</td>\n",
       "      <td>1980</td>\n",
       "      <td>74</td>\n",
       "      <td>Special Duties</td>\n",
       "      <td>Pop/Rock</td>\n",
       "      <td>1980</td>\n",
       "    </tr>\n",
       "    <tr>\n",
       "      <th>1</th>\n",
       "      <td>759491</td>\n",
       "      <td>The Exploited</td>\n",
       "      <td>Pop/Rock</td>\n",
       "      <td>1980</td>\n",
       "      <td>55778</td>\n",
       "      <td>The Casualties</td>\n",
       "      <td>Pop/Rock</td>\n",
       "      <td>1990</td>\n",
       "    </tr>\n",
       "    <tr>\n",
       "      <th>2</th>\n",
       "      <td>101701</td>\n",
       "      <td>Conflict</td>\n",
       "      <td>Pop/Rock</td>\n",
       "      <td>1980</td>\n",
       "      <td>55778</td>\n",
       "      <td>The Casualties</td>\n",
       "      <td>Pop/Rock</td>\n",
       "      <td>1990</td>\n",
       "    </tr>\n",
       "    <tr>\n",
       "      <th>3</th>\n",
       "      <td>184267</td>\n",
       "      <td>U.K. Subs</td>\n",
       "      <td>Pop/Rock</td>\n",
       "      <td>1970</td>\n",
       "      <td>55778</td>\n",
       "      <td>The Casualties</td>\n",
       "      <td>Pop/Rock</td>\n",
       "      <td>1990</td>\n",
       "    </tr>\n",
       "    <tr>\n",
       "      <th>4</th>\n",
       "      <td>759491</td>\n",
       "      <td>The Exploited</td>\n",
       "      <td>Pop/Rock</td>\n",
       "      <td>1980</td>\n",
       "      <td>258430</td>\n",
       "      <td>Pennywise</td>\n",
       "      <td>Pop/Rock</td>\n",
       "      <td>1980</td>\n",
       "    </tr>\n",
       "    <tr>\n",
       "      <th>...</th>\n",
       "      <td>...</td>\n",
       "      <td>...</td>\n",
       "      <td>...</td>\n",
       "      <td>...</td>\n",
       "      <td>...</td>\n",
       "      <td>...</td>\n",
       "      <td>...</td>\n",
       "      <td>...</td>\n",
       "    </tr>\n",
       "    <tr>\n",
       "      <th>41412</th>\n",
       "      <td>3161008</td>\n",
       "      <td>The Neptunes</td>\n",
       "      <td>R&amp;B;</td>\n",
       "      <td>1960</td>\n",
       "      <td>3306945</td>\n",
       "      <td>Kaytranada</td>\n",
       "      <td>Electronic</td>\n",
       "      <td>2010</td>\n",
       "    </tr>\n",
       "    <tr>\n",
       "      <th>41413</th>\n",
       "      <td>580300</td>\n",
       "      <td>Sufjan Stevens</td>\n",
       "      <td>Pop/Rock</td>\n",
       "      <td>1990</td>\n",
       "      <td>3366296</td>\n",
       "      <td>The Oh Hellos</td>\n",
       "      <td>Pop/Rock</td>\n",
       "      <td>2010</td>\n",
       "    </tr>\n",
       "    <tr>\n",
       "      <th>41414</th>\n",
       "      <td>588246</td>\n",
       "      <td>Los Campesinos!</td>\n",
       "      <td>Pop/Rock</td>\n",
       "      <td>2000</td>\n",
       "      <td>3366296</td>\n",
       "      <td>The Oh Hellos</td>\n",
       "      <td>Pop/Rock</td>\n",
       "      <td>2010</td>\n",
       "    </tr>\n",
       "    <tr>\n",
       "      <th>41415</th>\n",
       "      <td>1507678</td>\n",
       "      <td>The Middle East</td>\n",
       "      <td>Pop/Rock</td>\n",
       "      <td>2000</td>\n",
       "      <td>3366296</td>\n",
       "      <td>The Oh Hellos</td>\n",
       "      <td>Pop/Rock</td>\n",
       "      <td>2010</td>\n",
       "    </tr>\n",
       "    <tr>\n",
       "      <th>41416</th>\n",
       "      <td>2873356</td>\n",
       "      <td>The Lumineers</td>\n",
       "      <td>Pop/Rock</td>\n",
       "      <td>2000</td>\n",
       "      <td>3366296</td>\n",
       "      <td>The Oh Hellos</td>\n",
       "      <td>Pop/Rock</td>\n",
       "      <td>2010</td>\n",
       "    </tr>\n",
       "  </tbody>\n",
       "</table>\n",
       "<p>41417 rows × 8 columns</p>\n",
       "</div>"
      ],
      "text/plain": [
       "       influencer_id  influencer_name influencer_main_genre  \\\n",
       "0             759491    The Exploited              Pop/Rock   \n",
       "1             759491    The Exploited              Pop/Rock   \n",
       "2             101701         Conflict              Pop/Rock   \n",
       "3             184267        U.K. Subs              Pop/Rock   \n",
       "4             759491    The Exploited              Pop/Rock   \n",
       "...              ...              ...                   ...   \n",
       "41412        3161008     The Neptunes                  R&B;   \n",
       "41413         580300   Sufjan Stevens              Pop/Rock   \n",
       "41414         588246  Los Campesinos!              Pop/Rock   \n",
       "41415        1507678  The Middle East              Pop/Rock   \n",
       "41416        2873356    The Lumineers              Pop/Rock   \n",
       "\n",
       "       influencer_active_start  follower_id   follower_name  \\\n",
       "0                         1980           74  Special Duties   \n",
       "1                         1980        55778  The Casualties   \n",
       "2                         1980        55778  The Casualties   \n",
       "3                         1970        55778  The Casualties   \n",
       "4                         1980       258430       Pennywise   \n",
       "...                        ...          ...             ...   \n",
       "41412                     1960      3306945      Kaytranada   \n",
       "41413                     1990      3366296   The Oh Hellos   \n",
       "41414                     2000      3366296   The Oh Hellos   \n",
       "41415                     2000      3366296   The Oh Hellos   \n",
       "41416                     2000      3366296   The Oh Hellos   \n",
       "\n",
       "      follower_main_genre  follower_active_start  \n",
       "0                Pop/Rock                   1980  \n",
       "1                Pop/Rock                   1990  \n",
       "2                Pop/Rock                   1990  \n",
       "3                Pop/Rock                   1990  \n",
       "4                Pop/Rock                   1980  \n",
       "...                   ...                    ...  \n",
       "41412          Electronic                   2010  \n",
       "41413            Pop/Rock                   2010  \n",
       "41414            Pop/Rock                   2010  \n",
       "41415            Pop/Rock                   2010  \n",
       "41416            Pop/Rock                   2010  \n",
       "\n",
       "[41417 rows x 8 columns]"
      ]
     },
     "execution_count": 38,
     "metadata": {},
     "output_type": "execute_result"
    }
   ],
   "source": [
    "# Edge list of collaborations between artists \n",
    "edges_df = pd.read_csv('filtered-influence.csv')\n",
    "edges_df"
   ]
  },
  {
   "cell_type": "code",
   "execution_count": 39,
   "id": "3f2a37fd",
   "metadata": {
    "id": "3f2a37fd"
   },
   "outputs": [],
   "source": [
    "edges_df = edges_df[['influencer_id','follower_id']]\n",
    "edges_df.columns = ['id_0','id_1']"
   ]
  },
  {
   "cell_type": "code",
   "execution_count": 40,
   "id": "26ba5e56",
   "metadata": {
    "id": "26ba5e56"
   },
   "outputs": [],
   "source": [
    "artist_key = node_df[[\"level_0\", \"artist_id\"]]\n",
    "artist_key.columns = [\"influencer\", \"id_0\"]\n",
    "artist_key = artist_key.copy()\n",
    "artist_key['id_0'] = artist_key['id_0'].astype('int')\n",
    "edges_df_merge = edges_df.merge(artist_key,how = 'left', on = 'id_0')"
   ]
  },
  {
   "cell_type": "code",
   "execution_count": 41,
   "id": "2f3931fb",
   "metadata": {
    "colab": {
     "base_uri": "https://localhost:8080/"
    },
    "executionInfo": {
     "elapsed": 17,
     "status": "ok",
     "timestamp": 1682308158023,
     "user": {
      "displayName": "徐锦雯",
      "userId": "07523249921587303598"
     },
     "user_tz": -480
    },
    "id": "2f3931fb",
    "outputId": "6c962926-ad3a-413f-e1ed-d1cce46b42e6"
   },
   "outputs": [
    {
     "name": "stdout",
     "output_type": "stream",
     "text": [
      "<class 'pandas.core.frame.DataFrame'>\n",
      "Int64Index: 41417 entries, 0 to 41416\n",
      "Data columns (total 3 columns):\n",
      " #   Column      Non-Null Count  Dtype\n",
      "---  ------      --------------  -----\n",
      " 0   id_0        41417 non-null  int64\n",
      " 1   id_1        41417 non-null  int64\n",
      " 2   influencer  41417 non-null  int64\n",
      "dtypes: int64(3)\n",
      "memory usage: 1.3 MB\n"
     ]
    }
   ],
   "source": [
    "edges_df_merge.info()"
   ]
  },
  {
   "cell_type": "code",
   "execution_count": 42,
   "id": "c055a213",
   "metadata": {
    "id": "c055a213"
   },
   "outputs": [],
   "source": [
    "artist_key.columns = [\"follower\", \"id_1\"]"
   ]
  },
  {
   "cell_type": "code",
   "execution_count": 43,
   "id": "3f10a0d1",
   "metadata": {
    "id": "3f10a0d1"
   },
   "outputs": [],
   "source": [
    "edges_df_merge = edges_df_merge.merge(artist_key,how = 'left', on = 'id_1')"
   ]
  },
  {
   "cell_type": "code",
   "execution_count": 44,
   "id": "f93671e1",
   "metadata": {
    "colab": {
     "base_uri": "https://localhost:8080/",
     "height": 424
    },
    "executionInfo": {
     "elapsed": 15,
     "status": "ok",
     "timestamp": 1682308158023,
     "user": {
      "displayName": "徐锦雯",
      "userId": "07523249921587303598"
     },
     "user_tz": -480
    },
    "id": "f93671e1",
    "outputId": "bdee10fc-75c7-4da4-b7df-2f8205f12d1a"
   },
   "outputs": [
    {
     "data": {
      "text/html": [
       "<div>\n",
       "<style scoped>\n",
       "    .dataframe tbody tr th:only-of-type {\n",
       "        vertical-align: middle;\n",
       "    }\n",
       "\n",
       "    .dataframe tbody tr th {\n",
       "        vertical-align: top;\n",
       "    }\n",
       "\n",
       "    .dataframe thead th {\n",
       "        text-align: right;\n",
       "    }\n",
       "</style>\n",
       "<table border=\"1\" class=\"dataframe\">\n",
       "  <thead>\n",
       "    <tr style=\"text-align: right;\">\n",
       "      <th></th>\n",
       "      <th>id_0</th>\n",
       "      <th>id_1</th>\n",
       "      <th>influencer</th>\n",
       "      <th>follower</th>\n",
       "    </tr>\n",
       "  </thead>\n",
       "  <tbody>\n",
       "    <tr>\n",
       "      <th>0</th>\n",
       "      <td>759491</td>\n",
       "      <td>74</td>\n",
       "      <td>2543</td>\n",
       "      <td>4612</td>\n",
       "    </tr>\n",
       "    <tr>\n",
       "      <th>1</th>\n",
       "      <td>759491</td>\n",
       "      <td>55778</td>\n",
       "      <td>2543</td>\n",
       "      <td>4704</td>\n",
       "    </tr>\n",
       "    <tr>\n",
       "      <th>2</th>\n",
       "      <td>101701</td>\n",
       "      <td>55778</td>\n",
       "      <td>2900</td>\n",
       "      <td>4704</td>\n",
       "    </tr>\n",
       "    <tr>\n",
       "      <th>3</th>\n",
       "      <td>184267</td>\n",
       "      <td>55778</td>\n",
       "      <td>4921</td>\n",
       "      <td>4704</td>\n",
       "    </tr>\n",
       "    <tr>\n",
       "      <th>4</th>\n",
       "      <td>759491</td>\n",
       "      <td>258430</td>\n",
       "      <td>2543</td>\n",
       "      <td>1196</td>\n",
       "    </tr>\n",
       "    <tr>\n",
       "      <th>...</th>\n",
       "      <td>...</td>\n",
       "      <td>...</td>\n",
       "      <td>...</td>\n",
       "      <td>...</td>\n",
       "    </tr>\n",
       "    <tr>\n",
       "      <th>41412</th>\n",
       "      <td>3161008</td>\n",
       "      <td>3306945</td>\n",
       "      <td>3868</td>\n",
       "      <td>3414</td>\n",
       "    </tr>\n",
       "    <tr>\n",
       "      <th>41413</th>\n",
       "      <td>580300</td>\n",
       "      <td>3366296</td>\n",
       "      <td>1015</td>\n",
       "      <td>3097</td>\n",
       "    </tr>\n",
       "    <tr>\n",
       "      <th>41414</th>\n",
       "      <td>588246</td>\n",
       "      <td>3366296</td>\n",
       "      <td>5254</td>\n",
       "      <td>3097</td>\n",
       "    </tr>\n",
       "    <tr>\n",
       "      <th>41415</th>\n",
       "      <td>1507678</td>\n",
       "      <td>3366296</td>\n",
       "      <td>5616</td>\n",
       "      <td>3097</td>\n",
       "    </tr>\n",
       "    <tr>\n",
       "      <th>41416</th>\n",
       "      <td>2873356</td>\n",
       "      <td>3366296</td>\n",
       "      <td>693</td>\n",
       "      <td>3097</td>\n",
       "    </tr>\n",
       "  </tbody>\n",
       "</table>\n",
       "<p>41417 rows × 4 columns</p>\n",
       "</div>"
      ],
      "text/plain": [
       "          id_0     id_1  influencer  follower\n",
       "0       759491       74        2543      4612\n",
       "1       759491    55778        2543      4704\n",
       "2       101701    55778        2900      4704\n",
       "3       184267    55778        4921      4704\n",
       "4       759491   258430        2543      1196\n",
       "...        ...      ...         ...       ...\n",
       "41412  3161008  3306945        3868      3414\n",
       "41413   580300  3366296        1015      3097\n",
       "41414   588246  3366296        5254      3097\n",
       "41415  1507678  3366296        5616      3097\n",
       "41416  2873356  3366296         693      3097\n",
       "\n",
       "[41417 rows x 4 columns]"
      ]
     },
     "execution_count": 44,
     "metadata": {},
     "output_type": "execute_result"
    }
   ],
   "source": [
    "edges_df_merge"
   ]
  },
  {
   "cell_type": "code",
   "execution_count": 45,
   "id": "5976a25c",
   "metadata": {
    "id": "5976a25c"
   },
   "outputs": [],
   "source": [
    "edges_df_merge.drop([\"id_0\", \"id_1\"], axis=1, inplace=True)"
   ]
  },
  {
   "cell_type": "code",
   "execution_count": 46,
   "id": "d45414a4",
   "metadata": {
    "colab": {
     "base_uri": "https://localhost:8080/"
    },
    "executionInfo": {
     "elapsed": 15,
     "status": "ok",
     "timestamp": 1682308158024,
     "user": {
      "displayName": "徐锦雯",
      "userId": "07523249921587303598"
     },
     "user_tz": -480
    },
    "id": "d45414a4",
    "outputId": "26fc4861-fd55-404c-d332-9a32939f9005"
   },
   "outputs": [
    {
     "data": {
      "text/plain": [
       "tensor([[2543, 4612],\n",
       "        [2543, 4704],\n",
       "        [2900, 4704],\n",
       "        ...,\n",
       "        [5254, 3097],\n",
       "        [5616, 3097],\n",
       "        [ 693, 3097]])"
      ]
     },
     "execution_count": 46,
     "metadata": {},
     "output_type": "execute_result"
    }
   ],
   "source": [
    "edges = torch.tensor(edges_df_merge.values, dtype=torch.long)\n",
    "edges"
   ]
  },
  {
   "cell_type": "markdown",
   "id": "67e734be",
   "metadata": {
    "id": "67e734be"
   },
   "source": [
    "## Load Data into Graph"
   ]
  },
  {
   "cell_type": "code",
   "execution_count": 81,
   "id": "a7ca61e3",
   "metadata": {
    "id": "a7ca61e3"
   },
   "outputs": [],
   "source": [
    "# Create the graph object \n",
    "graph = Data(x=node_attrs, edge_index=edges.t().contiguous())"
   ]
  },
  {
   "cell_type": "code",
   "execution_count": 82,
   "id": "9b127427",
   "metadata": {
    "colab": {
     "base_uri": "https://localhost:8080/"
    },
    "executionInfo": {
     "elapsed": 6,
     "status": "ok",
     "timestamp": 1682314148451,
     "user": {
      "displayName": "徐锦雯",
      "userId": "07523249921587303598"
     },
     "user_tz": -480
    },
    "id": "9b127427",
    "outputId": "da1cb175-ceba-4dad-dda7-73d824d0ffbd"
   },
   "outputs": [
    {
     "data": {
      "text/plain": [
       "Data(x=[5848, 36], edge_index=[2, 41417])"
      ]
     },
     "execution_count": 82,
     "metadata": {},
     "output_type": "execute_result"
    }
   ],
   "source": [
    "graph"
   ]
  },
  {
   "cell_type": "code",
   "execution_count": 83,
   "id": "e8d56315",
   "metadata": {
    "colab": {
     "base_uri": "https://localhost:8080/"
    },
    "executionInfo": {
     "elapsed": 14,
     "status": "ok",
     "timestamp": 1682314156881,
     "user": {
      "displayName": "徐锦雯",
      "userId": "07523249921587303598"
     },
     "user_tz": -480
    },
    "id": "e8d56315",
    "outputId": "f88ec81a-a7ec-46a6-b772-f0b3982d2f14"
   },
   "outputs": [
    {
     "data": {
      "text/plain": [
       "tensor([[2543, 2543, 2900,  ..., 5254, 5616,  693],\n",
       "        [4612, 4704, 4704,  ..., 3097, 3097, 3097]])"
      ]
     },
     "execution_count": 83,
     "metadata": {},
     "output_type": "execute_result"
    }
   ],
   "source": [
    "graph.edge_index"
   ]
  },
  {
   "cell_type": "code",
   "execution_count": 90,
   "id": "8f93cd78",
   "metadata": {
    "colab": {
     "base_uri": "https://localhost:8080/"
    },
    "executionInfo": {
     "elapsed": 633,
     "status": "ok",
     "timestamp": 1682314163191,
     "user": {
      "displayName": "徐锦雯",
      "userId": "07523249921587303598"
     },
     "user_tz": -480
    },
    "id": "8f93cd78",
    "outputId": "cfed1619-d2e4-48a6-c771-251efd8d5426"
   },
   "outputs": [
    {
     "name": "stdout",
     "output_type": "stream",
     "text": [
      "5848\n",
      "41417\n",
      "36\n",
      "True\n",
      "False\n",
      "True\n"
     ]
    }
   ],
   "source": [
    "print(graph.num_nodes)\n",
    "print(graph.num_edges)\n",
    "print(graph.num_node_features)\n",
    "print(graph.has_isolated_nodes())\n",
    "print(graph.has_self_loops())\n",
    "print(graph.is_directed())"
   ]
  },
  {
   "cell_type": "code",
   "execution_count": 51,
   "id": "2d7606e5",
   "metadata": {
    "id": "2d7606e5"
   },
   "outputs": [],
   "source": [
    "G = to_networkx(graph, to_undirected=True) # Convert to networkx graph"
   ]
  },
  {
   "cell_type": "code",
   "execution_count": 94,
   "id": "9b8ee62a",
   "metadata": {},
   "outputs": [
    {
     "data": {
      "text/plain": [
       "773"
      ]
     },
     "execution_count": 94,
     "metadata": {},
     "output_type": "execute_result"
    }
   ],
   "source": [
    "nx.number_of_isolates(G)"
   ]
  },
  {
   "cell_type": "markdown",
   "id": "7b5ed78d",
   "metadata": {
    "id": "7b5ed78d"
   },
   "source": [
    "## Negative Sampling and Train-Test Split"
   ]
  },
  {
   "cell_type": "code",
   "execution_count": 52,
   "id": "ffb44c4a",
   "metadata": {
    "id": "ffb44c4a"
   },
   "outputs": [],
   "source": [
    "# Perform negative sampling of edges \n",
    "neg_sample = negative_sampling(edge_index=graph.edge_index, #positive edges\n",
    "                               num_nodes=graph.num_nodes, # number of nodes\n",
    "                               num_neg_samples=graph.edge_index.size(1)) # number of neg_sample equal to number of pos_edges"
   ]
  },
  {
   "cell_type": "code",
   "execution_count": 53,
   "id": "4f243bd3",
   "metadata": {
    "id": "4f243bd3"
   },
   "outputs": [],
   "source": [
    "# Combine positive and negative edges for a full sample \n",
    "full_sample = torch.cat((graph.edge_index, neg_sample), 1)"
   ]
  },
  {
   "cell_type": "code",
   "execution_count": 54,
   "id": "65e8ab50",
   "metadata": {
    "colab": {
     "base_uri": "https://localhost:8080/"
    },
    "executionInfo": {
     "elapsed": 2,
     "status": "ok",
     "timestamp": 1682314245565,
     "user": {
      "displayName": "徐锦雯",
      "userId": "07523249921587303598"
     },
     "user_tz": -480
    },
    "id": "65e8ab50",
    "outputId": "c819281a-c1b9-4053-d2fe-430712c19a72"
   },
   "outputs": [
    {
     "data": {
      "text/plain": [
       "tensor([[2543, 2543, 2900,  ..., 2889, 3136,  643],\n",
       "        [4612, 4704, 4704,  ..., 1408, 1724, 2531]])"
      ]
     },
     "execution_count": 54,
     "metadata": {},
     "output_type": "execute_result"
    }
   ],
   "source": [
    "full_sample"
   ]
  },
  {
   "cell_type": "code",
   "execution_count": 55,
   "id": "393c7d2b",
   "metadata": {
    "colab": {
     "base_uri": "https://localhost:8080/"
    },
    "executionInfo": {
     "elapsed": 2,
     "status": "ok",
     "timestamp": 1682314247062,
     "user": {
      "displayName": "徐锦雯",
      "userId": "07523249921587303598"
     },
     "user_tz": -480
    },
    "id": "393c7d2b",
    "outputId": "6be174fb-8e71-45b4-c2ed-821704e04ded"
   },
   "outputs": [
    {
     "data": {
      "text/plain": [
       "torch.Size([2, 82834])"
      ]
     },
     "execution_count": 55,
     "metadata": {},
     "output_type": "execute_result"
    }
   ],
   "source": [
    "full_sample.shape"
   ]
  },
  {
   "cell_type": "code",
   "execution_count": 56,
   "id": "34921aea",
   "metadata": {
    "id": "34921aea"
   },
   "outputs": [],
   "source": [
    "# Create the labels for the full sample \n",
    "lbls = np.concatenate((np.ones(graph.edge_index.shape[1]), np.zeros(graph.edge_index.shape[1])))"
   ]
  },
  {
   "cell_type": "code",
   "execution_count": 57,
   "id": "JI7hYdFbv5Ww",
   "metadata": {
    "colab": {
     "base_uri": "https://localhost:8080/"
    },
    "executionInfo": {
     "elapsed": 1393,
     "status": "ok",
     "timestamp": 1682314357100,
     "user": {
      "displayName": "徐锦雯",
      "userId": "07523249921587303598"
     },
     "user_tz": -480
    },
    "id": "JI7hYdFbv5Ww",
    "outputId": "2120b45c-af8f-4164-d97d-d051b5d64da4"
   },
   "outputs": [
    {
     "data": {
      "text/plain": [
       "82834"
      ]
     },
     "execution_count": 57,
     "metadata": {},
     "output_type": "execute_result"
    }
   ],
   "source": [
    "len(lbls)"
   ]
  },
  {
   "cell_type": "code",
   "execution_count": 58,
   "id": "75a19c5a",
   "metadata": {
    "id": "75a19c5a"
   },
   "outputs": [],
   "source": [
    "# Create a training graph by randomly removing a portion of the existing edges (in this case 30%)\n",
    "train_edges, supervision_edges = train_test_split(graph.edge_index.T.numpy(), test_size=0.3, random_state=42)\n",
    "t_edges = torch.tensor(train_edges, dtype=torch.long)\n",
    "train_graph = Data(x=node_attrs, edge_index=t_edges.t().contiguous()) # Pytorch Geometric graph\n",
    "trainG = to_networkx(train_graph, to_undirected=True) # NetworkX graph for Jaccard and Adamic-Adar"
   ]
  },
  {
   "cell_type": "code",
   "execution_count": 59,
   "id": "d9e486c9",
   "metadata": {
    "colab": {
     "base_uri": "https://localhost:8080/"
    },
    "executionInfo": {
     "elapsed": 747,
     "status": "ok",
     "timestamp": 1682314516386,
     "user": {
      "displayName": "徐锦雯",
      "userId": "07523249921587303598"
     },
     "user_tz": -480
    },
    "id": "d9e486c9",
    "outputId": "6394fc01-da74-4162-a2e0-a4a39e9fbb45"
   },
   "outputs": [
    {
     "data": {
      "text/plain": [
       "Data(x=[5848, 36], edge_index=[2, 28991])"
      ]
     },
     "execution_count": 59,
     "metadata": {},
     "output_type": "execute_result"
    }
   ],
   "source": [
    "train_graph"
   ]
  },
  {
   "cell_type": "code",
   "execution_count": 60,
   "id": "c9a25477",
   "metadata": {
    "colab": {
     "base_uri": "https://localhost:8080/"
    },
    "executionInfo": {
     "elapsed": 1,
     "status": "ok",
     "timestamp": 1682314518394,
     "user": {
      "displayName": "徐锦雯",
      "userId": "07523249921587303598"
     },
     "user_tz": -480
    },
    "id": "c9a25477",
    "outputId": "bd6640c1-3463-44e6-bf16-33b106bce89d"
   },
   "outputs": [
    {
     "data": {
      "text/plain": [
       "Data(x=[5848, 36], edge_index=[2, 41417])"
      ]
     },
     "execution_count": 60,
     "metadata": {},
     "output_type": "execute_result"
    }
   ],
   "source": [
    "graph"
   ]
  },
  {
   "cell_type": "code",
   "execution_count": 61,
   "id": "40a87906",
   "metadata": {
    "colab": {
     "base_uri": "https://localhost:8080/"
    },
    "executionInfo": {
     "elapsed": 286,
     "status": "ok",
     "timestamp": 1682314520856,
     "user": {
      "displayName": "徐锦雯",
      "userId": "07523249921587303598"
     },
     "user_tz": -480
    },
    "id": "40a87906",
    "outputId": "2133fd10-67ec-48f9-84b4-a4cd21bb5263"
   },
   "outputs": [
    {
     "data": {
      "text/plain": [
       "0.6999782697925973"
      ]
     },
     "execution_count": 61,
     "metadata": {},
     "output_type": "execute_result"
    }
   ],
   "source": [
    "train_graph.edge_index.shape[1]/graph.edge_index.shape[1] # Confirm 70% of edges remaining"
   ]
  },
  {
   "cell_type": "code",
   "execution_count": 62,
   "id": "039d0dac",
   "metadata": {
    "colab": {
     "base_uri": "https://localhost:8080/"
    },
    "executionInfo": {
     "elapsed": 6,
     "status": "ok",
     "timestamp": 1682314523650,
     "user": {
      "displayName": "徐锦雯",
      "userId": "07523249921587303598"
     },
     "user_tz": -480
    },
    "id": "039d0dac",
    "outputId": "9cb2caac-d157-4f59-ee16-3b9877eacd70"
   },
   "outputs": [
    {
     "data": {
      "text/plain": [
       "tensor([[ 368,  670,  995,  ..., 1828, 1738, 3753],\n",
       "        [ 976,  688, 1138,  ..., 2202, 3414, 2607]])"
      ]
     },
     "execution_count": 62,
     "metadata": {},
     "output_type": "execute_result"
    }
   ],
   "source": [
    "# Sample of edges in training graph and equal number of negative edges\n",
    "train_sample = torch.cat((t_edges.t(), neg_sample[:,:train_edges.shape[0]]), 1)\n",
    "train_sample"
   ]
  },
  {
   "cell_type": "code",
   "execution_count": 63,
   "id": "1c450f55",
   "metadata": {
    "colab": {
     "base_uri": "https://localhost:8080/"
    },
    "executionInfo": {
     "elapsed": 1,
     "status": "ok",
     "timestamp": 1682314525291,
     "user": {
      "displayName": "徐锦雯",
      "userId": "07523249921587303598"
     },
     "user_tz": -480
    },
    "id": "1c450f55",
    "outputId": "23578adb-d4d9-45be-9c42-6ef85245654d"
   },
   "outputs": [
    {
     "data": {
      "text/plain": [
       "array([1., 1., 1., ..., 0., 0., 0.])"
      ]
     },
     "execution_count": 63,
     "metadata": {},
     "output_type": "execute_result"
    }
   ],
   "source": [
    "# Labels for the training sample\n",
    "train_lbls = np.concatenate((np.ones(train_edges.shape[0]), np.zeros(train_edges.shape[0])))\n",
    "train_lbls"
   ]
  },
  {
   "cell_type": "code",
   "execution_count": 64,
   "id": "661d81aa",
   "metadata": {
    "colab": {
     "base_uri": "https://localhost:8080/"
    },
    "executionInfo": {
     "elapsed": 1,
     "status": "ok",
     "timestamp": 1682314527265,
     "user": {
      "displayName": "徐锦雯",
      "userId": "07523249921587303598"
     },
     "user_tz": -480
    },
    "id": "661d81aa",
    "outputId": "5325ee3c-ba66-4f81-e076-b76684822fbb"
   },
   "outputs": [
    {
     "data": {
      "text/plain": [
       "tensor([[1299,   63,  780,  ..., 2889, 3136,  643],\n",
       "        [ 553, 2002,  160,  ..., 1408, 1724, 2531]])"
      ]
     },
     "execution_count": 64,
     "metadata": {},
     "output_type": "execute_result"
    }
   ],
   "source": [
    "# Test sample of removed/masked edges and equal number of negative edges\n",
    "test_sample = torch.cat((torch.tensor(supervision_edges).t(), neg_sample[:,train_edges.shape[0]:]), 1)\n",
    "test_sample"
   ]
  },
  {
   "cell_type": "code",
   "execution_count": 65,
   "id": "4a0143f4",
   "metadata": {
    "colab": {
     "base_uri": "https://localhost:8080/"
    },
    "executionInfo": {
     "elapsed": 1,
     "status": "ok",
     "timestamp": 1682314529167,
     "user": {
      "displayName": "徐锦雯",
      "userId": "07523249921587303598"
     },
     "user_tz": -480
    },
    "id": "4a0143f4",
    "outputId": "7dd27d53-dd53-4e92-c46a-13de3d51ad89"
   },
   "outputs": [
    {
     "data": {
      "text/plain": [
       "torch.Size([2, 24852])"
      ]
     },
     "execution_count": 65,
     "metadata": {},
     "output_type": "execute_result"
    }
   ],
   "source": [
    "test_sample.shape"
   ]
  },
  {
   "cell_type": "code",
   "execution_count": 66,
   "id": "2b672873",
   "metadata": {
    "colab": {
     "base_uri": "https://localhost:8080/"
    },
    "executionInfo": {
     "elapsed": 329,
     "status": "ok",
     "timestamp": 1682314531145,
     "user": {
      "displayName": "徐锦雯",
      "userId": "07523249921587303598"
     },
     "user_tz": -480
    },
    "id": "2b672873",
    "outputId": "001efb27-2d49-43fb-95f5-5134b1c35844"
   },
   "outputs": [
    {
     "data": {
      "text/plain": [
       "(24852,)"
      ]
     },
     "execution_count": 66,
     "metadata": {},
     "output_type": "execute_result"
    }
   ],
   "source": [
    "# Labels for the test sample\n",
    "test_lbls = np.concatenate((np.ones(int(test_sample.shape[1]/2)), np.zeros(int(test_sample.shape[1]/2))))\n",
    "test_lbls.shape"
   ]
  },
  {
   "cell_type": "markdown",
   "id": "f8f6112b",
   "metadata": {
    "id": "f8f6112b"
   },
   "source": [
    "## Link Prediction Using Jaccard"
   ]
  },
  {
   "cell_type": "code",
   "execution_count": 128,
   "id": "99bf02d3",
   "metadata": {
    "colab": {
     "base_uri": "https://localhost:8080/"
    },
    "executionInfo": {
     "elapsed": 3784,
     "status": "ok",
     "timestamp": 1682319510643,
     "user": {
      "displayName": "徐锦雯",
      "userId": "07523249921587303598"
     },
     "user_tz": -480
    },
    "id": "99bf02d3",
    "outputId": "0ee3d40c-5c4c-49e8-f0c1-1991657f3e6b",
    "scrolled": true
   },
   "outputs": [
    {
     "data": {
      "text/plain": [
       "[(2543, 4612, 0.0),\n",
       " (2543, 4704, 0.0),\n",
       " (2900, 4704, 0.0),\n",
       " (4921, 4704, 0.0),\n",
       " (2543, 1196, 0.0),\n",
       " (484, 1196, 0.014285714285714285),\n",
       " (624, 1196, 0.05),\n",
       " (1257, 1196, 0.0),\n",
       " (194, 1196, 0.05263157894736842),\n",
       " (2100, 1196, 0.05)]"
      ]
     },
     "execution_count": 128,
     "metadata": {},
     "output_type": "execute_result"
    }
   ],
   "source": [
    "# Calculate Jaccard Measure for all edges in sample\n",
    "jac = list(nx.jaccard_coefficient(trainG, full_sample.T.numpy()))\n",
    "jac[0:10]"
   ]
  },
  {
   "cell_type": "code",
   "execution_count": 129,
   "id": "8d05d8db",
   "metadata": {
    "colab": {
     "base_uri": "https://localhost:8080/"
    },
    "executionInfo": {
     "elapsed": 2112,
     "status": "ok",
     "timestamp": 1682319512752,
     "user": {
      "displayName": "徐锦雯",
      "userId": "07523249921587303598"
     },
     "user_tz": -480
    },
    "id": "8d05d8db",
    "outputId": "91633ecb-8a6b-4f29-baab-4249fb6b5ae7"
   },
   "outputs": [
    {
     "data": {
      "text/plain": [
       "[(368, 976, 0.03125),\n",
       " (670, 688, 0.0),\n",
       " (995, 1138, 0.05555555555555555),\n",
       " (2257, 38, 0.0),\n",
       " (976, 5150, 0.14285714285714285),\n",
       " (35, 5584, 0.0),\n",
       " (1091, 204, 0.03389830508474576),\n",
       " (827, 1176, 0.04),\n",
       " (1024, 369, 0.03125),\n",
       " (4124, 3583, 0.0)]"
      ]
     },
     "execution_count": 129,
     "metadata": {},
     "output_type": "execute_result"
    }
   ],
   "source": [
    "# Calculate Jaccard Measure for training edges\n",
    "train_jac = list(nx.jaccard_coefficient(trainG, train_sample.T.numpy()))\n",
    "train_jac[0:10]"
   ]
  },
  {
   "cell_type": "code",
   "execution_count": 130,
   "id": "e3d1ca32",
   "metadata": {
    "colab": {
     "base_uri": "https://localhost:8080/"
    },
    "executionInfo": {
     "elapsed": 697,
     "status": "ok",
     "timestamp": 1682319513448,
     "user": {
      "displayName": "徐锦雯",
      "userId": "07523249921587303598"
     },
     "user_tz": -480
    },
    "id": "e3d1ca32",
    "outputId": "97d628d3-74f0-4f1c-f671-b424ceebe669"
   },
   "outputs": [
    {
     "data": {
      "text/plain": [
       "[(1299, 553, 0.0),\n",
       " (63, 2002, 0.0),\n",
       " (780, 160, 0.0425531914893617),\n",
       " (79, 3450, 0.011235955056179775),\n",
       " (160, 578, 0.0),\n",
       " (341, 1405, 0.02127659574468085),\n",
       " (951, 403, 0.0),\n",
       " (91, 902, 0.043478260869565216),\n",
       " (1339, 3275, 0.0),\n",
       " (1757, 2843, 0.0975609756097561)]"
      ]
     },
     "execution_count": 130,
     "metadata": {},
     "output_type": "execute_result"
    }
   ],
   "source": [
    "# Calculate Jaccard Measure for supervision (test) edges\n",
    "test_jac = list(nx.jaccard_coefficient(trainG, test_sample.T.numpy()))\n",
    "test_jac[0:10]"
   ]
  },
  {
   "cell_type": "code",
   "execution_count": 131,
   "id": "76ab1641",
   "metadata": {
    "colab": {
     "base_uri": "https://localhost:8080/",
     "height": 424
    },
    "executionInfo": {
     "elapsed": 577,
     "status": "ok",
     "timestamp": 1682319514024,
     "user": {
      "displayName": "徐锦雯",
      "userId": "07523249921587303598"
     },
     "user_tz": -480
    },
    "id": "76ab1641",
    "outputId": "2104f5fb-0589-4dfa-95f2-fa7f27c6e9e9"
   },
   "outputs": [
    {
     "data": {
      "text/html": [
       "<div>\n",
       "<style scoped>\n",
       "    .dataframe tbody tr th:only-of-type {\n",
       "        vertical-align: middle;\n",
       "    }\n",
       "\n",
       "    .dataframe tbody tr th {\n",
       "        vertical-align: top;\n",
       "    }\n",
       "\n",
       "    .dataframe thead th {\n",
       "        text-align: right;\n",
       "    }\n",
       "</style>\n",
       "<table border=\"1\" class=\"dataframe\">\n",
       "  <thead>\n",
       "    <tr style=\"text-align: right;\">\n",
       "      <th></th>\n",
       "      <th>Artist1</th>\n",
       "      <th>Artist2</th>\n",
       "      <th>Jaccard</th>\n",
       "    </tr>\n",
       "  </thead>\n",
       "  <tbody>\n",
       "    <tr>\n",
       "      <th>0</th>\n",
       "      <td>2543</td>\n",
       "      <td>4612</td>\n",
       "      <td>0.0</td>\n",
       "    </tr>\n",
       "    <tr>\n",
       "      <th>1</th>\n",
       "      <td>2543</td>\n",
       "      <td>4704</td>\n",
       "      <td>0.0</td>\n",
       "    </tr>\n",
       "    <tr>\n",
       "      <th>2</th>\n",
       "      <td>2900</td>\n",
       "      <td>4704</td>\n",
       "      <td>0.0</td>\n",
       "    </tr>\n",
       "    <tr>\n",
       "      <th>3</th>\n",
       "      <td>4921</td>\n",
       "      <td>4704</td>\n",
       "      <td>0.0</td>\n",
       "    </tr>\n",
       "    <tr>\n",
       "      <th>4</th>\n",
       "      <td>2543</td>\n",
       "      <td>1196</td>\n",
       "      <td>0.0</td>\n",
       "    </tr>\n",
       "    <tr>\n",
       "      <th>...</th>\n",
       "      <td>...</td>\n",
       "      <td>...</td>\n",
       "      <td>...</td>\n",
       "    </tr>\n",
       "    <tr>\n",
       "      <th>82829</th>\n",
       "      <td>1319</td>\n",
       "      <td>5234</td>\n",
       "      <td>0.0</td>\n",
       "    </tr>\n",
       "    <tr>\n",
       "      <th>82830</th>\n",
       "      <td>1176</td>\n",
       "      <td>3047</td>\n",
       "      <td>0.0</td>\n",
       "    </tr>\n",
       "    <tr>\n",
       "      <th>82831</th>\n",
       "      <td>2889</td>\n",
       "      <td>1408</td>\n",
       "      <td>0.0</td>\n",
       "    </tr>\n",
       "    <tr>\n",
       "      <th>82832</th>\n",
       "      <td>3136</td>\n",
       "      <td>1724</td>\n",
       "      <td>0.0</td>\n",
       "    </tr>\n",
       "    <tr>\n",
       "      <th>82833</th>\n",
       "      <td>643</td>\n",
       "      <td>2531</td>\n",
       "      <td>0.0</td>\n",
       "    </tr>\n",
       "  </tbody>\n",
       "</table>\n",
       "<p>82834 rows × 3 columns</p>\n",
       "</div>"
      ],
      "text/plain": [
       "       Artist1  Artist2  Jaccard\n",
       "0         2543     4612      0.0\n",
       "1         2543     4704      0.0\n",
       "2         2900     4704      0.0\n",
       "3         4921     4704      0.0\n",
       "4         2543     1196      0.0\n",
       "...        ...      ...      ...\n",
       "82829     1319     5234      0.0\n",
       "82830     1176     3047      0.0\n",
       "82831     2889     1408      0.0\n",
       "82832     3136     1724      0.0\n",
       "82833      643     2531      0.0\n",
       "\n",
       "[82834 rows x 3 columns]"
      ]
     },
     "execution_count": 131,
     "metadata": {},
     "output_type": "execute_result"
    }
   ],
   "source": [
    "df = pd.DataFrame(jac, columns =['Artist1', 'Artist2', 'Jaccard'])\n",
    "df"
   ]
  },
  {
   "cell_type": "code",
   "execution_count": 132,
   "id": "6a8cbd44",
   "metadata": {
    "colab": {
     "base_uri": "https://localhost:8080/",
     "height": 424
    },
    "executionInfo": {
     "elapsed": 978,
     "status": "ok",
     "timestamp": 1682319515000,
     "user": {
      "displayName": "徐锦雯",
      "userId": "07523249921587303598"
     },
     "user_tz": -480
    },
    "id": "6a8cbd44",
    "outputId": "16125616-6f5e-4ab4-c554-223a4b5100d0"
   },
   "outputs": [
    {
     "data": {
      "text/html": [
       "<div>\n",
       "<style scoped>\n",
       "    .dataframe tbody tr th:only-of-type {\n",
       "        vertical-align: middle;\n",
       "    }\n",
       "\n",
       "    .dataframe tbody tr th {\n",
       "        vertical-align: top;\n",
       "    }\n",
       "\n",
       "    .dataframe thead th {\n",
       "        text-align: right;\n",
       "    }\n",
       "</style>\n",
       "<table border=\"1\" class=\"dataframe\">\n",
       "  <thead>\n",
       "    <tr style=\"text-align: right;\">\n",
       "      <th></th>\n",
       "      <th>Artist1</th>\n",
       "      <th>Artist2</th>\n",
       "      <th>Jaccard</th>\n",
       "    </tr>\n",
       "  </thead>\n",
       "  <tbody>\n",
       "    <tr>\n",
       "      <th>0</th>\n",
       "      <td>368</td>\n",
       "      <td>976</td>\n",
       "      <td>0.031250</td>\n",
       "    </tr>\n",
       "    <tr>\n",
       "      <th>1</th>\n",
       "      <td>670</td>\n",
       "      <td>688</td>\n",
       "      <td>0.000000</td>\n",
       "    </tr>\n",
       "    <tr>\n",
       "      <th>2</th>\n",
       "      <td>995</td>\n",
       "      <td>1138</td>\n",
       "      <td>0.055556</td>\n",
       "    </tr>\n",
       "    <tr>\n",
       "      <th>3</th>\n",
       "      <td>2257</td>\n",
       "      <td>38</td>\n",
       "      <td>0.000000</td>\n",
       "    </tr>\n",
       "    <tr>\n",
       "      <th>4</th>\n",
       "      <td>976</td>\n",
       "      <td>5150</td>\n",
       "      <td>0.142857</td>\n",
       "    </tr>\n",
       "    <tr>\n",
       "      <th>...</th>\n",
       "      <td>...</td>\n",
       "      <td>...</td>\n",
       "      <td>...</td>\n",
       "    </tr>\n",
       "    <tr>\n",
       "      <th>57977</th>\n",
       "      <td>3424</td>\n",
       "      <td>2602</td>\n",
       "      <td>0.000000</td>\n",
       "    </tr>\n",
       "    <tr>\n",
       "      <th>57978</th>\n",
       "      <td>2022</td>\n",
       "      <td>4164</td>\n",
       "      <td>0.000000</td>\n",
       "    </tr>\n",
       "    <tr>\n",
       "      <th>57979</th>\n",
       "      <td>1828</td>\n",
       "      <td>2202</td>\n",
       "      <td>0.000000</td>\n",
       "    </tr>\n",
       "    <tr>\n",
       "      <th>57980</th>\n",
       "      <td>1738</td>\n",
       "      <td>3414</td>\n",
       "      <td>0.000000</td>\n",
       "    </tr>\n",
       "    <tr>\n",
       "      <th>57981</th>\n",
       "      <td>3753</td>\n",
       "      <td>2607</td>\n",
       "      <td>0.000000</td>\n",
       "    </tr>\n",
       "  </tbody>\n",
       "</table>\n",
       "<p>57982 rows × 3 columns</p>\n",
       "</div>"
      ],
      "text/plain": [
       "       Artist1  Artist2   Jaccard\n",
       "0          368      976  0.031250\n",
       "1          670      688  0.000000\n",
       "2          995     1138  0.055556\n",
       "3         2257       38  0.000000\n",
       "4          976     5150  0.142857\n",
       "...        ...      ...       ...\n",
       "57977     3424     2602  0.000000\n",
       "57978     2022     4164  0.000000\n",
       "57979     1828     2202  0.000000\n",
       "57980     1738     3414  0.000000\n",
       "57981     3753     2607  0.000000\n",
       "\n",
       "[57982 rows x 3 columns]"
      ]
     },
     "execution_count": 132,
     "metadata": {},
     "output_type": "execute_result"
    }
   ],
   "source": [
    "train_df = pd.DataFrame(train_jac, columns =['Artist1', 'Artist2', 'Jaccard'])\n",
    "train_df"
   ]
  },
  {
   "cell_type": "code",
   "execution_count": 133,
   "id": "57b2e111",
   "metadata": {
    "colab": {
     "base_uri": "https://localhost:8080/",
     "height": 424
    },
    "executionInfo": {
     "elapsed": 4,
     "status": "ok",
     "timestamp": 1682319515001,
     "user": {
      "displayName": "徐锦雯",
      "userId": "07523249921587303598"
     },
     "user_tz": -480
    },
    "id": "57b2e111",
    "outputId": "3d5cf85b-a6e8-4427-df4a-d7f812dde6dc"
   },
   "outputs": [
    {
     "data": {
      "text/html": [
       "<div>\n",
       "<style scoped>\n",
       "    .dataframe tbody tr th:only-of-type {\n",
       "        vertical-align: middle;\n",
       "    }\n",
       "\n",
       "    .dataframe tbody tr th {\n",
       "        vertical-align: top;\n",
       "    }\n",
       "\n",
       "    .dataframe thead th {\n",
       "        text-align: right;\n",
       "    }\n",
       "</style>\n",
       "<table border=\"1\" class=\"dataframe\">\n",
       "  <thead>\n",
       "    <tr style=\"text-align: right;\">\n",
       "      <th></th>\n",
       "      <th>Artist1</th>\n",
       "      <th>Artist2</th>\n",
       "      <th>Jaccard</th>\n",
       "    </tr>\n",
       "  </thead>\n",
       "  <tbody>\n",
       "    <tr>\n",
       "      <th>0</th>\n",
       "      <td>1299</td>\n",
       "      <td>553</td>\n",
       "      <td>0.000000</td>\n",
       "    </tr>\n",
       "    <tr>\n",
       "      <th>1</th>\n",
       "      <td>63</td>\n",
       "      <td>2002</td>\n",
       "      <td>0.000000</td>\n",
       "    </tr>\n",
       "    <tr>\n",
       "      <th>2</th>\n",
       "      <td>780</td>\n",
       "      <td>160</td>\n",
       "      <td>0.042553</td>\n",
       "    </tr>\n",
       "    <tr>\n",
       "      <th>3</th>\n",
       "      <td>79</td>\n",
       "      <td>3450</td>\n",
       "      <td>0.011236</td>\n",
       "    </tr>\n",
       "    <tr>\n",
       "      <th>4</th>\n",
       "      <td>160</td>\n",
       "      <td>578</td>\n",
       "      <td>0.000000</td>\n",
       "    </tr>\n",
       "    <tr>\n",
       "      <th>...</th>\n",
       "      <td>...</td>\n",
       "      <td>...</td>\n",
       "      <td>...</td>\n",
       "    </tr>\n",
       "    <tr>\n",
       "      <th>24847</th>\n",
       "      <td>1319</td>\n",
       "      <td>5234</td>\n",
       "      <td>0.000000</td>\n",
       "    </tr>\n",
       "    <tr>\n",
       "      <th>24848</th>\n",
       "      <td>1176</td>\n",
       "      <td>3047</td>\n",
       "      <td>0.000000</td>\n",
       "    </tr>\n",
       "    <tr>\n",
       "      <th>24849</th>\n",
       "      <td>2889</td>\n",
       "      <td>1408</td>\n",
       "      <td>0.000000</td>\n",
       "    </tr>\n",
       "    <tr>\n",
       "      <th>24850</th>\n",
       "      <td>3136</td>\n",
       "      <td>1724</td>\n",
       "      <td>0.000000</td>\n",
       "    </tr>\n",
       "    <tr>\n",
       "      <th>24851</th>\n",
       "      <td>643</td>\n",
       "      <td>2531</td>\n",
       "      <td>0.000000</td>\n",
       "    </tr>\n",
       "  </tbody>\n",
       "</table>\n",
       "<p>24852 rows × 3 columns</p>\n",
       "</div>"
      ],
      "text/plain": [
       "       Artist1  Artist2   Jaccard\n",
       "0         1299      553  0.000000\n",
       "1           63     2002  0.000000\n",
       "2          780      160  0.042553\n",
       "3           79     3450  0.011236\n",
       "4          160      578  0.000000\n",
       "...        ...      ...       ...\n",
       "24847     1319     5234  0.000000\n",
       "24848     1176     3047  0.000000\n",
       "24849     2889     1408  0.000000\n",
       "24850     3136     1724  0.000000\n",
       "24851      643     2531  0.000000\n",
       "\n",
       "[24852 rows x 3 columns]"
      ]
     },
     "execution_count": 133,
     "metadata": {},
     "output_type": "execute_result"
    }
   ],
   "source": [
    "test_df = pd.DataFrame(test_jac, columns =['Artist1', 'Artist2', 'Jaccard'])\n",
    "test_df"
   ]
  },
  {
   "cell_type": "code",
   "execution_count": 134,
   "id": "993758b5",
   "metadata": {
    "executionInfo": {
     "elapsed": 4,
     "status": "ok",
     "timestamp": 1682319515001,
     "user": {
      "displayName": "徐锦雯",
      "userId": "07523249921587303598"
     },
     "user_tz": -480
    },
    "id": "993758b5"
   },
   "outputs": [],
   "source": [
    "train_df[\"lbl\"] = train_lbls\n",
    "test_df[\"lbl\"] = test_lbls"
   ]
  },
  {
   "cell_type": "code",
   "execution_count": 135,
   "id": "JOXJp9XhBCOL",
   "metadata": {
    "colab": {
     "base_uri": "https://localhost:8080/",
     "height": 424
    },
    "executionInfo": {
     "elapsed": 3,
     "status": "ok",
     "timestamp": 1682319515428,
     "user": {
      "displayName": "徐锦雯",
      "userId": "07523249921587303598"
     },
     "user_tz": -480
    },
    "id": "JOXJp9XhBCOL",
    "outputId": "5c9f201b-bb21-41e1-e3d1-99453c309adb"
   },
   "outputs": [
    {
     "data": {
      "text/html": [
       "<div>\n",
       "<style scoped>\n",
       "    .dataframe tbody tr th:only-of-type {\n",
       "        vertical-align: middle;\n",
       "    }\n",
       "\n",
       "    .dataframe tbody tr th {\n",
       "        vertical-align: top;\n",
       "    }\n",
       "\n",
       "    .dataframe thead th {\n",
       "        text-align: right;\n",
       "    }\n",
       "</style>\n",
       "<table border=\"1\" class=\"dataframe\">\n",
       "  <thead>\n",
       "    <tr style=\"text-align: right;\">\n",
       "      <th></th>\n",
       "      <th>Jaccard</th>\n",
       "    </tr>\n",
       "  </thead>\n",
       "  <tbody>\n",
       "    <tr>\n",
       "      <th>0</th>\n",
       "      <td>0.031250</td>\n",
       "    </tr>\n",
       "    <tr>\n",
       "      <th>1</th>\n",
       "      <td>0.000000</td>\n",
       "    </tr>\n",
       "    <tr>\n",
       "      <th>2</th>\n",
       "      <td>0.055556</td>\n",
       "    </tr>\n",
       "    <tr>\n",
       "      <th>3</th>\n",
       "      <td>0.000000</td>\n",
       "    </tr>\n",
       "    <tr>\n",
       "      <th>4</th>\n",
       "      <td>0.142857</td>\n",
       "    </tr>\n",
       "    <tr>\n",
       "      <th>...</th>\n",
       "      <td>...</td>\n",
       "    </tr>\n",
       "    <tr>\n",
       "      <th>57977</th>\n",
       "      <td>0.000000</td>\n",
       "    </tr>\n",
       "    <tr>\n",
       "      <th>57978</th>\n",
       "      <td>0.000000</td>\n",
       "    </tr>\n",
       "    <tr>\n",
       "      <th>57979</th>\n",
       "      <td>0.000000</td>\n",
       "    </tr>\n",
       "    <tr>\n",
       "      <th>57980</th>\n",
       "      <td>0.000000</td>\n",
       "    </tr>\n",
       "    <tr>\n",
       "      <th>57981</th>\n",
       "      <td>0.000000</td>\n",
       "    </tr>\n",
       "  </tbody>\n",
       "</table>\n",
       "<p>57982 rows × 1 columns</p>\n",
       "</div>"
      ],
      "text/plain": [
       "        Jaccard\n",
       "0      0.031250\n",
       "1      0.000000\n",
       "2      0.055556\n",
       "3      0.000000\n",
       "4      0.142857\n",
       "...         ...\n",
       "57977  0.000000\n",
       "57978  0.000000\n",
       "57979  0.000000\n",
       "57980  0.000000\n",
       "57981  0.000000\n",
       "\n",
       "[57982 rows x 1 columns]"
      ]
     },
     "execution_count": 135,
     "metadata": {},
     "output_type": "execute_result"
    }
   ],
   "source": [
    "train_df[[\"Jaccard\"]]"
   ]
  },
  {
   "cell_type": "code",
   "execution_count": 136,
   "id": "bGUibpFcBIyk",
   "metadata": {
    "colab": {
     "base_uri": "https://localhost:8080/"
    },
    "executionInfo": {
     "elapsed": 1,
     "status": "ok",
     "timestamp": 1682319516305,
     "user": {
      "displayName": "徐锦雯",
      "userId": "07523249921587303598"
     },
     "user_tz": -480
    },
    "id": "bGUibpFcBIyk",
    "outputId": "b45aca47-873d-4f19-c3d7-faae5f9348aa"
   },
   "outputs": [
    {
     "data": {
      "text/plain": [
       "0        1.0\n",
       "1        1.0\n",
       "2        1.0\n",
       "3        1.0\n",
       "4        1.0\n",
       "        ... \n",
       "57977    0.0\n",
       "57978    0.0\n",
       "57979    0.0\n",
       "57980    0.0\n",
       "57981    0.0\n",
       "Name: lbl, Length: 57982, dtype: float64"
      ]
     },
     "execution_count": 136,
     "metadata": {},
     "output_type": "execute_result"
    }
   ],
   "source": [
    "train_df[\"lbl\"]"
   ]
  },
  {
   "cell_type": "code",
   "execution_count": 145,
   "id": "5b5d7212",
   "metadata": {
    "executionInfo": {
     "elapsed": 476387,
     "status": "ok",
     "timestamp": 1682320000884,
     "user": {
      "displayName": "徐锦雯",
      "userId": "07523249921587303598"
     },
     "user_tz": -480
    },
    "id": "5b5d7212"
   },
   "outputs": [],
   "source": [
    "# Train classifier\n",
    "jac_model1 = LogisticRegression(random_state=7).fit(train_df[[\"Jaccard\"]], train_df[\"lbl\"])\n",
    "jac_model2 = RandomForestClassifier(random_state=8).fit(train_df[[\"Jaccard\"]], train_df[\"lbl\"])\n",
    "jac_model3 = SVC(random_state=9,probability = True).fit(train_df[[\"Jaccard\"]], train_df[\"lbl\"])\n",
    "# jac_model4 = LGBMClassifier(random_state=51).fit(train_df[[\"Jaccard\"]], train_df[\"lbl\"])\n",
    "# jac_model5 = AdaBoostClassifier(random_state=61).fit(train_df[[\"Jaccard\"]], train_df[\"lbl\"])\n",
    "jac_model6 = KNeighborsClassifier().fit(train_df[[\"Jaccard\"]], train_df[\"lbl\"])\n",
    "jac_model7 = GradientBoostingClassifier().fit(train_df[[\"Jaccard\"]], train_df[\"lbl\"])\n",
    "jac_model8 = DecisionTreeClassifier().fit(train_df[[\"Jaccard\"]], train_df[\"lbl\"])"
   ]
  },
  {
   "cell_type": "code",
   "execution_count": 146,
   "id": "55615749",
   "metadata": {
    "executionInfo": {
     "elapsed": 92732,
     "status": "ok",
     "timestamp": 1682320094926,
     "user": {
      "displayName": "徐锦雯",
      "userId": "07523249921587303598"
     },
     "user_tz": -480
    },
    "id": "55615749"
   },
   "outputs": [
    {
     "name": "stderr",
     "output_type": "stream",
     "text": [
      "/Users/xujinwen/Conda/lib/python3.9/site-packages/sklearn/neighbors/_classification.py:237: FutureWarning: Unlike other reduction functions (e.g. `skew`, `kurtosis`), the default behavior of `mode` typically preserves the axis it acts along. In SciPy 1.11.0, this behavior will change: the default value of `keepdims` will become False, the `axis` over which the statistic is taken will be eliminated, and the value None will no longer be accepted. Set `keepdims` to True or False to avoid this warning.\n",
      "  mode, _ = stats.mode(_y[neigh_ind, k], axis=1)\n"
     ]
    }
   ],
   "source": [
    "# Generate predictions for test set\n",
    "preds1 = jac_model1.predict(test_df[[\"Jaccard\"]])\n",
    "probs1 = jac_model1.predict_proba(test_df[[\"Jaccard\"]])\n",
    "preds2 = jac_model2.predict(test_df[[\"Jaccard\"]])\n",
    "probs2 = jac_model2.predict_proba(test_df[[\"Jaccard\"]])\n",
    "preds3 = jac_model3.predict(test_df[[\"Jaccard\"]])\n",
    "probs3 = jac_model3.predict_proba(test_df[[\"Jaccard\"]])\n",
    "# preds4 = jac_model4.predict(test_df[[\"Jaccard\"]])\n",
    "# probs4 = jac_model4.predict_proba(test_df[[\"Jaccard\"]])\n",
    "# preds5 = jac_model5.predict(test_df[[\"Jaccard\"]])\n",
    "# probs5 = jac_model5.predict_proba(test_df[[\"Jaccard\"]])\n",
    "preds6 = jac_model6.predict(test_df[[\"Jaccard\"]])\n",
    "probs6 = jac_model6.predict_proba(test_df[[\"Jaccard\"]])\n",
    "preds7 = jac_model7.predict(test_df[[\"Jaccard\"]])\n",
    "probs7 = jac_model7.predict_proba(test_df[[\"Jaccard\"]])\n",
    "preds8 = jac_model8.predict(test_df[[\"Jaccard\"]])\n",
    "probs8 = jac_model8.predict_proba(test_df[[\"Jaccard\"]])"
   ]
  },
  {
   "cell_type": "code",
   "execution_count": 140,
   "id": "3f0e0b55",
   "metadata": {
    "colab": {
     "base_uri": "https://localhost:8080/"
    },
    "executionInfo": {
     "elapsed": 672,
     "status": "ok",
     "timestamp": 1682320307963,
     "user": {
      "displayName": "徐锦雯",
      "userId": "07523249921587303598"
     },
     "user_tz": -480
    },
    "id": "3f0e0b55",
    "outputId": "a83c0189-9b10-48b0-8470-df6d9c245faa"
   },
   "outputs": [
    {
     "name": "stdout",
     "output_type": "stream",
     "text": [
      "0.7302430387896347\n",
      "0.7456542732979238\n",
      "0.7443264123611781\n",
      "0.49979880894897794\n",
      "0.745976178979559\n",
      "0.7455335586673104\n"
     ]
    }
   ],
   "source": [
    "print(roc_auc_score(test_df[\"lbl\"], preds1))\n",
    "print(roc_auc_score(test_df[\"lbl\"], preds2))\n",
    "print(roc_auc_score(test_df[\"lbl\"], preds3))\n",
    "# print(roc_auc_score(test_df[\"lbl\"], preds4))\n",
    "# print(roc_auc_score(test_df[\"lbl\"], preds5))\n",
    "print(roc_auc_score(test_df[\"lbl\"], preds6))\n",
    "print(roc_auc_score(test_df[\"lbl\"], preds7))\n",
    "print(roc_auc_score(test_df[\"lbl\"], preds8))"
   ]
  },
  {
   "cell_type": "code",
   "execution_count": 157,
   "id": "4a738501",
   "metadata": {
    "colab": {
     "base_uri": "https://localhost:8080/"
    },
    "executionInfo": {
     "elapsed": 19,
     "status": "ok",
     "timestamp": 1682320291847,
     "user": {
      "displayName": "徐锦雯",
      "userId": "07523249921587303598"
     },
     "user_tz": -480
    },
    "id": "4a738501",
    "outputId": "d546bc84-83c1-4be5-db45-8bf71de4cf66"
   },
   "outputs": [
    {
     "name": "stdout",
     "output_type": "stream",
     "text": [
      "0.745976178979559\n",
      "0.7453323676162884\n",
      "0.745976178979559\n",
      "0.5\n",
      "0.7456542732979237\n",
      "0.744608079832609\n"
     ]
    }
   ],
   "source": [
    "print(accuracy_score(test_df[\"lbl\"], preds1))\n",
    "print(accuracy_score(test_df[\"lbl\"], preds2))\n",
    "print(accuracy_score(test_df[\"lbl\"], preds3))\n",
    "# print(accuracy_score(test_df[\"lbl\"], preds4))\n",
    "# print(accuracy_score(test_df[\"lbl\"], preds5))\n",
    "print(accuracy_score(test_df[\"lbl\"], preds6))\n",
    "print(accuracy_score(test_df[\"lbl\"], preds7))\n",
    "print(accuracy_score(test_df[\"lbl\"], preds8))"
   ]
  },
  {
   "cell_type": "code",
   "execution_count": 165,
   "id": "366bcff5",
   "metadata": {
    "colab": {
     "base_uri": "https://localhost:8080/"
    },
    "executionInfo": {
     "elapsed": 2,
     "status": "ok",
     "timestamp": 1682316090431,
     "user": {
      "displayName": "徐锦雯",
      "userId": "07523249921587303598"
     },
     "user_tz": -480
    },
    "id": "366bcff5",
    "outputId": "50b775b6-6f7b-4e9a-ea72-234418eeda2b"
   },
   "outputs": [
    {
     "name": "stdout",
     "output_type": "stream",
     "text": [
      "0.6407663650878126\n",
      "0.6693737310635639\n",
      "0.6667709963484612\n",
      "0.6697199958363692\n",
      "0.6697199958363692\n",
      "0.6665593561368209\n",
      "0.6697199958363692\n",
      "0.6691658856607311\n"
     ]
    }
   ],
   "source": [
    "print(f1_score(test_df[\"lbl\"], preds1))\n",
    "print(f1_score(test_df[\"lbl\"], preds2))\n",
    "print(f1_score(test_df[\"lbl\"], preds3))\n",
    "# print(f1_score(test_df[\"lbl\"], preds4))\n",
    "# print(f1_score(test_df[\"lbl\"], preds5))\n",
    "print(f1_score(test_df[\"lbl\"], preds6))\n",
    "print(f1_score(test_df[\"lbl\"], preds7))\n",
    "print(f1_score(test_df[\"lbl\"], preds8))"
   ]
  },
  {
   "cell_type": "markdown",
   "id": "323cb8ae",
   "metadata": {
    "id": "323cb8ae"
   },
   "source": [
    "## Link Prediction Using Adamic Adar"
   ]
  },
  {
   "cell_type": "code",
   "execution_count": 149,
   "id": "c56b9c65",
   "metadata": {
    "colab": {
     "base_uri": "https://localhost:8080/"
    },
    "executionInfo": {
     "elapsed": 4043,
     "status": "ok",
     "timestamp": 1682317439079,
     "user": {
      "displayName": "徐锦雯",
      "userId": "07523249921587303598"
     },
     "user_tz": -480
    },
    "id": "c56b9c65",
    "outputId": "6df9ad86-c83e-4c00-9160-a57b944ff5d5"
   },
   "outputs": [
    {
     "data": {
      "text/plain": [
       "[(2543, 4612, 0),\n",
       " (2543, 4704, 0),\n",
       " (2900, 4704, 0),\n",
       " (4921, 4704, 0),\n",
       " (2543, 1196, 0),\n",
       " (484, 1196, 0.2729584204093974),\n",
       " (624, 1196, 0.2442393366759723),\n",
       " (1257, 1196, 0),\n",
       " (194, 1196, 0.8441197443836421),\n",
       " (2100, 1196, 0.2227848098240302)]"
      ]
     },
     "execution_count": 149,
     "metadata": {},
     "output_type": "execute_result"
    }
   ],
   "source": [
    "adamic = list(nx.adamic_adar_index(trainG, full_sample.T.numpy()))\n",
    "adamic[0:10]"
   ]
  },
  {
   "cell_type": "code",
   "execution_count": 150,
   "id": "81ce6572",
   "metadata": {
    "colab": {
     "base_uri": "https://localhost:8080/"
    },
    "executionInfo": {
     "elapsed": 1876,
     "status": "ok",
     "timestamp": 1682317440953,
     "user": {
      "displayName": "徐锦雯",
      "userId": "07523249921587303598"
     },
     "user_tz": -480
    },
    "id": "81ce6572",
    "outputId": "a61661c3-5693-4db5-a848-eae118b26226"
   },
   "outputs": [
    {
     "data": {
      "text/plain": [
       "[(368, 976, 0.16746879082346372),\n",
       " (670, 688, 0),\n",
       " (995, 1138, 0.45511961331341866),\n",
       " (2257, 38, 0),\n",
       " (976, 5150, 0.4271990929957353),\n",
       " (35, 5584, 0),\n",
       " (1091, 204, 0.35350566634054614),\n",
       " (827, 1176, 0.23233849357411737),\n",
       " (1024, 369, 0.5581106265512472),\n",
       " (4124, 3583, 0)]"
      ]
     },
     "execution_count": 150,
     "metadata": {},
     "output_type": "execute_result"
    }
   ],
   "source": [
    "# Calculate Jaccard Measure for training edges\n",
    "train_adamic = list(nx.adamic_adar_index(trainG, train_sample.T.numpy()))\n",
    "train_adamic[0:10]"
   ]
  },
  {
   "cell_type": "code",
   "execution_count": 151,
   "id": "8dc73b94",
   "metadata": {
    "colab": {
     "base_uri": "https://localhost:8080/"
    },
    "executionInfo": {
     "elapsed": 1239,
     "status": "ok",
     "timestamp": 1682317442188,
     "user": {
      "displayName": "徐锦雯",
      "userId": "07523249921587303598"
     },
     "user_tz": -480
    },
    "id": "8dc73b94",
    "outputId": "f394402a-9eb0-4d91-db68-789945eaeb05"
   },
   "outputs": [
    {
     "data": {
      "text/plain": [
       "[(1299, 553, 0),\n",
       " (63, 2002, 0),\n",
       " (780, 160, 0.5367381638923188),\n",
       " (79, 3450, 0.23307527170850925),\n",
       " (160, 578, 0),\n",
       " (341, 1405, 0.21959311237518594),\n",
       " (951, 403, 0),\n",
       " (91, 902, 0.7213475204444817),\n",
       " (1339, 3275, 0),\n",
       " (1757, 2843, 1.9149772497927549)]"
      ]
     },
     "execution_count": 151,
     "metadata": {},
     "output_type": "execute_result"
    }
   ],
   "source": [
    "# Calculate Jaccard Measure for supervision (test) edges\n",
    "test_adamic = list(nx.adamic_adar_index(trainG, test_sample.T.numpy()))\n",
    "test_adamic[0:10]"
   ]
  },
  {
   "cell_type": "code",
   "execution_count": 152,
   "id": "342a505f",
   "metadata": {
    "colab": {
     "base_uri": "https://localhost:8080/",
     "height": 424
    },
    "executionInfo": {
     "elapsed": 3,
     "status": "ok",
     "timestamp": 1682317442188,
     "user": {
      "displayName": "徐锦雯",
      "userId": "07523249921587303598"
     },
     "user_tz": -480
    },
    "id": "342a505f",
    "outputId": "9d49e656-e113-43ee-e367-c4763498cb8e"
   },
   "outputs": [
    {
     "data": {
      "text/html": [
       "<div>\n",
       "<style scoped>\n",
       "    .dataframe tbody tr th:only-of-type {\n",
       "        vertical-align: middle;\n",
       "    }\n",
       "\n",
       "    .dataframe tbody tr th {\n",
       "        vertical-align: top;\n",
       "    }\n",
       "\n",
       "    .dataframe thead th {\n",
       "        text-align: right;\n",
       "    }\n",
       "</style>\n",
       "<table border=\"1\" class=\"dataframe\">\n",
       "  <thead>\n",
       "    <tr style=\"text-align: right;\">\n",
       "      <th></th>\n",
       "      <th>Artist1</th>\n",
       "      <th>Artist2</th>\n",
       "      <th>Adamic</th>\n",
       "    </tr>\n",
       "  </thead>\n",
       "  <tbody>\n",
       "    <tr>\n",
       "      <th>0</th>\n",
       "      <td>2543</td>\n",
       "      <td>4612</td>\n",
       "      <td>0.0</td>\n",
       "    </tr>\n",
       "    <tr>\n",
       "      <th>1</th>\n",
       "      <td>2543</td>\n",
       "      <td>4704</td>\n",
       "      <td>0.0</td>\n",
       "    </tr>\n",
       "    <tr>\n",
       "      <th>2</th>\n",
       "      <td>2900</td>\n",
       "      <td>4704</td>\n",
       "      <td>0.0</td>\n",
       "    </tr>\n",
       "    <tr>\n",
       "      <th>3</th>\n",
       "      <td>4921</td>\n",
       "      <td>4704</td>\n",
       "      <td>0.0</td>\n",
       "    </tr>\n",
       "    <tr>\n",
       "      <th>4</th>\n",
       "      <td>2543</td>\n",
       "      <td>1196</td>\n",
       "      <td>0.0</td>\n",
       "    </tr>\n",
       "    <tr>\n",
       "      <th>...</th>\n",
       "      <td>...</td>\n",
       "      <td>...</td>\n",
       "      <td>...</td>\n",
       "    </tr>\n",
       "    <tr>\n",
       "      <th>82829</th>\n",
       "      <td>1319</td>\n",
       "      <td>5234</td>\n",
       "      <td>0.0</td>\n",
       "    </tr>\n",
       "    <tr>\n",
       "      <th>82830</th>\n",
       "      <td>1176</td>\n",
       "      <td>3047</td>\n",
       "      <td>0.0</td>\n",
       "    </tr>\n",
       "    <tr>\n",
       "      <th>82831</th>\n",
       "      <td>2889</td>\n",
       "      <td>1408</td>\n",
       "      <td>0.0</td>\n",
       "    </tr>\n",
       "    <tr>\n",
       "      <th>82832</th>\n",
       "      <td>3136</td>\n",
       "      <td>1724</td>\n",
       "      <td>0.0</td>\n",
       "    </tr>\n",
       "    <tr>\n",
       "      <th>82833</th>\n",
       "      <td>643</td>\n",
       "      <td>2531</td>\n",
       "      <td>0.0</td>\n",
       "    </tr>\n",
       "  </tbody>\n",
       "</table>\n",
       "<p>82834 rows × 3 columns</p>\n",
       "</div>"
      ],
      "text/plain": [
       "       Artist1  Artist2  Adamic\n",
       "0         2543     4612     0.0\n",
       "1         2543     4704     0.0\n",
       "2         2900     4704     0.0\n",
       "3         4921     4704     0.0\n",
       "4         2543     1196     0.0\n",
       "...        ...      ...     ...\n",
       "82829     1319     5234     0.0\n",
       "82830     1176     3047     0.0\n",
       "82831     2889     1408     0.0\n",
       "82832     3136     1724     0.0\n",
       "82833      643     2531     0.0\n",
       "\n",
       "[82834 rows x 3 columns]"
      ]
     },
     "execution_count": 152,
     "metadata": {},
     "output_type": "execute_result"
    }
   ],
   "source": [
    "adamic_df = pd.DataFrame(adamic, columns =['Artist1', 'Artist2', 'Adamic'])\n",
    "#adamic_df[\"lbl\"] = lbls\n",
    "adamic_df"
   ]
  },
  {
   "cell_type": "code",
   "execution_count": 153,
   "id": "19093ee8",
   "metadata": {
    "colab": {
     "base_uri": "https://localhost:8080/",
     "height": 424
    },
    "executionInfo": {
     "elapsed": 584,
     "status": "ok",
     "timestamp": 1682317442770,
     "user": {
      "displayName": "徐锦雯",
      "userId": "07523249921587303598"
     },
     "user_tz": -480
    },
    "id": "19093ee8",
    "outputId": "4bde41d4-21b2-46bd-dba3-b05662f7c5a3"
   },
   "outputs": [
    {
     "data": {
      "text/html": [
       "<div>\n",
       "<style scoped>\n",
       "    .dataframe tbody tr th:only-of-type {\n",
       "        vertical-align: middle;\n",
       "    }\n",
       "\n",
       "    .dataframe tbody tr th {\n",
       "        vertical-align: top;\n",
       "    }\n",
       "\n",
       "    .dataframe thead th {\n",
       "        text-align: right;\n",
       "    }\n",
       "</style>\n",
       "<table border=\"1\" class=\"dataframe\">\n",
       "  <thead>\n",
       "    <tr style=\"text-align: right;\">\n",
       "      <th></th>\n",
       "      <th>Artist1</th>\n",
       "      <th>Artist2</th>\n",
       "      <th>Adamic</th>\n",
       "      <th>lbl</th>\n",
       "    </tr>\n",
       "  </thead>\n",
       "  <tbody>\n",
       "    <tr>\n",
       "      <th>0</th>\n",
       "      <td>368</td>\n",
       "      <td>976</td>\n",
       "      <td>0.167469</td>\n",
       "      <td>1.0</td>\n",
       "    </tr>\n",
       "    <tr>\n",
       "      <th>1</th>\n",
       "      <td>670</td>\n",
       "      <td>688</td>\n",
       "      <td>0.000000</td>\n",
       "      <td>1.0</td>\n",
       "    </tr>\n",
       "    <tr>\n",
       "      <th>2</th>\n",
       "      <td>995</td>\n",
       "      <td>1138</td>\n",
       "      <td>0.455120</td>\n",
       "      <td>1.0</td>\n",
       "    </tr>\n",
       "    <tr>\n",
       "      <th>3</th>\n",
       "      <td>2257</td>\n",
       "      <td>38</td>\n",
       "      <td>0.000000</td>\n",
       "      <td>1.0</td>\n",
       "    </tr>\n",
       "    <tr>\n",
       "      <th>4</th>\n",
       "      <td>976</td>\n",
       "      <td>5150</td>\n",
       "      <td>0.427199</td>\n",
       "      <td>1.0</td>\n",
       "    </tr>\n",
       "    <tr>\n",
       "      <th>...</th>\n",
       "      <td>...</td>\n",
       "      <td>...</td>\n",
       "      <td>...</td>\n",
       "      <td>...</td>\n",
       "    </tr>\n",
       "    <tr>\n",
       "      <th>57977</th>\n",
       "      <td>3424</td>\n",
       "      <td>2602</td>\n",
       "      <td>0.000000</td>\n",
       "      <td>0.0</td>\n",
       "    </tr>\n",
       "    <tr>\n",
       "      <th>57978</th>\n",
       "      <td>2022</td>\n",
       "      <td>4164</td>\n",
       "      <td>0.000000</td>\n",
       "      <td>0.0</td>\n",
       "    </tr>\n",
       "    <tr>\n",
       "      <th>57979</th>\n",
       "      <td>1828</td>\n",
       "      <td>2202</td>\n",
       "      <td>0.000000</td>\n",
       "      <td>0.0</td>\n",
       "    </tr>\n",
       "    <tr>\n",
       "      <th>57980</th>\n",
       "      <td>1738</td>\n",
       "      <td>3414</td>\n",
       "      <td>0.000000</td>\n",
       "      <td>0.0</td>\n",
       "    </tr>\n",
       "    <tr>\n",
       "      <th>57981</th>\n",
       "      <td>3753</td>\n",
       "      <td>2607</td>\n",
       "      <td>0.000000</td>\n",
       "      <td>0.0</td>\n",
       "    </tr>\n",
       "  </tbody>\n",
       "</table>\n",
       "<p>57982 rows × 4 columns</p>\n",
       "</div>"
      ],
      "text/plain": [
       "       Artist1  Artist2    Adamic  lbl\n",
       "0          368      976  0.167469  1.0\n",
       "1          670      688  0.000000  1.0\n",
       "2          995     1138  0.455120  1.0\n",
       "3         2257       38  0.000000  1.0\n",
       "4          976     5150  0.427199  1.0\n",
       "...        ...      ...       ...  ...\n",
       "57977     3424     2602  0.000000  0.0\n",
       "57978     2022     4164  0.000000  0.0\n",
       "57979     1828     2202  0.000000  0.0\n",
       "57980     1738     3414  0.000000  0.0\n",
       "57981     3753     2607  0.000000  0.0\n",
       "\n",
       "[57982 rows x 4 columns]"
      ]
     },
     "execution_count": 153,
     "metadata": {},
     "output_type": "execute_result"
    }
   ],
   "source": [
    "train_adamic_df = pd.DataFrame(train_adamic, columns =['Artist1', 'Artist2', 'Adamic'])\n",
    "train_adamic_df[\"lbl\"] = train_lbls\n",
    "train_adamic_df"
   ]
  },
  {
   "cell_type": "code",
   "execution_count": 154,
   "id": "cf5916d2",
   "metadata": {
    "colab": {
     "base_uri": "https://localhost:8080/",
     "height": 424
    },
    "executionInfo": {
     "elapsed": 4,
     "status": "ok",
     "timestamp": 1682317444240,
     "user": {
      "displayName": "徐锦雯",
      "userId": "07523249921587303598"
     },
     "user_tz": -480
    },
    "id": "cf5916d2",
    "outputId": "b196f991-a987-42f5-f866-a8c2521079cd"
   },
   "outputs": [
    {
     "data": {
      "text/html": [
       "<div>\n",
       "<style scoped>\n",
       "    .dataframe tbody tr th:only-of-type {\n",
       "        vertical-align: middle;\n",
       "    }\n",
       "\n",
       "    .dataframe tbody tr th {\n",
       "        vertical-align: top;\n",
       "    }\n",
       "\n",
       "    .dataframe thead th {\n",
       "        text-align: right;\n",
       "    }\n",
       "</style>\n",
       "<table border=\"1\" class=\"dataframe\">\n",
       "  <thead>\n",
       "    <tr style=\"text-align: right;\">\n",
       "      <th></th>\n",
       "      <th>Artist1</th>\n",
       "      <th>Artist2</th>\n",
       "      <th>Adamic</th>\n",
       "      <th>lbl</th>\n",
       "    </tr>\n",
       "  </thead>\n",
       "  <tbody>\n",
       "    <tr>\n",
       "      <th>0</th>\n",
       "      <td>1299</td>\n",
       "      <td>553</td>\n",
       "      <td>0.000000</td>\n",
       "      <td>1.0</td>\n",
       "    </tr>\n",
       "    <tr>\n",
       "      <th>1</th>\n",
       "      <td>63</td>\n",
       "      <td>2002</td>\n",
       "      <td>0.000000</td>\n",
       "      <td>1.0</td>\n",
       "    </tr>\n",
       "    <tr>\n",
       "      <th>2</th>\n",
       "      <td>780</td>\n",
       "      <td>160</td>\n",
       "      <td>0.536738</td>\n",
       "      <td>1.0</td>\n",
       "    </tr>\n",
       "    <tr>\n",
       "      <th>3</th>\n",
       "      <td>79</td>\n",
       "      <td>3450</td>\n",
       "      <td>0.233075</td>\n",
       "      <td>1.0</td>\n",
       "    </tr>\n",
       "    <tr>\n",
       "      <th>4</th>\n",
       "      <td>160</td>\n",
       "      <td>578</td>\n",
       "      <td>0.000000</td>\n",
       "      <td>1.0</td>\n",
       "    </tr>\n",
       "    <tr>\n",
       "      <th>...</th>\n",
       "      <td>...</td>\n",
       "      <td>...</td>\n",
       "      <td>...</td>\n",
       "      <td>...</td>\n",
       "    </tr>\n",
       "    <tr>\n",
       "      <th>24847</th>\n",
       "      <td>1319</td>\n",
       "      <td>5234</td>\n",
       "      <td>0.000000</td>\n",
       "      <td>0.0</td>\n",
       "    </tr>\n",
       "    <tr>\n",
       "      <th>24848</th>\n",
       "      <td>1176</td>\n",
       "      <td>3047</td>\n",
       "      <td>0.000000</td>\n",
       "      <td>0.0</td>\n",
       "    </tr>\n",
       "    <tr>\n",
       "      <th>24849</th>\n",
       "      <td>2889</td>\n",
       "      <td>1408</td>\n",
       "      <td>0.000000</td>\n",
       "      <td>0.0</td>\n",
       "    </tr>\n",
       "    <tr>\n",
       "      <th>24850</th>\n",
       "      <td>3136</td>\n",
       "      <td>1724</td>\n",
       "      <td>0.000000</td>\n",
       "      <td>0.0</td>\n",
       "    </tr>\n",
       "    <tr>\n",
       "      <th>24851</th>\n",
       "      <td>643</td>\n",
       "      <td>2531</td>\n",
       "      <td>0.000000</td>\n",
       "      <td>0.0</td>\n",
       "    </tr>\n",
       "  </tbody>\n",
       "</table>\n",
       "<p>24852 rows × 4 columns</p>\n",
       "</div>"
      ],
      "text/plain": [
       "       Artist1  Artist2    Adamic  lbl\n",
       "0         1299      553  0.000000  1.0\n",
       "1           63     2002  0.000000  1.0\n",
       "2          780      160  0.536738  1.0\n",
       "3           79     3450  0.233075  1.0\n",
       "4          160      578  0.000000  1.0\n",
       "...        ...      ...       ...  ...\n",
       "24847     1319     5234  0.000000  0.0\n",
       "24848     1176     3047  0.000000  0.0\n",
       "24849     2889     1408  0.000000  0.0\n",
       "24850     3136     1724  0.000000  0.0\n",
       "24851      643     2531  0.000000  0.0\n",
       "\n",
       "[24852 rows x 4 columns]"
      ]
     },
     "execution_count": 154,
     "metadata": {},
     "output_type": "execute_result"
    }
   ],
   "source": [
    "test_adamic_df = pd.DataFrame(test_adamic, columns =['Artist1', 'Artist2', 'Adamic'])\n",
    "test_adamic_df[\"lbl\"] = test_lbls\n",
    "test_adamic_df"
   ]
  },
  {
   "cell_type": "code",
   "execution_count": 155,
   "id": "d0da1fad",
   "metadata": {
    "executionInfo": {
     "elapsed": 3064,
     "status": "ok",
     "timestamp": 1682317959290,
     "user": {
      "displayName": "徐锦雯",
      "userId": "07523249921587303598"
     },
     "user_tz": -480
    },
    "id": "d0da1fad",
    "scrolled": true
   },
   "outputs": [],
   "source": [
    "# Train model\n",
    "adamic_model1 = LogisticRegression(random_state=3).fit(train_adamic_df[[\"Adamic\"]], train_adamic_df[\"lbl\"])\n",
    "adamic_model2 = RandomForestClassifier(random_state=13).fit(train_adamic_df[[\"Adamic\"]], train_adamic_df[\"lbl\"])\n",
    "adamic_model3 = SVC(random_state=13,probability = True).fit(train_adamic_df[[\"Adamic\"]], train_adamic_df[\"lbl\"])\n",
    "# adamic_model4 = LGBMClassifier(random_state=0).fit(train_adamic_df[[\"Adamic\"]], train_adamic_df[\"lbl\"])\n",
    "# adamic_model5 = AdaBoostClassifier(random_state=13).fit(train_adamic_df[[\"Adamic\"]], train_adamic_df[\"lbl\"])\n",
    "adamic_model6 = KNeighborsClassifier().fit(train_adamic_df[[\"Adamic\"]], train_adamic_df[\"lbl\"])\n",
    "adamic_model7 = GradientBoostingClassifier().fit(train_adamic_df[[\"Adamic\"]], train_adamic_df[\"lbl\"])\n",
    "adamic_model8 = DecisionTreeClassifier().fit(train_adamic_df[[\"Adamic\"]], train_adamic_df[\"lbl\"])"
   ]
  },
  {
   "cell_type": "code",
   "execution_count": 156,
   "id": "a8f829fa",
   "metadata": {
    "executionInfo": {
     "elapsed": 98277,
     "status": "ok",
     "timestamp": 1682318141871,
     "user": {
      "displayName": "徐锦雯",
      "userId": "07523249921587303598"
     },
     "user_tz": -480
    },
    "id": "a8f829fa"
   },
   "outputs": [
    {
     "name": "stderr",
     "output_type": "stream",
     "text": [
      "/Users/xujinwen/Conda/lib/python3.9/site-packages/sklearn/neighbors/_classification.py:237: FutureWarning: Unlike other reduction functions (e.g. `skew`, `kurtosis`), the default behavior of `mode` typically preserves the axis it acts along. In SciPy 1.11.0, this behavior will change: the default value of `keepdims` will become False, the `axis` over which the statistic is taken will be eliminated, and the value None will no longer be accepted. Set `keepdims` to True or False to avoid this warning.\n",
      "  mode, _ = stats.mode(_y[neigh_ind, k], axis=1)\n"
     ]
    }
   ],
   "source": [
    "# Generate predictions for test set\n",
    "preds1 = adamic_model1.predict(test_adamic_df[[\"Adamic\"]])\n",
    "probs1 = adamic_model1.predict_proba(test_adamic_df[[\"Adamic\"]])\n",
    "preds2 = adamic_model2.predict(test_adamic_df[[\"Adamic\"]])\n",
    "probs2 = adamic_model2.predict_proba(test_adamic_df[[\"Adamic\"]])\n",
    "preds3 = adamic_model3.predict(test_adamic_df[[\"Adamic\"]])\n",
    "probs3 = adamic_model3.predict_proba(test_adamic_df[[\"Adamic\"]])\n",
    "# preds4 = adamic_model4.predict(test_adamic_df[[\"Adamic\"]])\n",
    "# probs4 = adamic_model4.predict_proba(test_adamic_df[[\"Adamic\"]])\n",
    "# preds5 = adamic_model5.predict(test_adamic_df[[\"Adamic\"]])\n",
    "# probs5 = adamic_model5.predict_proba(test_adamic_df[[\"Adamic\"]])\n",
    "preds6 = adamic_model6.predict(test_adamic_df[[\"Adamic\"]])\n",
    "probs6 = adamic_model6.predict_proba(test_adamic_df[[\"Adamic\"]])\n",
    "preds7 = adamic_model7.predict(test_adamic_df[[\"Adamic\"]])\n",
    "probs7 = adamic_model7.predict_proba(test_adamic_df[[\"Adamic\"]])\n",
    "preds8 = adamic_model8.predict(test_adamic_df[[\"Adamic\"]])\n",
    "probs8 = adamic_model8.predict_proba(test_adamic_df[[\"Adamic\"]])"
   ]
  },
  {
   "cell_type": "code",
   "execution_count": null,
   "id": "812aef39",
   "metadata": {
    "colab": {
     "base_uri": "https://localhost:8080/"
    },
    "executionInfo": {
     "elapsed": 25,
     "status": "ok",
     "timestamp": 1682309322404,
     "user": {
      "displayName": "徐锦雯",
      "userId": "07523249921587303598"
     },
     "user_tz": -480
    },
    "id": "812aef39",
    "outputId": "ff4c9c3c-154d-47fb-e6aa-864b4667ce7b"
   },
   "outputs": [
    {
     "name": "stdout",
     "output_type": "stream",
     "text": [
      "0.7451714147754708\n",
      "0.744406888781587\n",
      "0.7451714147754708\n",
      "0.7451714147754708\n",
      "0.7451714147754708\n",
      "0.49995976178979556\n",
      "0.7447287944632223\n",
      "0.7433606953162724\n"
     ]
    }
   ],
   "source": [
    "print(accuracy_score(test_adamic_df[[\"lbl\"]], preds1))\n",
    "print(accuracy_score(test_adamic_df[[\"lbl\"]], preds2))\n",
    "print(accuracy_score(test_adamic_df[[\"lbl\"]], preds3))\n",
    "# print(accuracy_score(test_adamic_df[[\"lbl\"]], preds4))\n",
    "# print(accuracy_score(test_adamic_df[[\"lbl\"]], preds5))\n",
    "print(accuracy_score(test_adamic_df[[\"lbl\"]], preds6))\n",
    "print(accuracy_score(test_adamic_df[[\"lbl\"]], preds7))\n",
    "print(accuracy_score(test_adamic_df[[\"lbl\"]], preds8))"
   ]
  },
  {
   "cell_type": "code",
   "execution_count": 186,
   "id": "f51e2717",
   "metadata": {
    "colab": {
     "base_uri": "https://localhost:8080/"
    },
    "executionInfo": {
     "elapsed": 1053,
     "status": "ok",
     "timestamp": 1682318244400,
     "user": {
      "displayName": "徐锦雯",
      "userId": "07523249921587303598"
     },
     "user_tz": -480
    },
    "id": "f51e2717",
    "outputId": "180ec033-4e4c-40e4-f946-22b13ea354d3"
   },
   "outputs": [
    {
     "name": "stdout",
     "output_type": "stream",
     "text": [
      "0.7446483180428135\n",
      "0.7432802188958635\n",
      "0.7446483180428135\n",
      "0.7446483180428135\n",
      "0.744608079832609\n",
      "0.5\n",
      "0.7437630774183165\n",
      "0.7429985514244327\n"
     ]
    }
   ],
   "source": [
    "print(roc_auc_score(test_adamic_df[[\"lbl\"]], preds1))\n",
    "print(roc_auc_score(test_adamic_df[[\"lbl\"]], preds2))\n",
    "print(roc_auc_score(test_adamic_df[[\"lbl\"]], preds3))\n",
    "# print(roc_auc_score(test_adamic_df[[\"lbl\"]], preds4))\n",
    "# print(roc_auc_score(test_adamic_df[[\"lbl\"]], preds5))\n",
    "print(roc_auc_score(test_adamic_df[[\"lbl\"]], preds6))\n",
    "print(roc_auc_score(test_adamic_df[[\"lbl\"]], preds7))\n",
    "print(roc_auc_score(test_adamic_df[[\"lbl\"]], preds8))"
   ]
  },
  {
   "cell_type": "code",
   "execution_count": null,
   "id": "814162b0",
   "metadata": {
    "colab": {
     "base_uri": "https://localhost:8080/"
    },
    "executionInfo": {
     "elapsed": 432,
     "status": "ok",
     "timestamp": 1682309322833,
     "user": {
      "displayName": "徐锦雯",
      "userId": "07523249921587303598"
     },
     "user_tz": -480
    },
    "id": "814162b0",
    "outputId": "fd058396-46d7-4353-f772-65699349885b"
   },
   "outputs": [
    {
     "name": "stdout",
     "output_type": "stream",
     "text": [
      "0.6701734284672674\n",
      "0.6687871519449369\n",
      "0.6701734284672674\n",
      "0.6701734284672674\n",
      "0.6701734284672674\n",
      "0.6666308984092068\n",
      "0.6694111516414799\n",
      "0.6669799498746867\n"
     ]
    }
   ],
   "source": [
    "print(f1_score(test_adamic_df[[\"lbl\"]], preds1))\n",
    "print(f1_score(test_adamic_df[[\"lbl\"]], preds2))\n",
    "print(f1_score(test_adamic_df[[\"lbl\"]], preds3))\n",
    "# print(f1_score(test_adamic_df[[\"lbl\"]], preds4))\n",
    "# print(f1_score(test_adamic_df[[\"lbl\"]], preds5))\n",
    "print(f1_score(test_adamic_df[[\"lbl\"]], preds6))\n",
    "print(f1_score(test_adamic_df[[\"lbl\"]], preds7))\n",
    "print(f1_score(test_adamic_df[[\"lbl\"]], preds8))"
   ]
  },
  {
   "cell_type": "markdown",
   "id": "4c003c3a",
   "metadata": {
    "id": "4c003c3a"
   },
   "source": [
    "## Link Prediction with GNN"
   ]
  },
  {
   "cell_type": "code",
   "execution_count": null,
   "id": "bf432346",
   "metadata": {
    "colab": {
     "base_uri": "https://localhost:8080/"
    },
    "executionInfo": {
     "elapsed": 7,
     "status": "ok",
     "timestamp": 1682309322833,
     "user": {
      "displayName": "徐锦雯",
      "userId": "07523249921587303598"
     },
     "user_tz": -480
    },
    "id": "bf432346",
    "outputId": "f63f0c08-5627-4f75-9981-8daee5362989"
   },
   "outputs": [
    {
     "data": {
      "text/plain": [
       "device(type='cpu')"
      ]
     },
     "execution_count": 89,
     "metadata": {},
     "output_type": "execute_result"
    }
   ],
   "source": [
    "device = torch.device('cuda' if torch.cuda.is_available() else 'cpu')\n",
    "device"
   ]
  },
  {
   "cell_type": "code",
   "execution_count": null,
   "id": "Ur0Yfoxg9vNW",
   "metadata": {
    "id": "Ur0Yfoxg9vNW"
   },
   "outputs": [],
   "source": [
    "node_attrs_1 = torch.tensor(node_df[features_1].values, dtype=torch.float)\n",
    "graph_1 = Data(x=node_attrs_1, edge_index=edges.t().contiguous())\n",
    "\n",
    "# ###\n",
    "# node_df2 = node_df.copy()\n",
    "# node_df2 = node_df2.fillna(0)\n",
    "# node_attrs_2 = torch.tensor(node_df2[features].values, dtype=torch.float)\n",
    "# graph_2 = Data(x=node_attrs_2, edge_index=edges.t().contiguous())\n",
    "# ###"
   ]
  },
  {
   "cell_type": "code",
   "execution_count": null,
   "id": "a3bfde5f",
   "metadata": {
    "colab": {
     "base_uri": "https://localhost:8080/"
    },
    "executionInfo": {
     "elapsed": 2074,
     "status": "ok",
     "timestamp": 1682309324902,
     "user": {
      "displayName": "徐锦雯",
      "userId": "07523249921587303598"
     },
     "user_tz": -480
    },
    "id": "a3bfde5f",
    "outputId": "1f6bdcf7-768c-4a94-d090-74be0e7926c1"
   },
   "outputs": [
    {
     "name": "stderr",
     "output_type": "stream",
     "text": [
      "/usr/local/lib/python3.9/dist-packages/torch_geometric/deprecation.py:22: UserWarning: 'train_test_split_edges' is deprecated, use 'transforms.RandomLinkSplit' instead\n",
      "  warnings.warn(out)\n"
     ]
    }
   ],
   "source": [
    "# Note: Run GNN workflow last as it changes the original pytorch geoemetric graph object\n",
    "data = train_test_split_edges(graph_1, val_ratio=0.1, test_ratio=0.2) # Employ 70-10-20 train, validation, test split"
   ]
  },
  {
   "cell_type": "code",
   "execution_count": null,
   "id": "003bca0c",
   "metadata": {
    "id": "003bca0c"
   },
   "outputs": [],
   "source": [
    "class Net(torch.nn.Module):\n",
    "    def __init__(self):\n",
    "        super(Net, self).__init__()\n",
    "        self.conv1 = GCNConv(data.num_features, 128)\n",
    "        self.bn1 = torch.nn.BatchNorm1d(128)\n",
    "        self.conv2 = GCNConv(128, 64)\n",
    "        self.bn2 = torch.nn.BatchNorm1d(64)\n",
    "\n",
    "    def encode(self):\n",
    "        x = self.conv1(data.x, data.train_pos_edge_index) # convolution 1\n",
    "        x = x.relu()\n",
    "        return self.conv2(x, data.train_pos_edge_index) # convolution 2\n",
    "\n",
    "    def decode(self, z, pos_edge_index, neg_edge_index): # only pos and neg edges\n",
    "        edge_index = torch.cat([pos_edge_index, neg_edge_index], dim=-1) # concatenate pos and neg edges\n",
    "        logits = (z[edge_index[0]] * z[edge_index[1]]).sum(dim=-1)  # dot product \n",
    "        return logits\n",
    "\n",
    "    def decode_all(self, z): \n",
    "        prob_adj = z @ z.t() # get adj NxN\n",
    "        return (prob_adj > 0).nonzero(as_tuple=False).t() # get predicted edge_list "
   ]
  },
  {
   "cell_type": "code",
   "execution_count": null,
   "id": "e7efffdb",
   "metadata": {
    "id": "e7efffdb"
   },
   "outputs": [],
   "source": [
    "model, data = Net().to(device), data.to(device)\n",
    "#optimizer = torch.optim.Adam(params=model.parameters(), lr=0.01)\n",
    "optimizer = torch.optim.AdamW(params=model.parameters(), lr=0.01, weight_decay = 0.01)"
   ]
  },
  {
   "cell_type": "code",
   "execution_count": null,
   "id": "003aa3b8",
   "metadata": {
    "id": "003aa3b8"
   },
   "outputs": [],
   "source": [
    "def get_link_labels(pos_edge_index, neg_edge_index):\n",
    "    # returns a tensor:\n",
    "    # [1,1,1,1,...,0,0,0,0,0,..] with the number of ones is equel to the lenght of pos_edge_index\n",
    "    # and the number of zeros is equal to the length of neg_edge_index\n",
    "    E = pos_edge_index.size(1) + neg_edge_index.size(1)\n",
    "    link_labels = torch.zeros(E, dtype=torch.float, device=device)\n",
    "    link_labels[:pos_edge_index.size(1)] = 1.\n",
    "    return link_labels\n",
    "\n",
    "\n",
    "def train():\n",
    "    model.train()\n",
    "\n",
    "    neg_edge_index = negative_sampling(\n",
    "        edge_index=data.train_pos_edge_index, #positive edges\n",
    "        num_nodes=data.num_nodes, # number of nodes\n",
    "        num_neg_samples=data.train_pos_edge_index.size(1)) # number of neg_sample equal to number of pos_edges\n",
    "\n",
    "    optimizer.zero_grad()\n",
    "    \n",
    "    z = model.encode() #encode\n",
    "    link_logits = model.decode(z, data.train_pos_edge_index, neg_edge_index) # decode\n",
    "    \n",
    "    link_labels = get_link_labels(data.train_pos_edge_index, neg_edge_index)\n",
    "    loss = F.binary_cross_entropy_with_logits(link_logits, link_labels) \n",
    "    loss.backward()\n",
    "    optimizer.step()\n",
    "\n",
    "    return loss"
   ]
  },
  {
   "cell_type": "code",
   "execution_count": null,
   "id": "49d56f12",
   "metadata": {
    "id": "49d56f12"
   },
   "outputs": [],
   "source": [
    "@torch.no_grad()\n",
    "def test():\n",
    "    model.eval()\n",
    "    perfs = []\n",
    "    for prefix in [\"val\", \"test\"]:\n",
    "        pos_edge_index = data[f'{prefix}_pos_edge_index']\n",
    "        neg_edge_index = data[f'{prefix}_neg_edge_index']\n",
    "\n",
    "        z = model.encode() # encode train\n",
    "        link_logits = model.decode(z, pos_edge_index, neg_edge_index) # decode test or val\n",
    "        link_probs = link_logits.sigmoid() # apply sigmoid\n",
    "        link_preds = []\n",
    "        for p in link_probs: # Generate predictions based on the probability\n",
    "            if p>=0.6:\n",
    "                link_preds.append(1)\n",
    "            else:\n",
    "                link_preds.append(0)\n",
    "        \n",
    "        link_labels = get_link_labels(pos_edge_index, neg_edge_index) # get link\n",
    "        \n",
    "        perfs.append(roc_auc_score(link_labels.cpu(), link_probs.cpu())) #compute roc_auc score  \n",
    "        perfs.append(accuracy_score(link_labels.cpu(), link_preds)) # compute accuracy\n",
    "        perfs.append(f1_score(link_labels.cpu(), link_preds)) # compute f1 score\n",
    "    return perfs"
   ]
  },
  {
   "cell_type": "code",
   "execution_count": null,
   "id": "85dee216",
   "metadata": {
    "colab": {
     "base_uri": "https://localhost:8080/"
    },
    "executionInfo": {
     "elapsed": 971518,
     "status": "ok",
     "timestamp": 1682310296417,
     "user": {
      "displayName": "徐锦雯",
      "userId": "07523249921587303598"
     },
     "user_tz": -480
    },
    "id": "85dee216",
    "outputId": "f6a193ca-05ed-457d-84e8-3642ca216ef2"
   },
   "outputs": [
    {
     "name": "stdout",
     "output_type": "stream",
     "text": [
      "Epoch: 050, Loss: 0.8642, Val: 0.8468, Test: 0.8481, Test Acc: 0.5314, Test F1: 0.6809\n",
      "Epoch: 100, Loss: 0.6041, Val: 0.8468, Test: 0.8481, Test Acc: 0.5314, Test F1: 0.6809\n",
      "Epoch: 150, Loss: 0.5783, Val: 0.8468, Test: 0.8481, Test Acc: 0.5314, Test F1: 0.6809\n",
      "Epoch: 200, Loss: 0.5657, Val: 0.8509, Test: 0.8539, Test Acc: 0.7811, Test F1: 0.7990\n",
      "Epoch: 250, Loss: 0.5602, Val: 0.8596, Test: 0.8629, Test Acc: 0.7886, Test F1: 0.8052\n",
      "Epoch: 300, Loss: 0.5517, Val: 0.8666, Test: 0.8699, Test Acc: 0.7964, Test F1: 0.8115\n",
      "Epoch: 350, Loss: 0.5446, Val: 0.8727, Test: 0.8760, Test Acc: 0.8014, Test F1: 0.8155\n",
      "Epoch: 400, Loss: 0.5390, Val: 0.8780, Test: 0.8810, Test Acc: 0.8071, Test F1: 0.8201\n",
      "Epoch: 450, Loss: 0.5350, Val: 0.8830, Test: 0.8857, Test Acc: 0.8103, Test F1: 0.8232\n",
      "Epoch: 500, Loss: 0.5285, Val: 0.8870, Test: 0.8893, Test Acc: 0.8143, Test F1: 0.8266\n",
      "Epoch: 550, Loss: 0.5229, Val: 0.8903, Test: 0.8924, Test Acc: 0.8179, Test F1: 0.8299\n",
      "Epoch: 600, Loss: 0.5196, Val: 0.8932, Test: 0.8950, Test Acc: 0.8201, Test F1: 0.8316\n",
      "Epoch: 650, Loss: 0.5153, Val: 0.8961, Test: 0.8977, Test Acc: 0.8217, Test F1: 0.8333\n",
      "Epoch: 700, Loss: 0.5130, Val: 0.8982, Test: 0.8998, Test Acc: 0.8233, Test F1: 0.8346\n",
      "Epoch: 750, Loss: 0.5098, Val: 0.9005, Test: 0.9021, Test Acc: 0.8232, Test F1: 0.8350\n",
      "Epoch: 800, Loss: 0.5038, Val: 0.9021, Test: 0.9036, Test Acc: 0.8231, Test F1: 0.8351\n",
      "Epoch: 850, Loss: 0.5000, Val: 0.9036, Test: 0.9052, Test Acc: 0.8245, Test F1: 0.8367\n",
      "Epoch: 900, Loss: 0.4989, Val: 0.9048, Test: 0.9063, Test Acc: 0.8242, Test F1: 0.8367\n",
      "Epoch: 950, Loss: 0.4971, Val: 0.9063, Test: 0.9078, Test Acc: 0.8241, Test F1: 0.8373\n",
      "Epoch: 1000, Loss: 0.4964, Val: 0.9074, Test: 0.9088, Test Acc: 0.8243, Test F1: 0.8377\n",
      "Epoch: 1050, Loss: 0.4928, Val: 0.9084, Test: 0.9098, Test Acc: 0.8231, Test F1: 0.8368\n",
      "Epoch: 1100, Loss: 0.4925, Val: 0.9092, Test: 0.9104, Test Acc: 0.8235, Test F1: 0.8370\n",
      "Epoch: 1150, Loss: 0.4892, Val: 0.9100, Test: 0.9111, Test Acc: 0.8242, Test F1: 0.8379\n",
      "Epoch: 1200, Loss: 0.4875, Val: 0.9108, Test: 0.9119, Test Acc: 0.8241, Test F1: 0.8381\n",
      "Epoch: 1250, Loss: 0.4869, Val: 0.9117, Test: 0.9127, Test Acc: 0.8245, Test F1: 0.8384\n",
      "Epoch: 1300, Loss: 0.4850, Val: 0.9123, Test: 0.9132, Test Acc: 0.8254, Test F1: 0.8394\n",
      "Epoch: 1350, Loss: 0.4823, Val: 0.9129, Test: 0.9137, Test Acc: 0.8268, Test F1: 0.8407\n",
      "Epoch: 1400, Loss: 0.4851, Val: 0.9137, Test: 0.9144, Test Acc: 0.8261, Test F1: 0.8401\n",
      "Epoch: 1450, Loss: 0.4843, Val: 0.9145, Test: 0.9151, Test Acc: 0.8263, Test F1: 0.8404\n",
      "Epoch: 1500, Loss: 0.4828, Val: 0.9148, Test: 0.9154, Test Acc: 0.8269, Test F1: 0.8408\n",
      "Epoch: 1550, Loss: 0.4826, Val: 0.9155, Test: 0.9159, Test Acc: 0.8270, Test F1: 0.8409\n",
      "Epoch: 1600, Loss: 0.4789, Val: 0.9160, Test: 0.9165, Test Acc: 0.8279, Test F1: 0.8417\n",
      "Epoch: 1650, Loss: 0.4799, Val: 0.9165, Test: 0.9169, Test Acc: 0.8285, Test F1: 0.8423\n",
      "Epoch: 1700, Loss: 0.4791, Val: 0.9172, Test: 0.9176, Test Acc: 0.8299, Test F1: 0.8435\n",
      "Epoch: 1750, Loss: 0.4813, Val: 0.9179, Test: 0.9183, Test Acc: 0.8301, Test F1: 0.8439\n",
      "Epoch: 1800, Loss: 0.4780, Val: 0.9182, Test: 0.9185, Test Acc: 0.8310, Test F1: 0.8445\n",
      "Epoch: 1850, Loss: 0.4788, Val: 0.9184, Test: 0.9187, Test Acc: 0.8319, Test F1: 0.8451\n",
      "Epoch: 1900, Loss: 0.4781, Val: 0.9191, Test: 0.9194, Test Acc: 0.8322, Test F1: 0.8455\n",
      "Epoch: 1950, Loss: 0.4770, Val: 0.9193, Test: 0.9196, Test Acc: 0.8320, Test F1: 0.8452\n",
      "Epoch: 2000, Loss: 0.4764, Val: 0.9198, Test: 0.9201, Test Acc: 0.8324, Test F1: 0.8456\n"
     ]
    }
   ],
   "source": [
    "best_val_perf = test_perf = test_acc = test_f1 = 0\n",
    "for epoch in range(1,2001):\n",
    "    train_loss = train()\n",
    "    val_perf, val_acc, val_f1, tmp_test_perf, tmp_test_acc, tmp_test_f1 = test()\n",
    "    \n",
    "    if val_perf > best_val_perf:\n",
    "        best_val_perf = val_perf\n",
    "        test_perf = tmp_test_perf\n",
    "        test_acc = tmp_test_acc\n",
    "        test_f1 = tmp_test_f1\n",
    "    log = 'Epoch: {:03d}, Loss: {:.4f}, Val: {:.4f}, Test: {:.4f}, Test Acc: {:.4f}, Test F1: {:.4f}'\n",
    "    if epoch % 50 == 0:\n",
    "        print(log.format(epoch, train_loss, best_val_perf, test_perf, test_acc, test_f1))"
   ]
  },
  {
   "cell_type": "code",
   "execution_count": null,
   "id": "3flQKW7RX0GO",
   "metadata": {
    "id": "3flQKW7RX0GO"
   },
   "outputs": [],
   "source": [
    "@torch.no_grad()\n",
    "def test():\n",
    "    model.eval()\n",
    "    perfs = []\n",
    "    for prefix in [\"val\", \"test\"]:\n",
    "        pos_edge_index = data[f'{prefix}_pos_edge_index']\n",
    "        neg_edge_index = data[f'{prefix}_neg_edge_index']\n",
    "\n",
    "        z = model.encode() # encode train\n",
    "        link_logits = model.decode(z, pos_edge_index, neg_edge_index) # decode test or val\n",
    "        link_probs = link_logits.sigmoid() # apply sigmoid\n",
    "        link_preds = []\n",
    "        for p in link_probs: # Generate predictions based on the probability\n",
    "            if p>=0.5:\n",
    "                link_preds.append(1)\n",
    "            else:\n",
    "                link_preds.append(0)\n",
    "        \n",
    "        link_labels = get_link_labels(pos_edge_index, neg_edge_index) # get link\n",
    "        \n",
    "        perfs.append(roc_auc_score(link_labels.cpu(), link_probs.cpu())) #compute roc_auc score  \n",
    "        perfs.append(accuracy_score(link_labels.cpu(), link_preds)) # compute accuracy\n",
    "        perfs.append(f1_score(link_labels.cpu(), link_preds)) # compute f1 score\n",
    "    return perfs"
   ]
  },
  {
   "cell_type": "code",
   "execution_count": null,
   "id": "bJtx57jPX2JZ",
   "metadata": {
    "colab": {
     "base_uri": "https://localhost:8080/"
    },
    "executionInfo": {
     "elapsed": 975343,
     "status": "ok",
     "timestamp": 1682311271749,
     "user": {
      "displayName": "徐锦雯",
      "userId": "07523249921587303598"
     },
     "user_tz": -480
    },
    "id": "bJtx57jPX2JZ",
    "outputId": "c78d2cd4-c9c0-40a4-8a46-7521f867e6f4"
   },
   "outputs": [
    {
     "name": "stdout",
     "output_type": "stream",
     "text": [
      "Epoch: 050, Loss: 0.4760, Val: 0.9203, Test: 0.9206, Test Acc: 0.7491, Test F1: 0.7962\n",
      "Epoch: 100, Loss: 0.4763, Val: 0.9207, Test: 0.9210, Test Acc: 0.7491, Test F1: 0.7961\n",
      "Epoch: 150, Loss: 0.4760, Val: 0.9210, Test: 0.9213, Test Acc: 0.7497, Test F1: 0.7964\n",
      "Epoch: 200, Loss: 0.4727, Val: 0.9213, Test: 0.9216, Test Acc: 0.7502, Test F1: 0.7969\n",
      "Epoch: 250, Loss: 0.4723, Val: 0.9218, Test: 0.9220, Test Acc: 0.7505, Test F1: 0.7970\n",
      "Epoch: 300, Loss: 0.4734, Val: 0.9218, Test: 0.9221, Test Acc: 0.7512, Test F1: 0.7975\n",
      "Epoch: 350, Loss: 0.4756, Val: 0.9221, Test: 0.9225, Test Acc: 0.7513, Test F1: 0.7975\n",
      "Epoch: 400, Loss: 0.4732, Val: 0.9225, Test: 0.9228, Test Acc: 0.7521, Test F1: 0.7981\n",
      "Epoch: 450, Loss: 0.4720, Val: 0.9232, Test: 0.9234, Test Acc: 0.7519, Test F1: 0.7980\n",
      "Epoch: 500, Loss: 0.4726, Val: 0.9232, Test: 0.9235, Test Acc: 0.7520, Test F1: 0.7981\n",
      "Epoch: 550, Loss: 0.4705, Val: 0.9233, Test: 0.9236, Test Acc: 0.7526, Test F1: 0.7984\n",
      "Epoch: 600, Loss: 0.4711, Val: 0.9239, Test: 0.9243, Test Acc: 0.7525, Test F1: 0.7985\n",
      "Epoch: 650, Loss: 0.4708, Val: 0.9240, Test: 0.9242, Test Acc: 0.7537, Test F1: 0.7992\n",
      "Epoch: 700, Loss: 0.4712, Val: 0.9242, Test: 0.9245, Test Acc: 0.7538, Test F1: 0.7994\n",
      "Epoch: 750, Loss: 0.4734, Val: 0.9247, Test: 0.9250, Test Acc: 0.7541, Test F1: 0.7995\n",
      "Epoch: 800, Loss: 0.4682, Val: 0.9250, Test: 0.9253, Test Acc: 0.7544, Test F1: 0.7997\n",
      "Epoch: 850, Loss: 0.4677, Val: 0.9250, Test: 0.9253, Test Acc: 0.7544, Test F1: 0.7997\n",
      "Epoch: 900, Loss: 0.4690, Val: 0.9252, Test: 0.9255, Test Acc: 0.7556, Test F1: 0.8006\n",
      "Epoch: 950, Loss: 0.4686, Val: 0.9253, Test: 0.9255, Test Acc: 0.7560, Test F1: 0.8008\n",
      "Epoch: 1000, Loss: 0.4679, Val: 0.9257, Test: 0.9260, Test Acc: 0.7562, Test F1: 0.8010\n",
      "Epoch: 1050, Loss: 0.4669, Val: 0.9259, Test: 0.9262, Test Acc: 0.7564, Test F1: 0.8012\n",
      "Epoch: 1100, Loss: 0.4679, Val: 0.9262, Test: 0.9264, Test Acc: 0.7569, Test F1: 0.8015\n",
      "Epoch: 1150, Loss: 0.4672, Val: 0.9263, Test: 0.9266, Test Acc: 0.7575, Test F1: 0.8018\n",
      "Epoch: 1200, Loss: 0.4674, Val: 0.9270, Test: 0.9272, Test Acc: 0.7579, Test F1: 0.8021\n",
      "Epoch: 1250, Loss: 0.4669, Val: 0.9271, Test: 0.9274, Test Acc: 0.7580, Test F1: 0.8022\n",
      "Epoch: 1300, Loss: 0.4687, Val: 0.9275, Test: 0.9277, Test Acc: 0.7587, Test F1: 0.8027\n",
      "Epoch: 1350, Loss: 0.4675, Val: 0.9275, Test: 0.9277, Test Acc: 0.7587, Test F1: 0.8027\n",
      "Epoch: 1400, Loss: 0.4654, Val: 0.9275, Test: 0.9277, Test Acc: 0.7587, Test F1: 0.8027\n",
      "Epoch: 1450, Loss: 0.4640, Val: 0.9278, Test: 0.9279, Test Acc: 0.7625, Test F1: 0.8051\n",
      "Epoch: 1500, Loss: 0.4636, Val: 0.9281, Test: 0.9283, Test Acc: 0.7622, Test F1: 0.8049\n",
      "Epoch: 1550, Loss: 0.4645, Val: 0.9281, Test: 0.9283, Test Acc: 0.7622, Test F1: 0.8049\n",
      "Epoch: 1600, Loss: 0.4679, Val: 0.9286, Test: 0.9287, Test Acc: 0.7635, Test F1: 0.8056\n",
      "Epoch: 1650, Loss: 0.4656, Val: 0.9288, Test: 0.9289, Test Acc: 0.7645, Test F1: 0.8063\n",
      "Epoch: 1700, Loss: 0.4642, Val: 0.9288, Test: 0.9289, Test Acc: 0.7645, Test F1: 0.8063\n",
      "Epoch: 1750, Loss: 0.4631, Val: 0.9296, Test: 0.9296, Test Acc: 0.7645, Test F1: 0.8063\n",
      "Epoch: 1800, Loss: 0.4658, Val: 0.9296, Test: 0.9296, Test Acc: 0.7645, Test F1: 0.8063\n",
      "Epoch: 1850, Loss: 0.4641, Val: 0.9298, Test: 0.9297, Test Acc: 0.7648, Test F1: 0.8064\n",
      "Epoch: 1900, Loss: 0.4627, Val: 0.9298, Test: 0.9297, Test Acc: 0.7648, Test F1: 0.8064\n",
      "Epoch: 1950, Loss: 0.4646, Val: 0.9299, Test: 0.9298, Test Acc: 0.7666, Test F1: 0.8075\n",
      "Epoch: 2000, Loss: 0.4623, Val: 0.9299, Test: 0.9298, Test Acc: 0.7666, Test F1: 0.8075\n"
     ]
    }
   ],
   "source": [
    "best_val_perf = test_perf = test_acc = test_f1 = 0\n",
    "for epoch in range(1,2001):\n",
    "    train_loss = train()\n",
    "    val_perf, val_acc, val_f1, tmp_test_perf, tmp_test_acc, tmp_test_f1 = test()\n",
    "    \n",
    "    if val_perf > best_val_perf:\n",
    "        best_val_perf = val_perf\n",
    "        test_perf = tmp_test_perf\n",
    "        test_acc = tmp_test_acc\n",
    "        test_f1 = tmp_test_f1\n",
    "    log = 'Epoch: {:03d}, Loss: {:.4f}, Val: {:.4f}, Test: {:.4f}, Test Acc: {:.4f}, Test F1: {:.4f}'\n",
    "    if epoch % 50 == 0:\n",
    "        print(log.format(epoch, train_loss, best_val_perf, test_perf, test_acc, test_f1))"
   ]
  },
  {
   "cell_type": "code",
   "execution_count": null,
   "id": "yi3XzbuuYEwv",
   "metadata": {
    "id": "yi3XzbuuYEwv"
   },
   "outputs": [],
   "source": [
    "@torch.no_grad()\n",
    "def test():\n",
    "    model.eval()\n",
    "    perfs = []\n",
    "    for prefix in [\"val\", \"test\"]:\n",
    "        pos_edge_index = data[f'{prefix}_pos_edge_index']\n",
    "        neg_edge_index = data[f'{prefix}_neg_edge_index']\n",
    "\n",
    "        z = model.encode() # encode train\n",
    "        link_logits = model.decode(z, pos_edge_index, neg_edge_index) # decode test or val\n",
    "        link_probs = link_logits.sigmoid() # apply sigmoid\n",
    "        link_preds = []\n",
    "        for p in link_probs: # Generate predictions based on the probability\n",
    "            if p>=0.4:\n",
    "                link_preds.append(1)\n",
    "            else:\n",
    "                link_preds.append(0)\n",
    "        \n",
    "        link_labels = get_link_labels(pos_edge_index, neg_edge_index) # get link\n",
    "        \n",
    "        perfs.append(roc_auc_score(link_labels.cpu(), link_probs.cpu())) #compute roc_auc score  \n",
    "        perfs.append(accuracy_score(link_labels.cpu(), link_preds)) # compute accuracy\n",
    "        perfs.append(f1_score(link_labels.cpu(), link_preds)) # compute f1 score\n",
    "    return perfs"
   ]
  },
  {
   "cell_type": "code",
   "execution_count": null,
   "id": "x-JkXJfnYE8p",
   "metadata": {
    "colab": {
     "base_uri": "https://localhost:8080/"
    },
    "executionInfo": {
     "elapsed": 985504,
     "status": "ok",
     "timestamp": 1682312257251,
     "user": {
      "displayName": "徐锦雯",
      "userId": "07523249921587303598"
     },
     "user_tz": -480
    },
    "id": "x-JkXJfnYE8p",
    "outputId": "36b51555-af8a-4a56-e1a5-a06b34ba9246"
   },
   "outputs": [
    {
     "name": "stdout",
     "output_type": "stream",
     "text": [
      "Epoch: 050, Loss: 0.4612, Val: 0.9304, Test: 0.9302, Test Acc: 0.6267, Test F1: 0.7267\n",
      "Epoch: 100, Loss: 0.4600, Val: 0.9304, Test: 0.9302, Test Acc: 0.6267, Test F1: 0.7267\n",
      "Epoch: 150, Loss: 0.4625, Val: 0.9309, Test: 0.9305, Test Acc: 0.6256, Test F1: 0.7261\n",
      "Epoch: 200, Loss: 0.4595, Val: 0.9309, Test: 0.9305, Test Acc: 0.6256, Test F1: 0.7261\n",
      "Epoch: 250, Loss: 0.4614, Val: 0.9309, Test: 0.9305, Test Acc: 0.6262, Test F1: 0.7264\n",
      "Epoch: 300, Loss: 0.4607, Val: 0.9313, Test: 0.9309, Test Acc: 0.6259, Test F1: 0.7262\n",
      "Epoch: 350, Loss: 0.4621, Val: 0.9315, Test: 0.9310, Test Acc: 0.6267, Test F1: 0.7267\n",
      "Epoch: 400, Loss: 0.4604, Val: 0.9315, Test: 0.9310, Test Acc: 0.6267, Test F1: 0.7267\n",
      "Epoch: 450, Loss: 0.4609, Val: 0.9318, Test: 0.9313, Test Acc: 0.6261, Test F1: 0.7264\n",
      "Epoch: 500, Loss: 0.4602, Val: 0.9320, Test: 0.9315, Test Acc: 0.6268, Test F1: 0.7267\n",
      "Epoch: 550, Loss: 0.4584, Val: 0.9320, Test: 0.9315, Test Acc: 0.6268, Test F1: 0.7267\n",
      "Epoch: 600, Loss: 0.4570, Val: 0.9320, Test: 0.9315, Test Acc: 0.6267, Test F1: 0.7266\n",
      "Epoch: 650, Loss: 0.4592, Val: 0.9325, Test: 0.9319, Test Acc: 0.6273, Test F1: 0.7269\n",
      "Epoch: 700, Loss: 0.4579, Val: 0.9329, Test: 0.9322, Test Acc: 0.6275, Test F1: 0.7271\n",
      "Epoch: 750, Loss: 0.4567, Val: 0.9329, Test: 0.9322, Test Acc: 0.6275, Test F1: 0.7271\n",
      "Epoch: 800, Loss: 0.4582, Val: 0.9333, Test: 0.9328, Test Acc: 0.6286, Test F1: 0.7277\n",
      "Epoch: 850, Loss: 0.4589, Val: 0.9333, Test: 0.9328, Test Acc: 0.6286, Test F1: 0.7277\n",
      "Epoch: 900, Loss: 0.4575, Val: 0.9333, Test: 0.9328, Test Acc: 0.6286, Test F1: 0.7277\n",
      "Epoch: 950, Loss: 0.4553, Val: 0.9333, Test: 0.9328, Test Acc: 0.6286, Test F1: 0.7277\n",
      "Epoch: 1000, Loss: 0.4546, Val: 0.9333, Test: 0.9328, Test Acc: 0.6286, Test F1: 0.7277\n",
      "Epoch: 1050, Loss: 0.4537, Val: 0.9336, Test: 0.9329, Test Acc: 0.6292, Test F1: 0.7279\n",
      "Epoch: 1100, Loss: 0.4553, Val: 0.9340, Test: 0.9333, Test Acc: 0.6286, Test F1: 0.7276\n",
      "Epoch: 1150, Loss: 0.4566, Val: 0.9342, Test: 0.9335, Test Acc: 0.6288, Test F1: 0.7278\n",
      "Epoch: 1200, Loss: 0.4557, Val: 0.9345, Test: 0.9339, Test Acc: 0.6280, Test F1: 0.7272\n",
      "Epoch: 1250, Loss: 0.4547, Val: 0.9345, Test: 0.9339, Test Acc: 0.6280, Test F1: 0.7272\n",
      "Epoch: 1300, Loss: 0.4544, Val: 0.9346, Test: 0.9340, Test Acc: 0.6286, Test F1: 0.7275\n",
      "Epoch: 1350, Loss: 0.4553, Val: 0.9346, Test: 0.9340, Test Acc: 0.6286, Test F1: 0.7275\n",
      "Epoch: 1400, Loss: 0.4554, Val: 0.9353, Test: 0.9348, Test Acc: 0.6270, Test F1: 0.7266\n",
      "Epoch: 1450, Loss: 0.4565, Val: 0.9353, Test: 0.9348, Test Acc: 0.6270, Test F1: 0.7266\n",
      "Epoch: 1500, Loss: 0.4543, Val: 0.9353, Test: 0.9348, Test Acc: 0.6270, Test F1: 0.7266\n",
      "Epoch: 1550, Loss: 0.4565, Val: 0.9353, Test: 0.9348, Test Acc: 0.6270, Test F1: 0.7266\n",
      "Epoch: 1600, Loss: 0.4520, Val: 0.9356, Test: 0.9351, Test Acc: 0.6293, Test F1: 0.7278\n",
      "Epoch: 1650, Loss: 0.4528, Val: 0.9356, Test: 0.9351, Test Acc: 0.6293, Test F1: 0.7278\n",
      "Epoch: 1700, Loss: 0.4531, Val: 0.9359, Test: 0.9354, Test Acc: 0.6298, Test F1: 0.7281\n",
      "Epoch: 1750, Loss: 0.4503, Val: 0.9364, Test: 0.9360, Test Acc: 0.6292, Test F1: 0.7277\n",
      "Epoch: 1800, Loss: 0.4505, Val: 0.9367, Test: 0.9363, Test Acc: 0.6297, Test F1: 0.7280\n",
      "Epoch: 1850, Loss: 0.4526, Val: 0.9367, Test: 0.9363, Test Acc: 0.6297, Test F1: 0.7280\n",
      "Epoch: 1900, Loss: 0.4525, Val: 0.9367, Test: 0.9363, Test Acc: 0.6297, Test F1: 0.7280\n",
      "Epoch: 1950, Loss: 0.4506, Val: 0.9367, Test: 0.9363, Test Acc: 0.6297, Test F1: 0.7280\n",
      "Epoch: 2000, Loss: 0.4499, Val: 0.9368, Test: 0.9364, Test Acc: 0.6283, Test F1: 0.7272\n"
     ]
    }
   ],
   "source": [
    "best_val_perf = test_perf = test_acc = test_f1 = 0\n",
    "for epoch in range(1,2001):\n",
    "    train_loss = train()\n",
    "    val_perf, val_acc, val_f1, tmp_test_perf, tmp_test_acc, tmp_test_f1 = test()\n",
    "    \n",
    "    if val_perf > best_val_perf:\n",
    "        best_val_perf = val_perf\n",
    "        test_perf = tmp_test_perf\n",
    "        test_acc = tmp_test_acc\n",
    "        test_f1 = tmp_test_f1\n",
    "    log = 'Epoch: {:03d}, Loss: {:.4f}, Val: {:.4f}, Test: {:.4f}, Test Acc: {:.4f}, Test F1: {:.4f}'\n",
    "    if epoch % 50 == 0:\n",
    "        print(log.format(epoch, train_loss, best_val_perf, test_perf, test_acc, test_f1))"
   ]
  }
 ],
 "metadata": {
  "accelerator": "TPU",
  "colab": {
   "provenance": [],
   "toc_visible": true
  },
  "gpuClass": "standard",
  "kernelspec": {
   "display_name": "Python 3 (ipykernel)",
   "language": "python",
   "name": "python3"
  },
  "language_info": {
   "codemirror_mode": {
    "name": "ipython",
    "version": 3
   },
   "file_extension": ".py",
   "mimetype": "text/x-python",
   "name": "python",
   "nbconvert_exporter": "python",
   "pygments_lexer": "ipython3",
   "version": "3.9.13"
  }
 },
 "nbformat": 4,
 "nbformat_minor": 5
}
